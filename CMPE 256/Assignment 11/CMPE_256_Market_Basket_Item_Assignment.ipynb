{
  "nbformat": 4,
  "nbformat_minor": 0,
  "metadata": {
    "colab": {
      "name": "CMPE_256_Market_Basket_Item_Assignment.ipynb",
      "provenance": [],
      "collapsed_sections": [],
      "include_colab_link": true
    },
    "kernelspec": {
      "name": "python3",
      "display_name": "Python 3"
    },
    "language_info": {
      "name": "python"
    },
    "accelerator": "GPU"
  },
  "cells": [
    {
      "cell_type": "markdown",
      "metadata": {
        "id": "view-in-github",
        "colab_type": "text"
      },
      "source": [
        "<a href=\"https://colab.research.google.com/github/sarjakpatel/SJSU/blob/main/CMPE%20256/Assignment%2011/CMPE_256_Market_Basket_Item_Assignment.ipynb\" target=\"_parent\"><img src=\"https://colab.research.google.com/assets/colab-badge.svg\" alt=\"Open In Colab\"/></a>"
      ]
    },
    {
      "cell_type": "markdown",
      "source": [
        "## CMPE 256 Market Basket Item Assignment"
      ],
      "metadata": {
        "id": "TPrKyLUa25yi"
      }
    },
    {
      "cell_type": "code",
      "source": [
        "import pandas as pd\n",
        "import numpy as np"
      ],
      "metadata": {
        "id": "wFTR0ZRB24U8"
      },
      "execution_count": 1,
      "outputs": []
    },
    {
      "cell_type": "code",
      "metadata": {
        "colab": {
          "base_uri": "https://localhost:8080/"
        },
        "id": "YS-eGQdEaDGl",
        "outputId": "daa53348-7130-4fdc-c145-2ca278438b9c"
      },
      "source": [
        "!pip install apyori"
      ],
      "execution_count": 2,
      "outputs": [
        {
          "output_type": "stream",
          "name": "stdout",
          "text": [
            "Requirement already satisfied: apyori in /usr/local/lib/python3.7/dist-packages (1.1.2)\n"
          ]
        }
      ]
    },
    {
      "cell_type": "code",
      "source": [
        "from apyori import apriori, load_transactions"
      ],
      "metadata": {
        "id": "wZn1uO4B20gU"
      },
      "execution_count": 3,
      "outputs": []
    },
    {
      "cell_type": "code",
      "source": [
        "from google.colab import drive\n",
        "drive.mount('/content/drive')"
      ],
      "metadata": {
        "colab": {
          "base_uri": "https://localhost:8080/"
        },
        "id": "WJD1vSa5zN7k",
        "outputId": "39b78810-4e5e-4aa1-f88e-80c91143b967"
      },
      "execution_count": 4,
      "outputs": [
        {
          "output_type": "stream",
          "name": "stdout",
          "text": [
            "Drive already mounted at /content/drive; to attempt to forcibly remount, call drive.mount(\"/content/drive\", force_remount=True).\n"
          ]
        }
      ]
    },
    {
      "cell_type": "code",
      "source": [
        "train_data = pd.read_csv(\"/content/drive/MyDrive/Dataset/Market Basket Item Dataset/TRAIN-ARULES.csv\")\n",
        "test_data = pd.read_csv(\"/content/drive/MyDrive/Dataset/Market Basket Item Dataset/testarules.csv\", keep_default_na = False).values"
      ],
      "metadata": {
        "id": "JMhftOdh0L0u"
      },
      "execution_count": 5,
      "outputs": []
    },
    {
      "cell_type": "code",
      "metadata": {
        "id": "VzKz53NAcZud"
      },
      "source": [
        "train_data.product_name = [\"\".join(i.split(\",\")) for i in train_data.product_name]"
      ],
      "execution_count": 6,
      "outputs": []
    },
    {
      "cell_type": "code",
      "metadata": {
        "colab": {
          "base_uri": "https://localhost:8080/",
          "height": 206
        },
        "id": "0C7l2kL7dL2J",
        "outputId": "7e0808e8-9dab-4b9c-9837-73356f855fb3"
      },
      "source": [
        "train_data.head()"
      ],
      "execution_count": 7,
      "outputs": [
        {
          "output_type": "execute_result",
          "data": {
            "text/html": [
              "<div>\n",
              "<style scoped>\n",
              "    .dataframe tbody tr th:only-of-type {\n",
              "        vertical-align: middle;\n",
              "    }\n",
              "\n",
              "    .dataframe tbody tr th {\n",
              "        vertical-align: top;\n",
              "    }\n",
              "\n",
              "    .dataframe thead th {\n",
              "        text-align: right;\n",
              "    }\n",
              "</style>\n",
              "<table border=\"1\" class=\"dataframe\">\n",
              "  <thead>\n",
              "    <tr style=\"text-align: right;\">\n",
              "      <th></th>\n",
              "      <th>order_id</th>\n",
              "      <th>user_id</th>\n",
              "      <th>product_name</th>\n",
              "    </tr>\n",
              "  </thead>\n",
              "  <tbody>\n",
              "    <tr>\n",
              "      <th>0</th>\n",
              "      <td>1483</td>\n",
              "      <td>90</td>\n",
              "      <td>Organic Pink Lemonade Bunny Fruit Snacks</td>\n",
              "    </tr>\n",
              "    <tr>\n",
              "      <th>1</th>\n",
              "      <td>1483</td>\n",
              "      <td>90</td>\n",
              "      <td>Dark Chocolate Minis</td>\n",
              "    </tr>\n",
              "    <tr>\n",
              "      <th>2</th>\n",
              "      <td>1483</td>\n",
              "      <td>90</td>\n",
              "      <td>Sparkling Water Natural Mango Essenced</td>\n",
              "    </tr>\n",
              "    <tr>\n",
              "      <th>3</th>\n",
              "      <td>1483</td>\n",
              "      <td>90</td>\n",
              "      <td>Peach-Pear Sparkling Water</td>\n",
              "    </tr>\n",
              "    <tr>\n",
              "      <th>4</th>\n",
              "      <td>1483</td>\n",
              "      <td>90</td>\n",
              "      <td>Organic Heritage Flakes Cereal</td>\n",
              "    </tr>\n",
              "  </tbody>\n",
              "</table>\n",
              "</div>"
            ],
            "text/plain": [
              "   order_id  user_id                              product_name\n",
              "0      1483       90  Organic Pink Lemonade Bunny Fruit Snacks\n",
              "1      1483       90                      Dark Chocolate Minis\n",
              "2      1483       90    Sparkling Water Natural Mango Essenced\n",
              "3      1483       90                Peach-Pear Sparkling Water\n",
              "4      1483       90            Organic Heritage Flakes Cereal"
            ]
          },
          "metadata": {},
          "execution_count": 7
        }
      ]
    },
    {
      "cell_type": "code",
      "source": [
        "test_number_items = [len(i) for i in test_data]\n",
        "test_data = [[\" \".join(i.split(\",\")) for i in j if i != \"\"] for j in test_data]"
      ],
      "metadata": {
        "id": "-KzEcCfc2iSP"
      },
      "execution_count": 8,
      "outputs": []
    },
    {
      "cell_type": "code",
      "metadata": {
        "colab": {
          "base_uri": "https://localhost:8080/"
        },
        "id": "BICxvOm7Nkdw",
        "outputId": "231ba659-52e9-429b-88f5-a5c56fe8216a"
      },
      "source": [
        "test_data"
      ],
      "execution_count": 9,
      "outputs": [
        {
          "output_type": "execute_result",
          "data": {
            "text/plain": [
              "[['Dark Chocolate Minis',\n",
              "  'Organic Pink Lemonade Bunny Fruit Snacks',\n",
              "  'Peach-Pear Sparkling Water']]"
            ]
          },
          "metadata": {},
          "execution_count": 9
        }
      ]
    },
    {
      "cell_type": "code",
      "metadata": {
        "colab": {
          "base_uri": "https://localhost:8080/"
        },
        "id": "OgBw85XxdNdF",
        "outputId": "72dbe13f-afcb-4301-cd62-c2b94c4c4143"
      },
      "source": [
        "train_data[train_data.order_id == 1483].shape"
      ],
      "execution_count": 10,
      "outputs": [
        {
          "output_type": "execute_result",
          "data": {
            "text/plain": [
              "(12, 3)"
            ]
          },
          "metadata": {},
          "execution_count": 10
        }
      ]
    },
    {
      "cell_type": "code",
      "metadata": {
        "colab": {
          "base_uri": "https://localhost:8080/"
        },
        "id": "MB7CQxGPd1MV",
        "outputId": "aa4769ae-9077-4f60-bd56-204c238eeb8d"
      },
      "source": [
        "train_data[train_data.user_id == 90].shape"
      ],
      "execution_count": 11,
      "outputs": [
        {
          "output_type": "execute_result",
          "data": {
            "text/plain": [
              "(670, 3)"
            ]
          },
          "metadata": {},
          "execution_count": 11
        }
      ]
    },
    {
      "cell_type": "markdown",
      "metadata": {
        "id": "6ufJcYR4eXRx"
      },
      "source": [
        "From above 2 cell results, We can infer that single user has multiple orders."
      ]
    },
    {
      "cell_type": "code",
      "metadata": {
        "id": "wqVeBe5SeWzT"
      },
      "source": [
        "train_order_labels = train_data.order_id.unique()\n",
        "transactions = [train_data[train_data.order_id == i][\"product_name\"].tolist() for i in train_order_labels]"
      ],
      "execution_count": 12,
      "outputs": []
    },
    {
      "cell_type": "code",
      "metadata": {
        "id": "B9ZpkVSDeB1X"
      },
      "source": [
        "minimum_support = 0.0045\n",
        "apriori_train = apriori(transactions = transactions, min_support = minimum_support)\n",
        "apriori_train_result = list(apriori_train)\n",
        "apriori_train_result = pd.DataFrame(apriori_train_result)\n",
        "apriori_train_result[\"confidence\"] = 0.0\n",
        "apriori_train_result[\"lift\"] = 0.0"
      ],
      "execution_count": 13,
      "outputs": []
    },
    {
      "cell_type": "code",
      "source": [
        "for i in range(apriori_train_result.shape[0]):\n",
        "  apriori_train_result[\"confidence\"][i] = apriori_train_result.ordered_statistics[i][0].confidence\n",
        "  apriori_train_result[\"lift\"][i] = apriori_train_result.ordered_statistics[i][0].lift\n",
        "  apriori_train_result[\"items\"][i] = tuple(apriori_train_result[\"items\"][i])\n",
        "apriori_train_result = apriori_train_result.drop(\"ordered_statistics\", axis = 1)"
      ],
      "metadata": {
        "colab": {
          "base_uri": "https://localhost:8080/"
        },
        "id": "gKjqYzsd2uum",
        "outputId": "3bb2451f-a046-48e5-a096-90f346eeee6c"
      },
      "execution_count": 14,
      "outputs": [
        {
          "output_type": "stream",
          "name": "stderr",
          "text": [
            "/usr/local/lib/python3.7/dist-packages/ipykernel_launcher.py:2: SettingWithCopyWarning: \n",
            "A value is trying to be set on a copy of a slice from a DataFrame\n",
            "\n",
            "See the caveats in the documentation: https://pandas.pydata.org/pandas-docs/stable/user_guide/indexing.html#returning-a-view-versus-a-copy\n",
            "  \n",
            "/usr/local/lib/python3.7/dist-packages/ipykernel_launcher.py:3: SettingWithCopyWarning: \n",
            "A value is trying to be set on a copy of a slice from a DataFrame\n",
            "\n",
            "See the caveats in the documentation: https://pandas.pydata.org/pandas-docs/stable/user_guide/indexing.html#returning-a-view-versus-a-copy\n",
            "  This is separate from the ipykernel package so we can avoid doing imports until\n",
            "/usr/local/lib/python3.7/dist-packages/ipykernel_launcher.py:4: SettingWithCopyWarning: \n",
            "A value is trying to be set on a copy of a slice from a DataFrame\n",
            "\n",
            "See the caveats in the documentation: https://pandas.pydata.org/pandas-docs/stable/user_guide/indexing.html#returning-a-view-versus-a-copy\n",
            "  after removing the cwd from sys.path.\n"
          ]
        }
      ]
    },
    {
      "cell_type": "code",
      "metadata": {
        "colab": {
          "base_uri": "https://localhost:8080/",
          "height": 206
        },
        "id": "gkkKL1mj_gTa",
        "outputId": "3e5ea9b2-0016-4f14-8678-4f26587c03d6"
      },
      "source": [
        "apriori_train_result.head()"
      ],
      "execution_count": 15,
      "outputs": [
        {
          "output_type": "execute_result",
          "data": {
            "text/html": [
              "<div>\n",
              "<style scoped>\n",
              "    .dataframe tbody tr th:only-of-type {\n",
              "        vertical-align: middle;\n",
              "    }\n",
              "\n",
              "    .dataframe tbody tr th {\n",
              "        vertical-align: top;\n",
              "    }\n",
              "\n",
              "    .dataframe thead th {\n",
              "        text-align: right;\n",
              "    }\n",
              "</style>\n",
              "<table border=\"1\" class=\"dataframe\">\n",
              "  <thead>\n",
              "    <tr style=\"text-align: right;\">\n",
              "      <th></th>\n",
              "      <th>items</th>\n",
              "      <th>support</th>\n",
              "      <th>confidence</th>\n",
              "      <th>lift</th>\n",
              "    </tr>\n",
              "  </thead>\n",
              "  <tbody>\n",
              "    <tr>\n",
              "      <th>0</th>\n",
              "      <td>(0% Greek Strained Yogurt,)</td>\n",
              "      <td>0.009873</td>\n",
              "      <td>0.009873</td>\n",
              "      <td>1.0</td>\n",
              "    </tr>\n",
              "    <tr>\n",
              "      <th>1</th>\n",
              "      <td>(100% Juice Variety Pack,)</td>\n",
              "      <td>0.004937</td>\n",
              "      <td>0.004937</td>\n",
              "      <td>1.0</td>\n",
              "    </tr>\n",
              "    <tr>\n",
              "      <th>2</th>\n",
              "      <td>(100% Premium Select Not From Concentrate Pure...</td>\n",
              "      <td>0.009168</td>\n",
              "      <td>0.009168</td>\n",
              "      <td>1.0</td>\n",
              "    </tr>\n",
              "    <tr>\n",
              "      <th>3</th>\n",
              "      <td>(100% Recycled Paper Towels,)</td>\n",
              "      <td>0.005642</td>\n",
              "      <td>0.005642</td>\n",
              "      <td>1.0</td>\n",
              "    </tr>\n",
              "    <tr>\n",
              "      <th>4</th>\n",
              "      <td>(1500 Pale Ale,)</td>\n",
              "      <td>0.014810</td>\n",
              "      <td>0.014810</td>\n",
              "      <td>1.0</td>\n",
              "    </tr>\n",
              "  </tbody>\n",
              "</table>\n",
              "</div>"
            ],
            "text/plain": [
              "                                               items  ...  lift\n",
              "0                        (0% Greek Strained Yogurt,)  ...   1.0\n",
              "1                         (100% Juice Variety Pack,)  ...   1.0\n",
              "2  (100% Premium Select Not From Concentrate Pure...  ...   1.0\n",
              "3                      (100% Recycled Paper Towels,)  ...   1.0\n",
              "4                                   (1500 Pale Ale,)  ...   1.0\n",
              "\n",
              "[5 rows x 4 columns]"
            ]
          },
          "metadata": {},
          "execution_count": 15
        }
      ]
    },
    {
      "cell_type": "code",
      "source": [
        "def predict(dataset, test, num_items):\n",
        "  length = np.array([len(i) for i in dataset[\"items\"]])\n",
        "  itemSet = set()\n",
        "  for item in dataset[length == num_items][\"items\"]:\n",
        "    if all([True if i in item else False for i in test]) :\n",
        "      itemSet.add(item)\n",
        "  return itemSet"
      ],
      "metadata": {
        "id": "yyGBLSQJ2nXO"
      },
      "execution_count": 16,
      "outputs": []
    },
    {
      "cell_type": "code",
      "metadata": {
        "id": "O9mFIqVqLII9"
      },
      "source": [
        "result = {}\n",
        "for i, (test_row, test_number_row) in enumerate(zip(test_data, test_number_items)):\n",
        "  result[\"row \" + str(i)] = predict(apriori_train_result, test_row, test_number_row)"
      ],
      "execution_count": 17,
      "outputs": []
    },
    {
      "cell_type": "code",
      "metadata": {
        "colab": {
          "base_uri": "https://localhost:8080/"
        },
        "id": "F4td4O-86F5a",
        "outputId": "0db8847d-2f6f-4f13-cb36-822a0241b02e"
      },
      "source": [
        "for i,item in enumerate(result.keys()):\n",
        "  print(\"Basket items prediction for transaction:-\")\n",
        "  print(\"\\n Transaction\",i+1,\": { \",\" ,\".join(test_data[i]),\"}\\n\")\n",
        "  for j,prediction in enumerate(result[item]):\n",
        "    print(str(j+1)+\". {\"+\", \".join(set(prediction).difference(test_data[i])),\"}\")"
      ],
      "execution_count": 18,
      "outputs": [
        {
          "output_type": "stream",
          "name": "stdout",
          "text": [
            "Basket items prediction for transaction:-\n",
            "\n",
            " Transaction 1 : {  Dark Chocolate Minis ,Organic Pink Lemonade Bunny Fruit Snacks ,Peach-Pear Sparkling Water }\n",
            "\n",
            "1. {Organic Heritage Flakes Cereal, Maple Pumpkin Seeds with Sea Salt Chewy with a Crunch Granola Bars }\n",
            "2. {Organic Heritage Flakes Cereal, Sparkling Water Natural Mango Essenced }\n",
            "3. {Organic Heritage Flakes Cereal, Organic Graham Crunch Cereal }\n",
            "4. {Organic Graham Crunch Cereal, Sparkling Water Natural Mango Essenced }\n"
          ]
        }
      ]
    }
  ]
}