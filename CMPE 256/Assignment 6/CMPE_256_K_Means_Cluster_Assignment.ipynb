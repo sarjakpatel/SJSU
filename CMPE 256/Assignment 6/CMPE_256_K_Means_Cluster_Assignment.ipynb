{
  "nbformat": 4,
  "nbformat_minor": 0,
  "metadata": {
    "colab": {
      "name": "CMPE 256 K-Means Cluster Assignment.ipynb",
      "provenance": [],
      "toc_visible": true,
      "authorship_tag": "ABX9TyObDGwMjzJbQB33uGIEs/TB",
      "include_colab_link": true
    },
    "kernelspec": {
      "name": "python3",
      "display_name": "Python 3"
    },
    "language_info": {
      "name": "python"
    },
    "accelerator": "GPU"
  },
  "cells": [
    {
      "cell_type": "markdown",
      "metadata": {
        "id": "view-in-github",
        "colab_type": "text"
      },
      "source": [
        "<a href=\"https://colab.research.google.com/github/sarjakpatel/SJSU/blob/main/CMPE%20256/Assignment%206/CMPE_256_K_Means_Cluster_Assignment.ipynb\" target=\"_parent\"><img src=\"https://colab.research.google.com/assets/colab-badge.svg\" alt=\"Open In Colab\"/></a>"
      ]
    },
    {
      "cell_type": "markdown",
      "metadata": {
        "id": "iluP7bEMDe3L"
      },
      "source": [
        "# CMPE 256 K-Means Cluster Assignment"
      ]
    },
    {
      "cell_type": "markdown",
      "metadata": {
        "id": "FBNzgJFyDmxj"
      },
      "source": [
        "## Importing the Libraries"
      ]
    },
    {
      "cell_type": "code",
      "metadata": {
        "id": "CByb7Zc0FRis"
      },
      "source": [
        "from sklearn.cluster import KMeans\n",
        "import numpy as np\n",
        "import scipy.cluster.hierarchy as sch\n",
        "import matplotlib.pyplot as plt"
      ],
      "execution_count": 1,
      "outputs": []
    },
    {
      "cell_type": "markdown",
      "metadata": {
        "id": "XoW5KRH0Ds4r"
      },
      "source": [
        "## Importing the Dataset"
      ]
    },
    {
      "cell_type": "code",
      "metadata": {
        "id": "jkMD7i6MFUZq"
      },
      "source": [
        "data = np.array([[2,6], [3,4], [3,5], [4,5], [5,6], [5,6], [6,2], [6,3], [6,7], [6,8], [7,2], [8,2], [8,3], [8,5], [9,1], [9,1], [9,6]])"
      ],
      "execution_count": 2,
      "outputs": []
    },
    {
      "cell_type": "markdown",
      "metadata": {
        "id": "hyt9MMnoDww7"
      },
      "source": [
        "## K-Means with 2 Clusters"
      ]
    },
    {
      "cell_type": "code",
      "metadata": {
        "colab": {
          "base_uri": "https://localhost:8080/"
        },
        "id": "dS8YFdgMFUy5",
        "outputId": "966b2be5-6586-4fb9-f676-9b8916f722ef"
      },
      "source": [
        "kMeans_2 = KMeans(n_clusters=2).fit(data)\n",
        "kMeans_2.labels_"
      ],
      "execution_count": 3,
      "outputs": [
        {
          "output_type": "execute_result",
          "data": {
            "text/plain": [
              "array([0, 0, 0, 0, 0, 0, 1, 1, 0, 0, 1, 1, 1, 1, 1, 1, 1], dtype=int32)"
            ]
          },
          "metadata": {},
          "execution_count": 3
        }
      ]
    },
    {
      "cell_type": "code",
      "metadata": {
        "id": "5-Bdo5B-FXrS"
      },
      "source": [
        "output_2= kMeans_2.fit_predict(data)"
      ],
      "execution_count": 4,
      "outputs": []
    },
    {
      "cell_type": "code",
      "metadata": {
        "colab": {
          "base_uri": "https://localhost:8080/",
          "height": 282
        },
        "id": "fDNOvox-BR3z",
        "outputId": "942cb80e-83e3-4035-afbf-78063a234161"
      },
      "source": [
        "plt.scatter(data[output_2==0,0],data[output_2==0,1],s=100,c='green')\n",
        "plt.scatter(data[output_2==1,0],data[output_2==1,1],s=100,c='blue')"
      ],
      "execution_count": 5,
      "outputs": [
        {
          "output_type": "execute_result",
          "data": {
            "text/plain": [
              "<matplotlib.collections.PathCollection at 0x7f4962c87f90>"
            ]
          },
          "metadata": {},
          "execution_count": 5
        },
        {
          "output_type": "display_data",
          "data": {
            "image/png": "[encoded data removed]",
            "text/plain": [
              "<Figure size 432x288 with 1 Axes>"
            ]
          },
          "metadata": {
            "needs_background": "light"
          }
        }
      ]
    },
    {
      "cell_type": "markdown",
      "metadata": {
        "id": "80AG2CRWD3xS"
      },
      "source": [
        "## K-Means with 3 Clusters"
      ]
    },
    {
      "cell_type": "code",
      "metadata": {
        "colab": {
          "base_uri": "https://localhost:8080/"
        },
        "id": "Ro3YThKHBVOq",
        "outputId": "61cb2703-5669-494b-8a0f-51185a757872"
      },
      "source": [
        "kMeans_3 = KMeans(n_clusters=3).fit(data)\n",
        "kMeans_3.labels_"
      ],
      "execution_count": 6,
      "outputs": [
        {
          "output_type": "execute_result",
          "data": {
            "text/plain": [
              "array([0, 0, 0, 0, 0, 0, 1, 1, 2, 2, 1, 1, 1, 2, 1, 1, 2], dtype=int32)"
            ]
          },
          "metadata": {},
          "execution_count": 6
        }
      ]
    },
    {
      "cell_type": "code",
      "metadata": {
        "id": "FGRSeFN_BXKM"
      },
      "source": [
        "output_3 = kMeans_3.fit_predict(data)"
      ],
      "execution_count": 7,
      "outputs": []
    },
    {
      "cell_type": "code",
      "metadata": {
        "colab": {
          "base_uri": "https://localhost:8080/",
          "height": 282
        },
        "id": "5kbAoidSBZEL",
        "outputId": "cfc98b5c-3016-4761-f920-009b353573dd"
      },
      "source": [
        "plt.scatter(data[output_3==0,0],data[output_3==0,1],s=100,c='red')\n",
        "plt.scatter(data[output_3==1,0],data[output_3==1,1],s=100,c='blue')\n",
        "plt.scatter(data[output_3==2,0],data[output_3==2,1],s=100,c='green')"
      ],
      "execution_count": 8,
      "outputs": [
        {
          "output_type": "execute_result",
          "data": {
            "text/plain": [
              "<matplotlib.collections.PathCollection at 0x7f4962785e50>"
            ]
          },
          "metadata": {},
          "execution_count": 8
        },
        {
          "output_type": "display_data",
          "data": {
            "image/png": "[encoded data removed]",
            "text/plain": [
              "<Figure size 432x288 with 1 Axes>"
            ]
          },
          "metadata": {
            "needs_background": "light"
          }
        }
      ]
    },
    {
      "cell_type": "markdown",
      "metadata": {
        "id": "HEkjg1TID7lU"
      },
      "source": [
        "## K-Means with 4 Clusters"
      ]
    },
    {
      "cell_type": "code",
      "metadata": {
        "colab": {
          "base_uri": "https://localhost:8080/"
        },
        "id": "c-iHrwAxBa_T",
        "outputId": "17c975e9-1cbf-4f9c-cb92-f3ef7a4a33c7"
      },
      "source": [
        "kMeans_4 = KMeans(n_clusters=4).fit(data)\n",
        "kMeans_4.labels_"
      ],
      "execution_count": 9,
      "outputs": [
        {
          "output_type": "execute_result",
          "data": {
            "text/plain": [
              "array([3, 3, 3, 3, 1, 1, 0, 0, 1, 1, 0, 0, 0, 2, 0, 0, 2], dtype=int32)"
            ]
          },
          "metadata": {},
          "execution_count": 9
        }
      ]
    },
    {
      "cell_type": "code",
      "metadata": {
        "id": "rLmHSejJBcvj"
      },
      "source": [
        "output_4= kMeans_4.fit_predict(data)"
      ],
      "execution_count": 10,
      "outputs": []
    },
    {
      "cell_type": "code",
      "metadata": {
        "colab": {
          "base_uri": "https://localhost:8080/",
          "height": 282
        },
        "id": "N2UCJ1OQBeay",
        "outputId": "341f4f70-5a45-4812-ea47-3e79d72b396a"
      },
      "source": [
        "plt.scatter(data[output_4==0,0],data[output_4==0,1],s=100,c='red')\n",
        "plt.scatter(data[output_4==1,0],data[output_4==1,1],s=100,c='blue')\n",
        "plt.scatter(data[output_4==2,0],data[output_4==2,1],s=100,c='yellow')\n",
        "plt.scatter(data[output_4==3,0],data[output_4==3,1],s=100,c='green')"
      ],
      "execution_count": 11,
      "outputs": [
        {
          "output_type": "execute_result",
          "data": {
            "text/plain": [
              "<matplotlib.collections.PathCollection at 0x7f4962717b90>"
            ]
          },
          "metadata": {},
          "execution_count": 11
        },
        {
          "output_type": "display_data",
          "data": {
            "image/png": "[encoded data removed]",
            "text/plain": [
              "<Figure size 432x288 with 1 Axes>"
            ]
          },
          "metadata": {
            "needs_background": "light"
          }
        }
      ]
    },
    {
      "cell_type": "markdown",
      "metadata": {
        "id": "FsHt3_TMEd_7"
      },
      "source": [
        "## References :\n",
        "\n",
        "\n",
        "\n",
        "*   https://www.analyticsvidhya.com/blog/2021/04/k-means-clustering-simplified-in-python/\n",
        "*   https://towardsdatascience.com/machine-learning-algorithms-part-9-k-means-example-in-python-f2ad05ed5203\n",
        "\n",
        "\n",
        "*   https://realpython.com/k-means-clustering-python/\n",
        "*   https://www.analyticsvidhya.com/blog/2021/04/k-means-clustering-simplified-in-python/\n",
        "\n"
      ]
    }
  ]
}