{
  "nbformat": 4,
  "nbformat_minor": 0,
  "metadata": {
    "colab": {
      "name": "CMPE_256_ML_Based_Spam_Filter.ipynb",
      "provenance": [],
      "toc_visible": true,
      "authorship_tag": "ABX9TyNs6K0Ri7CQfLbuasws/rzO",
      "include_colab_link": true
    },
    "kernelspec": {
      "name": "python3",
      "display_name": "Python 3"
    },
    "language_info": {
      "name": "python"
    }
  },
  "cells": [
    {
      "cell_type": "markdown",
      "metadata": {
        "id": "view-in-github",
        "colab_type": "text"
      },
      "source": [
        "<a href=\"https://colab.research.google.com/github/sarjakpatel/SJSU/blob/main/CMPE%20256/Assignment%208/CMPE_256_ML_Based_Spam_Filter.ipynb\" target=\"_parent\"><img src=\"https://colab.research.google.com/assets/colab-badge.svg\" alt=\"Open In Colab\"/></a>"
      ]
    },
    {
      "cell_type": "markdown",
      "metadata": {
        "id": "8Y8b0apZdzhw"
      },
      "source": [
        "# CMPE 256: ML Based Spam Filter"
      ]
    },
    {
      "cell_type": "markdown",
      "metadata": {
        "id": "IKcRvVRtd0KB"
      },
      "source": [
        "## Importing the Libraries"
      ]
    },
    {
      "cell_type": "code",
      "metadata": {
        "id": "7orzUw0UUQnp"
      },
      "source": [
        "import numpy as np\n",
        "import pandas as pd\n",
        "from sklearn.feature_extraction.text import TfidfVectorizer\n",
        "from collections import Counter\n",
        "from sklearn.naive_bayes import MultinomialNB, GaussianNB, BernoulliNB\n",
        "from sklearn.svm import SVC, NuSVC, LinearSVC"
      ],
      "execution_count": 1,
      "outputs": []
    },
    {
      "cell_type": "markdown",
      "metadata": {
        "id": "xzZHcS41eCdw"
      },
      "source": [
        "## Spam Messages"
      ]
    },
    {
      "cell_type": "code",
      "metadata": {
        "id": "G91UqtotURhr"
      },
      "source": [
        "spamMessages=[\"Free-Coupons for next movie. The above links will take you straight to our partner's site. For more information or to see other offers available, you can also visit the Grouponon the Working Advantage website\",\n",
        "          \"Our records indicate your Pension is under performing to see higher growth and up to 25% cash release reply PENSION for a free review.To opt out reply STOP\",\n",
        "          \"Enter to win $25,000 and get a Free Hotel Night! Just click here for a $1 trial membership in NetMarket, the Internet'spremier discount shopping site:Fast Company EZVenture gives you FREE business articles,PLUS, you could win YOUR CHOICE of a BMW Z3 convertible, $100,000, shares of Microsoft stock, or a home office computer. Go there and get your chances to win now.A crazy-funny-cool trivia book with a $10,000 prize? PLUS chocolate, nail polish, cats, barnyard animals, and more?\",\n",
        "          \"Dear recipient,Avangar Technologies announces the beginning of a new unprecendented global employment campaign. Due to company's exploding growth Avangar is expanding business to the European region. During last employment campaign over 1500 people worldwide took part in Avangar's businessand more than half of them are currently employed by the company. And now we are offering youone more opportunity to earn extra money working with Avangar Technologies.We are looking for honest, responsible, hard-working people that can dedicate 2-4 hours of theirtime per day and earn extra Â£300-500 weekly. All offered positions are currently part-time and give you a chance to work mainly from home\",\n",
        "          \"I know that's an incredible statement, but bear with me while I explain. You have already deleted mail from dozens of \\\"Get Rich Quick\\\" schemes, chain letter offers, and LOTS of other absurd scams that promise to make you rich overnight with no investment and no work. My offer isn't one of those. What I'm offering is a straightforward computer-based service that you can run full-or part-time like a regular business. This service runs auto-matically while you sleep, vacation, or work a \\\"regular\\\" job. It provides a valuable new service for businesses in your area. I'm offering a high-tech, low-maintenance, work-from anywhere business that can bring in a nice comfortable additional income for your family. I did it for eight years. Since I started inviting others to join me, I've helped over 4000 do the same\"\n",
        "          ]"
      ],
      "execution_count": 2,
      "outputs": []
    },
    {
      "cell_type": "code",
      "metadata": {
        "id": "T7fFsQRuUTUK"
      },
      "source": [
        "spamData=pd.DataFrame(spamMessages, columns=['Content'])"
      ],
      "execution_count": 3,
      "outputs": []
    },
    {
      "cell_type": "code",
      "metadata": {
        "colab": {
          "base_uri": "https://localhost:8080/",
          "height": 203
        },
        "id": "8d_77n6SUUsC",
        "outputId": "d449f85b-fec7-469e-939c-16dcc3880de3"
      },
      "source": [
        "spamDetection = [1]*5\n",
        "spamData['Status']=spamDetection\n",
        "spamData"
      ],
      "execution_count": 4,
      "outputs": [
        {
          "output_type": "execute_result",
          "data": {
            "text/html": [
              "<div>\n",
              "<style scoped>\n",
              "    .dataframe tbody tr th:only-of-type {\n",
              "        vertical-align: middle;\n",
              "    }\n",
              "\n",
              "    .dataframe tbody tr th {\n",
              "        vertical-align: top;\n",
              "    }\n",
              "\n",
              "    .dataframe thead th {\n",
              "        text-align: right;\n",
              "    }\n",
              "</style>\n",
              "<table border=\"1\" class=\"dataframe\">\n",
              "  <thead>\n",
              "    <tr style=\"text-align: right;\">\n",
              "      <th></th>\n",
              "      <th>Content</th>\n",
              "      <th>Status</th>\n",
              "    </tr>\n",
              "  </thead>\n",
              "  <tbody>\n",
              "    <tr>\n",
              "      <th>0</th>\n",
              "      <td>Free-Coupons for next movie. The above links w...</td>\n",
              "      <td>1</td>\n",
              "    </tr>\n",
              "    <tr>\n",
              "      <th>1</th>\n",
              "      <td>Our records indicate your Pension is under per...</td>\n",
              "      <td>1</td>\n",
              "    </tr>\n",
              "    <tr>\n",
              "      <th>2</th>\n",
              "      <td>Enter to win $25,000 and get a Free Hotel Nigh...</td>\n",
              "      <td>1</td>\n",
              "    </tr>\n",
              "    <tr>\n",
              "      <th>3</th>\n",
              "      <td>Dear recipient,Avangar Technologies announces ...</td>\n",
              "      <td>1</td>\n",
              "    </tr>\n",
              "    <tr>\n",
              "      <th>4</th>\n",
              "      <td>I know that's an incredible statement, but bea...</td>\n",
              "      <td>1</td>\n",
              "    </tr>\n",
              "  </tbody>\n",
              "</table>\n",
              "</div>"
            ],
            "text/plain": [
              "                                             Content  Status\n",
              "0  Free-Coupons for next movie. The above links w...       1\n",
              "1  Our records indicate your Pension is under per...       1\n",
              "2  Enter to win $25,000 and get a Free Hotel Nigh...       1\n",
              "3  Dear recipient,Avangar Technologies announces ...       1\n",
              "4  I know that's an incredible statement, but bea...       1"
            ]
          },
          "metadata": {},
          "execution_count": 4
        }
      ]
    },
    {
      "cell_type": "markdown",
      "metadata": {
        "id": "xw4FuBV7eLS3"
      },
      "source": [
        "## TF-IDF Vectorizer"
      ]
    },
    {
      "cell_type": "code",
      "metadata": {
        "id": "8mu5FysTUZiK"
      },
      "source": [
        "vectorizer1 = TfidfVectorizer()"
      ],
      "execution_count": 5,
      "outputs": []
    },
    {
      "cell_type": "code",
      "metadata": {
        "id": "MRDWRXQwUbbD"
      },
      "source": [
        "vectors_data = vectorizer1.fit_transform(spamData[\"Content\"])\n",
        "featureNames= vectorizer1.get_feature_names()"
      ],
      "execution_count": 6,
      "outputs": []
    },
    {
      "cell_type": "code",
      "metadata": {
        "id": "6omoVLBgUc_b"
      },
      "source": [
        "dense_data = vectors_data.todense()\n",
        "denseList = dense_data.tolist()"
      ],
      "execution_count": 7,
      "outputs": []
    },
    {
      "cell_type": "code",
      "metadata": {
        "colab": {
          "base_uri": "https://localhost:8080/",
          "height": 252
        },
        "id": "kLgt9GvgUgID",
        "outputId": "63e570b2-3159-4b47-f84d-6b33a5edb7d5"
      },
      "source": [
        "spam_data_frame = pd.DataFrame(denseList, columns=featureNames)\n",
        "spam_data_frame"
      ],
      "execution_count": 8,
      "outputs": [
        {
          "output_type": "execute_result",
          "data": {
            "text/html": [
              "<div>\n",
              "<style scoped>\n",
              "    .dataframe tbody tr th:only-of-type {\n",
              "        vertical-align: middle;\n",
              "    }\n",
              "\n",
              "    .dataframe tbody tr th {\n",
              "        vertical-align: top;\n",
              "    }\n",
              "\n",
              "    .dataframe thead th {\n",
              "        text-align: right;\n",
              "    }\n",
              "</style>\n",
              "<table border=\"1\" class=\"dataframe\">\n",
              "  <thead>\n",
              "    <tr style=\"text-align: right;\">\n",
              "      <th></th>\n",
              "      <th>000</th>\n",
              "      <th>10</th>\n",
              "      <th>100</th>\n",
              "      <th>1500</th>\n",
              "      <th>25</th>\n",
              "      <th>300</th>\n",
              "      <th>4000</th>\n",
              "      <th>500</th>\n",
              "      <th>above</th>\n",
              "      <th>absurd</th>\n",
              "      <th>additional</th>\n",
              "      <th>advantage</th>\n",
              "      <th>all</th>\n",
              "      <th>already</th>\n",
              "      <th>also</th>\n",
              "      <th>an</th>\n",
              "      <th>and</th>\n",
              "      <th>animals</th>\n",
              "      <th>announces</th>\n",
              "      <th>anywhere</th>\n",
              "      <th>are</th>\n",
              "      <th>area</th>\n",
              "      <th>articles</th>\n",
              "      <th>auto</th>\n",
              "      <th>available</th>\n",
              "      <th>avangar</th>\n",
              "      <th>barnyard</th>\n",
              "      <th>based</th>\n",
              "      <th>bear</th>\n",
              "      <th>beginning</th>\n",
              "      <th>bmw</th>\n",
              "      <th>book</th>\n",
              "      <th>bring</th>\n",
              "      <th>business</th>\n",
              "      <th>businessand</th>\n",
              "      <th>businesses</th>\n",
              "      <th>but</th>\n",
              "      <th>by</th>\n",
              "      <th>campaign</th>\n",
              "      <th>can</th>\n",
              "      <th>...</th>\n",
              "      <th>straightforward</th>\n",
              "      <th>take</th>\n",
              "      <th>tech</th>\n",
              "      <th>technologies</th>\n",
              "      <th>than</th>\n",
              "      <th>that</th>\n",
              "      <th>the</th>\n",
              "      <th>theirtime</th>\n",
              "      <th>them</th>\n",
              "      <th>there</th>\n",
              "      <th>this</th>\n",
              "      <th>those</th>\n",
              "      <th>time</th>\n",
              "      <th>to</th>\n",
              "      <th>took</th>\n",
              "      <th>trial</th>\n",
              "      <th>trivia</th>\n",
              "      <th>under</th>\n",
              "      <th>unprecendented</th>\n",
              "      <th>up</th>\n",
              "      <th>vacation</th>\n",
              "      <th>valuable</th>\n",
              "      <th>ve</th>\n",
              "      <th>visit</th>\n",
              "      <th>we</th>\n",
              "      <th>website</th>\n",
              "      <th>weekly</th>\n",
              "      <th>what</th>\n",
              "      <th>while</th>\n",
              "      <th>will</th>\n",
              "      <th>win</th>\n",
              "      <th>with</th>\n",
              "      <th>work</th>\n",
              "      <th>working</th>\n",
              "      <th>worldwide</th>\n",
              "      <th>years</th>\n",
              "      <th>you</th>\n",
              "      <th>youone</th>\n",
              "      <th>your</th>\n",
              "      <th>z3</th>\n",
              "    </tr>\n",
              "  </thead>\n",
              "  <tbody>\n",
              "    <tr>\n",
              "      <th>0</th>\n",
              "      <td>0.000000</td>\n",
              "      <td>0.000000</td>\n",
              "      <td>0.000000</td>\n",
              "      <td>0.000000</td>\n",
              "      <td>0.000000</td>\n",
              "      <td>0.000000</td>\n",
              "      <td>0.000000</td>\n",
              "      <td>0.000000</td>\n",
              "      <td>0.190201</td>\n",
              "      <td>0.000000</td>\n",
              "      <td>0.000000</td>\n",
              "      <td>0.190201</td>\n",
              "      <td>0.000000</td>\n",
              "      <td>0.000000</td>\n",
              "      <td>0.190201</td>\n",
              "      <td>0.000000</td>\n",
              "      <td>0.000000</td>\n",
              "      <td>0.000000</td>\n",
              "      <td>0.000000</td>\n",
              "      <td>0.000000</td>\n",
              "      <td>0.00000</td>\n",
              "      <td>0.000000</td>\n",
              "      <td>0.000000</td>\n",
              "      <td>0.000000</td>\n",
              "      <td>0.190201</td>\n",
              "      <td>0.00000</td>\n",
              "      <td>0.000000</td>\n",
              "      <td>0.000000</td>\n",
              "      <td>0.000000</td>\n",
              "      <td>0.000000</td>\n",
              "      <td>0.000000</td>\n",
              "      <td>0.000000</td>\n",
              "      <td>0.000000</td>\n",
              "      <td>0.000000</td>\n",
              "      <td>0.000000</td>\n",
              "      <td>0.000000</td>\n",
              "      <td>0.000000</td>\n",
              "      <td>0.000000</td>\n",
              "      <td>0.000000</td>\n",
              "      <td>0.127380</td>\n",
              "      <td>...</td>\n",
              "      <td>0.000000</td>\n",
              "      <td>0.190201</td>\n",
              "      <td>0.000000</td>\n",
              "      <td>0.000000</td>\n",
              "      <td>0.000000</td>\n",
              "      <td>0.000000</td>\n",
              "      <td>0.321468</td>\n",
              "      <td>0.000000</td>\n",
              "      <td>0.000000</td>\n",
              "      <td>0.000000</td>\n",
              "      <td>0.000000</td>\n",
              "      <td>0.000000</td>\n",
              "      <td>0.000000</td>\n",
              "      <td>0.181264</td>\n",
              "      <td>0.000000</td>\n",
              "      <td>0.000000</td>\n",
              "      <td>0.000000</td>\n",
              "      <td>0.000000</td>\n",
              "      <td>0.000000</td>\n",
              "      <td>0.000000</td>\n",
              "      <td>0.000000</td>\n",
              "      <td>0.000000</td>\n",
              "      <td>0.000000</td>\n",
              "      <td>0.190201</td>\n",
              "      <td>0.000000</td>\n",
              "      <td>0.190201</td>\n",
              "      <td>0.000000</td>\n",
              "      <td>0.000000</td>\n",
              "      <td>0.000000</td>\n",
              "      <td>0.190201</td>\n",
              "      <td>0.000000</td>\n",
              "      <td>0.000000</td>\n",
              "      <td>0.000000</td>\n",
              "      <td>0.153453</td>\n",
              "      <td>0.000000</td>\n",
              "      <td>0.000000</td>\n",
              "      <td>0.214312</td>\n",
              "      <td>0.000000</td>\n",
              "      <td>0.000000</td>\n",
              "      <td>0.000000</td>\n",
              "    </tr>\n",
              "    <tr>\n",
              "      <th>1</th>\n",
              "      <td>0.000000</td>\n",
              "      <td>0.000000</td>\n",
              "      <td>0.000000</td>\n",
              "      <td>0.000000</td>\n",
              "      <td>0.156616</td>\n",
              "      <td>0.000000</td>\n",
              "      <td>0.000000</td>\n",
              "      <td>0.000000</td>\n",
              "      <td>0.000000</td>\n",
              "      <td>0.000000</td>\n",
              "      <td>0.000000</td>\n",
              "      <td>0.000000</td>\n",
              "      <td>0.000000</td>\n",
              "      <td>0.000000</td>\n",
              "      <td>0.000000</td>\n",
              "      <td>0.000000</td>\n",
              "      <td>0.109364</td>\n",
              "      <td>0.000000</td>\n",
              "      <td>0.000000</td>\n",
              "      <td>0.000000</td>\n",
              "      <td>0.00000</td>\n",
              "      <td>0.000000</td>\n",
              "      <td>0.000000</td>\n",
              "      <td>0.000000</td>\n",
              "      <td>0.000000</td>\n",
              "      <td>0.00000</td>\n",
              "      <td>0.000000</td>\n",
              "      <td>0.000000</td>\n",
              "      <td>0.000000</td>\n",
              "      <td>0.000000</td>\n",
              "      <td>0.000000</td>\n",
              "      <td>0.000000</td>\n",
              "      <td>0.000000</td>\n",
              "      <td>0.000000</td>\n",
              "      <td>0.000000</td>\n",
              "      <td>0.000000</td>\n",
              "      <td>0.000000</td>\n",
              "      <td>0.000000</td>\n",
              "      <td>0.000000</td>\n",
              "      <td>0.000000</td>\n",
              "      <td>...</td>\n",
              "      <td>0.000000</td>\n",
              "      <td>0.000000</td>\n",
              "      <td>0.000000</td>\n",
              "      <td>0.000000</td>\n",
              "      <td>0.000000</td>\n",
              "      <td>0.000000</td>\n",
              "      <td>0.000000</td>\n",
              "      <td>0.000000</td>\n",
              "      <td>0.000000</td>\n",
              "      <td>0.000000</td>\n",
              "      <td>0.000000</td>\n",
              "      <td>0.000000</td>\n",
              "      <td>0.000000</td>\n",
              "      <td>0.277499</td>\n",
              "      <td>0.000000</td>\n",
              "      <td>0.000000</td>\n",
              "      <td>0.000000</td>\n",
              "      <td>0.194121</td>\n",
              "      <td>0.000000</td>\n",
              "      <td>0.194121</td>\n",
              "      <td>0.000000</td>\n",
              "      <td>0.000000</td>\n",
              "      <td>0.000000</td>\n",
              "      <td>0.000000</td>\n",
              "      <td>0.000000</td>\n",
              "      <td>0.000000</td>\n",
              "      <td>0.000000</td>\n",
              "      <td>0.000000</td>\n",
              "      <td>0.000000</td>\n",
              "      <td>0.000000</td>\n",
              "      <td>0.000000</td>\n",
              "      <td>0.000000</td>\n",
              "      <td>0.000000</td>\n",
              "      <td>0.000000</td>\n",
              "      <td>0.000000</td>\n",
              "      <td>0.000000</td>\n",
              "      <td>0.000000</td>\n",
              "      <td>0.000000</td>\n",
              "      <td>0.130005</td>\n",
              "      <td>0.000000</td>\n",
              "    </tr>\n",
              "    <tr>\n",
              "      <th>2</th>\n",
              "      <td>0.325947</td>\n",
              "      <td>0.108649</td>\n",
              "      <td>0.108649</td>\n",
              "      <td>0.000000</td>\n",
              "      <td>0.087657</td>\n",
              "      <td>0.000000</td>\n",
              "      <td>0.000000</td>\n",
              "      <td>0.000000</td>\n",
              "      <td>0.000000</td>\n",
              "      <td>0.000000</td>\n",
              "      <td>0.000000</td>\n",
              "      <td>0.000000</td>\n",
              "      <td>0.000000</td>\n",
              "      <td>0.000000</td>\n",
              "      <td>0.000000</td>\n",
              "      <td>0.000000</td>\n",
              "      <td>0.183633</td>\n",
              "      <td>0.108649</td>\n",
              "      <td>0.000000</td>\n",
              "      <td>0.000000</td>\n",
              "      <td>0.00000</td>\n",
              "      <td>0.000000</td>\n",
              "      <td>0.108649</td>\n",
              "      <td>0.000000</td>\n",
              "      <td>0.000000</td>\n",
              "      <td>0.00000</td>\n",
              "      <td>0.108649</td>\n",
              "      <td>0.000000</td>\n",
              "      <td>0.000000</td>\n",
              "      <td>0.000000</td>\n",
              "      <td>0.108649</td>\n",
              "      <td>0.108649</td>\n",
              "      <td>0.000000</td>\n",
              "      <td>0.072763</td>\n",
              "      <td>0.000000</td>\n",
              "      <td>0.000000</td>\n",
              "      <td>0.000000</td>\n",
              "      <td>0.000000</td>\n",
              "      <td>0.000000</td>\n",
              "      <td>0.000000</td>\n",
              "      <td>...</td>\n",
              "      <td>0.000000</td>\n",
              "      <td>0.000000</td>\n",
              "      <td>0.000000</td>\n",
              "      <td>0.000000</td>\n",
              "      <td>0.000000</td>\n",
              "      <td>0.000000</td>\n",
              "      <td>0.061211</td>\n",
              "      <td>0.000000</td>\n",
              "      <td>0.000000</td>\n",
              "      <td>0.108649</td>\n",
              "      <td>0.000000</td>\n",
              "      <td>0.000000</td>\n",
              "      <td>0.000000</td>\n",
              "      <td>0.103544</td>\n",
              "      <td>0.000000</td>\n",
              "      <td>0.108649</td>\n",
              "      <td>0.108649</td>\n",
              "      <td>0.000000</td>\n",
              "      <td>0.000000</td>\n",
              "      <td>0.000000</td>\n",
              "      <td>0.000000</td>\n",
              "      <td>0.000000</td>\n",
              "      <td>0.000000</td>\n",
              "      <td>0.000000</td>\n",
              "      <td>0.000000</td>\n",
              "      <td>0.000000</td>\n",
              "      <td>0.000000</td>\n",
              "      <td>0.000000</td>\n",
              "      <td>0.000000</td>\n",
              "      <td>0.000000</td>\n",
              "      <td>0.325947</td>\n",
              "      <td>0.072763</td>\n",
              "      <td>0.000000</td>\n",
              "      <td>0.000000</td>\n",
              "      <td>0.000000</td>\n",
              "      <td>0.000000</td>\n",
              "      <td>0.122422</td>\n",
              "      <td>0.000000</td>\n",
              "      <td>0.145527</td>\n",
              "      <td>0.108649</td>\n",
              "    </tr>\n",
              "    <tr>\n",
              "      <th>3</th>\n",
              "      <td>0.000000</td>\n",
              "      <td>0.000000</td>\n",
              "      <td>0.000000</td>\n",
              "      <td>0.084732</td>\n",
              "      <td>0.000000</td>\n",
              "      <td>0.084732</td>\n",
              "      <td>0.000000</td>\n",
              "      <td>0.084732</td>\n",
              "      <td>0.000000</td>\n",
              "      <td>0.000000</td>\n",
              "      <td>0.000000</td>\n",
              "      <td>0.000000</td>\n",
              "      <td>0.084732</td>\n",
              "      <td>0.000000</td>\n",
              "      <td>0.000000</td>\n",
              "      <td>0.000000</td>\n",
              "      <td>0.143210</td>\n",
              "      <td>0.000000</td>\n",
              "      <td>0.084732</td>\n",
              "      <td>0.000000</td>\n",
              "      <td>0.33893</td>\n",
              "      <td>0.000000</td>\n",
              "      <td>0.000000</td>\n",
              "      <td>0.000000</td>\n",
              "      <td>0.000000</td>\n",
              "      <td>0.33893</td>\n",
              "      <td>0.000000</td>\n",
              "      <td>0.000000</td>\n",
              "      <td>0.000000</td>\n",
              "      <td>0.084732</td>\n",
              "      <td>0.000000</td>\n",
              "      <td>0.000000</td>\n",
              "      <td>0.000000</td>\n",
              "      <td>0.056746</td>\n",
              "      <td>0.084732</td>\n",
              "      <td>0.000000</td>\n",
              "      <td>0.000000</td>\n",
              "      <td>0.084732</td>\n",
              "      <td>0.169465</td>\n",
              "      <td>0.056746</td>\n",
              "      <td>...</td>\n",
              "      <td>0.000000</td>\n",
              "      <td>0.000000</td>\n",
              "      <td>0.000000</td>\n",
              "      <td>0.169465</td>\n",
              "      <td>0.084732</td>\n",
              "      <td>0.068362</td>\n",
              "      <td>0.143210</td>\n",
              "      <td>0.084732</td>\n",
              "      <td>0.084732</td>\n",
              "      <td>0.000000</td>\n",
              "      <td>0.000000</td>\n",
              "      <td>0.000000</td>\n",
              "      <td>0.068362</td>\n",
              "      <td>0.161502</td>\n",
              "      <td>0.084732</td>\n",
              "      <td>0.000000</td>\n",
              "      <td>0.000000</td>\n",
              "      <td>0.000000</td>\n",
              "      <td>0.084732</td>\n",
              "      <td>0.000000</td>\n",
              "      <td>0.000000</td>\n",
              "      <td>0.000000</td>\n",
              "      <td>0.000000</td>\n",
              "      <td>0.000000</td>\n",
              "      <td>0.169465</td>\n",
              "      <td>0.000000</td>\n",
              "      <td>0.084732</td>\n",
              "      <td>0.000000</td>\n",
              "      <td>0.000000</td>\n",
              "      <td>0.000000</td>\n",
              "      <td>0.000000</td>\n",
              "      <td>0.056746</td>\n",
              "      <td>0.068362</td>\n",
              "      <td>0.136723</td>\n",
              "      <td>0.084732</td>\n",
              "      <td>0.000000</td>\n",
              "      <td>0.047737</td>\n",
              "      <td>0.084732</td>\n",
              "      <td>0.000000</td>\n",
              "      <td>0.000000</td>\n",
              "    </tr>\n",
              "    <tr>\n",
              "      <th>4</th>\n",
              "      <td>0.000000</td>\n",
              "      <td>0.000000</td>\n",
              "      <td>0.000000</td>\n",
              "      <td>0.000000</td>\n",
              "      <td>0.000000</td>\n",
              "      <td>0.000000</td>\n",
              "      <td>0.080699</td>\n",
              "      <td>0.000000</td>\n",
              "      <td>0.000000</td>\n",
              "      <td>0.080699</td>\n",
              "      <td>0.080699</td>\n",
              "      <td>0.000000</td>\n",
              "      <td>0.000000</td>\n",
              "      <td>0.080699</td>\n",
              "      <td>0.000000</td>\n",
              "      <td>0.080699</td>\n",
              "      <td>0.090929</td>\n",
              "      <td>0.000000</td>\n",
              "      <td>0.000000</td>\n",
              "      <td>0.080699</td>\n",
              "      <td>0.00000</td>\n",
              "      <td>0.080699</td>\n",
              "      <td>0.000000</td>\n",
              "      <td>0.080699</td>\n",
              "      <td>0.000000</td>\n",
              "      <td>0.00000</td>\n",
              "      <td>0.000000</td>\n",
              "      <td>0.080699</td>\n",
              "      <td>0.080699</td>\n",
              "      <td>0.000000</td>\n",
              "      <td>0.000000</td>\n",
              "      <td>0.000000</td>\n",
              "      <td>0.080699</td>\n",
              "      <td>0.108090</td>\n",
              "      <td>0.000000</td>\n",
              "      <td>0.080699</td>\n",
              "      <td>0.080699</td>\n",
              "      <td>0.000000</td>\n",
              "      <td>0.000000</td>\n",
              "      <td>0.108090</td>\n",
              "      <td>...</td>\n",
              "      <td>0.080699</td>\n",
              "      <td>0.000000</td>\n",
              "      <td>0.080699</td>\n",
              "      <td>0.000000</td>\n",
              "      <td>0.000000</td>\n",
              "      <td>0.260430</td>\n",
              "      <td>0.045465</td>\n",
              "      <td>0.000000</td>\n",
              "      <td>0.000000</td>\n",
              "      <td>0.000000</td>\n",
              "      <td>0.080699</td>\n",
              "      <td>0.080699</td>\n",
              "      <td>0.065108</td>\n",
              "      <td>0.076907</td>\n",
              "      <td>0.000000</td>\n",
              "      <td>0.000000</td>\n",
              "      <td>0.000000</td>\n",
              "      <td>0.000000</td>\n",
              "      <td>0.000000</td>\n",
              "      <td>0.000000</td>\n",
              "      <td>0.080699</td>\n",
              "      <td>0.080699</td>\n",
              "      <td>0.080699</td>\n",
              "      <td>0.000000</td>\n",
              "      <td>0.000000</td>\n",
              "      <td>0.000000</td>\n",
              "      <td>0.000000</td>\n",
              "      <td>0.080699</td>\n",
              "      <td>0.161398</td>\n",
              "      <td>0.000000</td>\n",
              "      <td>0.000000</td>\n",
              "      <td>0.108090</td>\n",
              "      <td>0.195323</td>\n",
              "      <td>0.000000</td>\n",
              "      <td>0.000000</td>\n",
              "      <td>0.080699</td>\n",
              "      <td>0.181858</td>\n",
              "      <td>0.000000</td>\n",
              "      <td>0.108090</td>\n",
              "      <td>0.000000</td>\n",
              "    </tr>\n",
              "  </tbody>\n",
              "</table>\n",
              "<p>5 rows × 241 columns</p>\n",
              "</div>"
            ],
            "text/plain": [
              "        000        10       100  ...    youone      your        z3\n",
              "0  0.000000  0.000000  0.000000  ...  0.000000  0.000000  0.000000\n",
              "1  0.000000  0.000000  0.000000  ...  0.000000  0.130005  0.000000\n",
              "2  0.325947  0.108649  0.108649  ...  0.000000  0.145527  0.108649\n",
              "3  0.000000  0.000000  0.000000  ...  0.084732  0.000000  0.000000\n",
              "4  0.000000  0.000000  0.000000  ...  0.000000  0.108090  0.000000\n",
              "\n",
              "[5 rows x 241 columns]"
            ]
          },
          "metadata": {},
          "execution_count": 8
        }
      ]
    },
    {
      "cell_type": "markdown",
      "metadata": {
        "id": "waxY8FOwedr4"
      },
      "source": [
        "## Multinomial Naive-bayes model"
      ]
    },
    {
      "cell_type": "code",
      "metadata": {
        "id": "ZEhcpnw-Ulb7"
      },
      "source": [
        "X=spamData['Content']\n",
        "y=spamData['Status']"
      ],
      "execution_count": 9,
      "outputs": []
    },
    {
      "cell_type": "code",
      "metadata": {
        "id": "oWnSw3TPUqBy"
      },
      "source": [
        "inputData = X.tolist()"
      ],
      "execution_count": 10,
      "outputs": []
    },
    {
      "cell_type": "code",
      "metadata": {
        "id": "KK67uIjXjmYW"
      },
      "source": [
        "vectorizer2 = TfidfVectorizer(input= inputData, lowercase=True, stop_words='english')"
      ],
      "execution_count": 11,
      "outputs": []
    },
    {
      "cell_type": "code",
      "metadata": {
        "id": "6IQAKpsfjm39"
      },
      "source": [
        "transformed_features = vectorizer2.fit_transform(X)"
      ],
      "execution_count": 12,
      "outputs": []
    },
    {
      "cell_type": "code",
      "metadata": {
        "id": "Vlf-ehaAUsKa"
      },
      "source": [
        "classifier = MultinomialNB().fit(transformed_features, y)"
      ],
      "execution_count": 13,
      "outputs": []
    },
    {
      "cell_type": "code",
      "metadata": {
        "colab": {
          "base_uri": "https://localhost:8080/"
        },
        "id": "MUyS0fRLUtoa",
        "outputId": "a133315c-3c11-4fcb-fd7b-74ad0f196106"
      },
      "source": [
        "print(\"Accuracy : \",(classifier.score(transformed_features, y) * 100))"
      ],
      "execution_count": 14,
      "outputs": [
        {
          "output_type": "stream",
          "name": "stdout",
          "text": [
            "Accuracy :  100.0\n"
          ]
        }
      ]
    },
    {
      "cell_type": "code",
      "metadata": {
        "id": "5LnA8CP_Uvei"
      },
      "source": [
        "testData=\"We are offering you a free iPhone 13 pro max, just click on this link and complete survey only:\"\n",
        "testList = [testData]"
      ],
      "execution_count": 15,
      "outputs": []
    },
    {
      "cell_type": "code",
      "metadata": {
        "id": "Z59rxqwQjpzO"
      },
      "source": [
        "transformed_vector = vectorizer2.transform(testList).toarray()"
      ],
      "execution_count": 16,
      "outputs": []
    },
    {
      "cell_type": "code",
      "metadata": {
        "colab": {
          "base_uri": "https://localhost:8080/"
        },
        "id": "kaiBD_p4jrpW",
        "outputId": "a18a67ce-e96e-4c85-8394-8f6988d3bcb9"
      },
      "source": [
        "testOutput = classifier.predict(transformed_vector)\n",
        "print(testOutput)"
      ],
      "execution_count": 17,
      "outputs": [
        {
          "output_type": "stream",
          "name": "stdout",
          "text": [
            "[1]\n"
          ]
        }
      ]
    }
  ]
}