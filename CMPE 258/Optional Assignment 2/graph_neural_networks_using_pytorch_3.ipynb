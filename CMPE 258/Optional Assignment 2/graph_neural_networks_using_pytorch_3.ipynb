{
  "nbformat": 4,
  "nbformat_minor": 0,
  "metadata": {
    "colab": {
      "name": "graph neural networks using pytorch - 3.ipynb",
      "provenance": [],
      "collapsed_sections": [],
      "include_colab_link": true
    },
    "kernelspec": {
      "name": "python3",
      "display_name": "Python 3"
    }
  },
  "cells": [
    {
      "cell_type": "markdown",
      "metadata": {
        "id": "view-in-github",
        "colab_type": "text"
      },
      "source": [
        "<a href=\"https://colab.research.google.com/github/sarjakpatel/SJSU/blob/main/CMPE%20258/Optional%20Assignment%202/graph_neural_networks_using_pytorch_3.ipynb\" target=\"_parent\"><img src=\"https://colab.research.google.com/assets/colab-badge.svg\" alt=\"Open In Colab\"/></a>"
      ]
    },
    {
      "cell_type": "markdown",
      "source": [
        "# CMPE 258 Optional Catchup Assignment 2"
      ],
      "metadata": {
        "id": "22nRF9nzAHBK"
      }
    },
    {
      "cell_type": "code",
      "metadata": {
        "id": "zn5U4EE6K86v",
        "colab": {
          "base_uri": "https://localhost:8080/"
        },
        "outputId": "6545c15f-60bd-4baa-f8bd-e6c13996b9cc"
      },
      "source": [
        "# Install required packages.\n",
        "import os\n",
        "import torch\n",
        "os.environ['TORCH'] = torch.__version__\n",
        "print(torch.__version__)\n",
        "\n",
        "!pip install -q torch-scatter -f https://data.pyg.org/whl/torch-${TORCH}.html\n",
        "!pip install -q torch-sparse -f https://data.pyg.org/whl/torch-${TORCH}.html\n",
        "!pip install -q git+https://github.com/pyg-team/pytorch_geometric.git"
      ],
      "execution_count": null,
      "outputs": [
        {
          "output_type": "stream",
          "name": "stdout",
          "text": [
            "1.11.0+cu113\n"
          ]
        }
      ]
    },
    {
      "cell_type": "code",
      "metadata": {
        "id": "mHSP6-RBOqCE",
        "colab": {
          "base_uri": "https://localhost:8080/"
        },
        "outputId": "abee2a65-045a-4d3a-ab06-21a9aeb87bf4"
      },
      "source": [
        "import torch\n",
        "from torch_geometric.datasets import TUDataset\n",
        "\n",
        "dataset = TUDataset(root='data/TUDataset', name='MUTAG')\n",
        "\n",
        "print()\n",
        "print(f'Dataset: {dataset}:')\n",
        "print('====================')\n",
        "print(f'Number of graphs: {len(dataset)}')\n",
        "print(f'Number of features: {dataset.num_features}')\n",
        "print(f'Number of classes: {dataset.num_classes}')\n",
        "\n",
        "data = dataset[0]  # Get the first graph object.\n",
        "\n",
        "print()\n",
        "print(data)\n",
        "print('=============================================================')\n",
        "\n",
        "# Gather some statistics about the first graph.\n",
        "print(f'Number of nodes: {data.num_nodes}')\n",
        "print(f'Number of edges: {data.num_edges}')\n",
        "print(f'Average node degree: {data.num_edges / data.num_nodes:.2f}')\n",
        "print(f'Has isolated nodes: {data.has_isolated_nodes()}')\n",
        "print(f'Has self-loops: {data.has_self_loops()}')\n",
        "print(f'Is undirected: {data.is_undirected()}')"
      ],
      "execution_count": null,
      "outputs": [
        {
          "output_type": "stream",
          "name": "stdout",
          "text": [
            "\n",
            "Dataset: MUTAG(188):\n",
            "====================\n",
            "Number of graphs: 188\n",
            "Number of features: 7\n",
            "Number of classes: 2\n",
            "\n",
            "Data(edge_index=[2, 38], x=[17, 7], edge_attr=[38, 4], y=[1])\n",
            "=============================================================\n",
            "Number of nodes: 17\n",
            "Number of edges: 38\n",
            "Average node degree: 2.24\n",
            "Has isolated nodes: False\n",
            "Has self-loops: False\n",
            "Is undirected: True\n"
          ]
        }
      ]
    },
    {
      "cell_type": "code",
      "metadata": {
        "id": "j11WiUr-PRH_",
        "colab": {
          "base_uri": "https://localhost:8080/"
        },
        "outputId": "a018d971-a56e-4dc9-de2a-bb101f5dc9cb"
      },
      "source": [
        "torch.manual_seed(12345)\n",
        "dataset = dataset.shuffle()\n",
        "\n",
        "train_dataset = dataset[:150]\n",
        "test_dataset = dataset[150:]\n",
        "\n",
        "print(f'Number of training graphs: {len(train_dataset)}')\n",
        "print(f'Number of test graphs: {len(test_dataset)}')"
      ],
      "execution_count": null,
      "outputs": [
        {
          "output_type": "stream",
          "name": "stdout",
          "text": [
            "Number of training graphs: 150\n",
            "Number of test graphs: 38\n"
          ]
        }
      ]
    },
    {
      "cell_type": "code",
      "metadata": {
        "id": "0gZ-l0npPIca",
        "colab": {
          "base_uri": "https://localhost:8080/"
        },
        "outputId": "192568f2-2e34-4270-a84d-2e1f39b4fdbc"
      },
      "source": [
        "from torch_geometric.loader import DataLoader\n",
        "\n",
        "train_loader = DataLoader(train_dataset, batch_size=64, shuffle=True)\n",
        "test_loader = DataLoader(test_dataset, batch_size=64, shuffle=False)\n",
        "\n",
        "for step, data in enumerate(train_loader):\n",
        "    print(f'Step {step + 1}:')\n",
        "    print('=======')\n",
        "    print(f'Number of graphs in the current batch: {data.num_graphs}')\n",
        "    print(data)\n",
        "    print()"
      ],
      "execution_count": null,
      "outputs": [
        {
          "output_type": "stream",
          "name": "stdout",
          "text": [
            "Step 1:\n",
            "=======\n",
            "Number of graphs in the current batch: 64\n",
            "DataBatch(edge_index=[2, 2636], x=[1188, 7], edge_attr=[2636, 4], y=[64], batch=[1188], ptr=[65])\n",
            "\n",
            "Step 2:\n",
            "=======\n",
            "Number of graphs in the current batch: 64\n",
            "DataBatch(edge_index=[2, 2506], x=[1139, 7], edge_attr=[2506, 4], y=[64], batch=[1139], ptr=[65])\n",
            "\n",
            "Step 3:\n",
            "=======\n",
            "Number of graphs in the current batch: 22\n",
            "DataBatch(edge_index=[2, 852], x=[387, 7], edge_attr=[852, 4], y=[22], batch=[387], ptr=[23])\n",
            "\n"
          ]
        }
      ]
    },
    {
      "cell_type": "markdown",
      "metadata": {
        "id": "OfQmEavtvOcN"
      },
      "source": [
        "Here, we opt for a `batch_size` of 64, leading to 3 (randomly shuffled) mini-batches, containing all $2 \\cdot 64+22 = 150$ graphs.\n",
        "\n",
        "Furthermore, each `Batch` object is equipped with a **`batch` vector**, which maps each node to its respective graph in the batch:\n",
        "\n",
        "$$\n",
        "\\textrm{batch} = [ 0, \\ldots, 0, 1, \\ldots, 1, 2, \\ldots ]\n",
        "$$"
      ]
    },
    {
      "cell_type": "code",
      "metadata": {
        "id": "CN3sRVuaQ88l",
        "colab": {
          "base_uri": "https://localhost:8080/"
        },
        "outputId": "13852d53-74e6-4f1b-b6b1-d2522a3f50ea"
      },
      "source": [
        "from torch.nn import Linear\n",
        "import torch.nn.functional as F\n",
        "from torch_geometric.nn import GCNConv\n",
        "from torch_geometric.nn import global_mean_pool\n",
        "\n",
        "\n",
        "class GCN(torch.nn.Module):\n",
        "    def __init__(self, hidden_channels):\n",
        "        super(GCN, self).__init__()\n",
        "        torch.manual_seed(12345)\n",
        "        self.conv1 = GCNConv(dataset.num_node_features, hidden_channels)\n",
        "        self.conv2 = GCNConv(hidden_channels, hidden_channels)\n",
        "        self.conv3 = GCNConv(hidden_channels, hidden_channels)\n",
        "        self.lin = Linear(hidden_channels, dataset.num_classes)\n",
        "\n",
        "    def forward(self, x, edge_index, batch):\n",
        "        # 1. Obtain node embeddings \n",
        "        x = self.conv1(x, edge_index)\n",
        "        x = x.relu()\n",
        "        x = self.conv2(x, edge_index)\n",
        "        x = x.relu()\n",
        "        x = self.conv3(x, edge_index)\n",
        "\n",
        "        # 2. Readout layer\n",
        "        x = global_mean_pool(x, batch)  # [batch_size, hidden_channels]\n",
        "\n",
        "        # 3. Apply a final classifier\n",
        "        x = F.dropout(x, p=0.5, training=self.training)\n",
        "        x = self.lin(x)\n",
        "        \n",
        "        return x\n",
        "\n",
        "model = GCN(hidden_channels=64)\n",
        "print(model)"
      ],
      "execution_count": null,
      "outputs": [
        {
          "output_type": "stream",
          "name": "stdout",
          "text": [
            "GCN(\n",
            "  (conv1): GCNConv(7, 64)\n",
            "  (conv2): GCNConv(64, 64)\n",
            "  (conv3): GCNConv(64, 64)\n",
            "  (lin): Linear(in_features=64, out_features=2, bias=True)\n",
            ")\n"
          ]
        }
      ]
    },
    {
      "cell_type": "code",
      "metadata": {
        "id": "HvhgQoO8Svw4",
        "colab": {
          "base_uri": "https://localhost:8080/",
          "height": 300
        },
        "outputId": "26428e65-5533-4a1e-92ae-6bd92c91909c"
      },
      "source": [
        "from IPython.display import Javascript\n",
        "display(Javascript('''google.colab.output.setIframeHeight(0, true, {maxHeight: 300})'''))\n",
        "\n",
        "model = GCN(hidden_channels=64)\n",
        "optimizer = torch.optim.Adam(model.parameters(), lr=0.01)\n",
        "criterion = torch.nn.CrossEntropyLoss()\n",
        "\n",
        "def train():\n",
        "    model.train()\n",
        "\n",
        "    for data in train_loader:  # Iterate in batches over the training dataset.\n",
        "         out = model(data.x, data.edge_index, data.batch)  # Perform a single forward pass.\n",
        "         loss = criterion(out, data.y)  # Compute the loss.\n",
        "         loss.backward()  # Derive gradients.\n",
        "         optimizer.step()  # Update parameters based on gradients.\n",
        "         optimizer.zero_grad()  # Clear gradients.\n",
        "\n",
        "def test(loader):\n",
        "     model.eval()\n",
        "\n",
        "     correct = 0\n",
        "     for data in loader:  # Iterate in batches over the training/test dataset.\n",
        "         out = model(data.x, data.edge_index, data.batch)  \n",
        "         pred = out.argmax(dim=1)  # Use the class with highest probability.\n",
        "         correct += int((pred == data.y).sum())  # Check against ground-truth labels.\n",
        "     return correct / len(loader.dataset)  # Derive ratio of correct predictions.\n",
        "\n",
        "\n",
        "for epoch in range(1, 171):\n",
        "    train()\n",
        "    train_acc = test(train_loader)\n",
        "    test_acc = test(test_loader)\n",
        "    print(f'Epoch: {epoch:03d}, Train Acc: {train_acc:.4f}, Test Acc: {test_acc:.4f}')"
      ],
      "execution_count": null,
      "outputs": [
        {
          "output_type": "display_data",
          "data": {
            "text/plain": [
              "<IPython.core.display.Javascript object>"
            ],
            "application/javascript": [
              "google.colab.output.setIframeHeight(0, true, {maxHeight: 300})"
            ]
          },
          "metadata": {}
        },
        {
          "output_type": "stream",
          "name": "stdout",
          "text": [
            "Epoch: 001, Train Acc: 0.6467, Test Acc: 0.7368\n",
            "Epoch: 002, Train Acc: 0.6467, Test Acc: 0.7368\n",
            "Epoch: 003, Train Acc: 0.6467, Test Acc: 0.7368\n",
            "Epoch: 004, Train Acc: 0.6467, Test Acc: 0.7368\n",
            "Epoch: 005, Train Acc: 0.6467, Test Acc: 0.7368\n",
            "Epoch: 006, Train Acc: 0.6533, Test Acc: 0.7368\n",
            "Epoch: 007, Train Acc: 0.7467, Test Acc: 0.7632\n",
            "Epoch: 008, Train Acc: 0.7267, Test Acc: 0.7632\n",
            "Epoch: 009, Train Acc: 0.7200, Test Acc: 0.7632\n",
            "Epoch: 010, Train Acc: 0.7133, Test Acc: 0.7895\n",
            "Epoch: 011, Train Acc: 0.7200, Test Acc: 0.7632\n",
            "Epoch: 012, Train Acc: 0.7200, Test Acc: 0.7895\n",
            "Epoch: 013, Train Acc: 0.7200, Test Acc: 0.7895\n",
            "Epoch: 014, Train Acc: 0.7133, Test Acc: 0.8421\n",
            "Epoch: 015, Train Acc: 0.7133, Test Acc: 0.8421\n",
            "Epoch: 016, Train Acc: 0.7533, Test Acc: 0.7368\n",
            "Epoch: 017, Train Acc: 0.7400, Test Acc: 0.7632\n",
            "Epoch: 018, Train Acc: 0.7133, Test Acc: 0.8421\n",
            "Epoch: 019, Train Acc: 0.7400, Test Acc: 0.7895\n",
            "Epoch: 020, Train Acc: 0.7533, Test Acc: 0.7368\n",
            "Epoch: 021, Train Acc: 0.7467, Test Acc: 0.7895\n",
            "Epoch: 022, Train Acc: 0.7467, Test Acc: 0.7895\n",
            "Epoch: 023, Train Acc: 0.7533, Test Acc: 0.7895\n",
            "Epoch: 024, Train Acc: 0.7267, Test Acc: 0.8421\n",
            "Epoch: 025, Train Acc: 0.7533, Test Acc: 0.7632\n",
            "Epoch: 026, Train Acc: 0.7533, Test Acc: 0.7632\n",
            "Epoch: 027, Train Acc: 0.7600, Test Acc: 0.8158\n",
            "Epoch: 028, Train Acc: 0.7533, Test Acc: 0.8421\n",
            "Epoch: 029, Train Acc: 0.7600, Test Acc: 0.7632\n",
            "Epoch: 030, Train Acc: 0.7600, Test Acc: 0.8158\n",
            "Epoch: 031, Train Acc: 0.7600, Test Acc: 0.8158\n",
            "Epoch: 032, Train Acc: 0.7600, Test Acc: 0.7632\n",
            "Epoch: 033, Train Acc: 0.7667, Test Acc: 0.7632\n",
            "Epoch: 034, Train Acc: 0.7667, Test Acc: 0.7895\n",
            "Epoch: 035, Train Acc: 0.7667, Test Acc: 0.7895\n",
            "Epoch: 036, Train Acc: 0.7667, Test Acc: 0.7632\n",
            "Epoch: 037, Train Acc: 0.7400, Test Acc: 0.7632\n",
            "Epoch: 038, Train Acc: 0.7667, Test Acc: 0.8158\n",
            "Epoch: 039, Train Acc: 0.7667, Test Acc: 0.7895\n",
            "Epoch: 040, Train Acc: 0.7533, Test Acc: 0.7368\n",
            "Epoch: 041, Train Acc: 0.7467, Test Acc: 0.7368\n",
            "Epoch: 042, Train Acc: 0.7667, Test Acc: 0.7895\n",
            "Epoch: 043, Train Acc: 0.7667, Test Acc: 0.8158\n",
            "Epoch: 044, Train Acc: 0.7533, Test Acc: 0.7632\n",
            "Epoch: 045, Train Acc: 0.7600, Test Acc: 0.7632\n",
            "Epoch: 046, Train Acc: 0.7600, Test Acc: 0.7632\n",
            "Epoch: 047, Train Acc: 0.7667, Test Acc: 0.8158\n",
            "Epoch: 048, Train Acc: 0.7600, Test Acc: 0.7632\n",
            "Epoch: 049, Train Acc: 0.7667, Test Acc: 0.7632\n",
            "Epoch: 050, Train Acc: 0.7667, Test Acc: 0.8158\n",
            "Epoch: 051, Train Acc: 0.7733, Test Acc: 0.7895\n",
            "Epoch: 052, Train Acc: 0.7733, Test Acc: 0.8158\n",
            "Epoch: 053, Train Acc: 0.7667, Test Acc: 0.7632\n",
            "Epoch: 054, Train Acc: 0.7667, Test Acc: 0.7632\n",
            "Epoch: 055, Train Acc: 0.7800, Test Acc: 0.7895\n",
            "Epoch: 056, Train Acc: 0.7667, Test Acc: 0.7632\n",
            "Epoch: 057, Train Acc: 0.7533, Test Acc: 0.7632\n",
            "Epoch: 058, Train Acc: 0.7733, Test Acc: 0.7895\n",
            "Epoch: 059, Train Acc: 0.7800, Test Acc: 0.7632\n",
            "Epoch: 060, Train Acc: 0.7733, Test Acc: 0.8158\n",
            "Epoch: 061, Train Acc: 0.7667, Test Acc: 0.7632\n",
            "Epoch: 062, Train Acc: 0.7733, Test Acc: 0.8158\n",
            "Epoch: 063, Train Acc: 0.7733, Test Acc: 0.8158\n",
            "Epoch: 064, Train Acc: 0.7733, Test Acc: 0.8158\n",
            "Epoch: 065, Train Acc: 0.7733, Test Acc: 0.8158\n",
            "Epoch: 066, Train Acc: 0.7733, Test Acc: 0.7895\n",
            "Epoch: 067, Train Acc: 0.7733, Test Acc: 0.7895\n",
            "Epoch: 068, Train Acc: 0.7667, Test Acc: 0.7895\n",
            "Epoch: 069, Train Acc: 0.7733, Test Acc: 0.8158\n",
            "Epoch: 070, Train Acc: 0.7667, Test Acc: 0.7895\n",
            "Epoch: 071, Train Acc: 0.7733, Test Acc: 0.7895\n",
            "Epoch: 072, Train Acc: 0.7800, Test Acc: 0.7895\n",
            "Epoch: 073, Train Acc: 0.7733, Test Acc: 0.8158\n",
            "Epoch: 074, Train Acc: 0.7733, Test Acc: 0.8158\n",
            "Epoch: 075, Train Acc: 0.7667, Test Acc: 0.7632\n",
            "Epoch: 076, Train Acc: 0.7800, Test Acc: 0.7895\n",
            "Epoch: 077, Train Acc: 0.7800, Test Acc: 0.7895\n",
            "Epoch: 078, Train Acc: 0.7733, Test Acc: 0.8421\n",
            "Epoch: 079, Train Acc: 0.7667, Test Acc: 0.8158\n",
            "Epoch: 080, Train Acc: 0.7800, Test Acc: 0.7895\n",
            "Epoch: 081, Train Acc: 0.7667, Test Acc: 0.7895\n",
            "Epoch: 082, Train Acc: 0.7600, Test Acc: 0.7632\n",
            "Epoch: 083, Train Acc: 0.7800, Test Acc: 0.7895\n",
            "Epoch: 084, Train Acc: 0.7733, Test Acc: 0.7895\n",
            "Epoch: 085, Train Acc: 0.7667, Test Acc: 0.7895\n",
            "Epoch: 086, Train Acc: 0.7800, Test Acc: 0.8158\n",
            "Epoch: 087, Train Acc: 0.7667, Test Acc: 0.7895\n",
            "Epoch: 088, Train Acc: 0.7800, Test Acc: 0.7895\n",
            "Epoch: 089, Train Acc: 0.7667, Test Acc: 0.7895\n",
            "Epoch: 090, Train Acc: 0.7800, Test Acc: 0.7895\n",
            "Epoch: 091, Train Acc: 0.7800, Test Acc: 0.7895\n",
            "Epoch: 092, Train Acc: 0.7800, Test Acc: 0.8158\n",
            "Epoch: 093, Train Acc: 0.7800, Test Acc: 0.7895\n",
            "Epoch: 094, Train Acc: 0.7733, Test Acc: 0.7895\n",
            "Epoch: 095, Train Acc: 0.7800, Test Acc: 0.7895\n",
            "Epoch: 096, Train Acc: 0.7600, Test Acc: 0.7895\n",
            "Epoch: 097, Train Acc: 0.7733, Test Acc: 0.7895\n",
            "Epoch: 098, Train Acc: 0.7733, Test Acc: 0.8158\n",
            "Epoch: 099, Train Acc: 0.7733, Test Acc: 0.7895\n",
            "Epoch: 100, Train Acc: 0.7733, Test Acc: 0.7895\n",
            "Epoch: 101, Train Acc: 0.7667, Test Acc: 0.7895\n",
            "Epoch: 102, Train Acc: 0.7667, Test Acc: 0.7895\n",
            "Epoch: 103, Train Acc: 0.7733, Test Acc: 0.7895\n",
            "Epoch: 104, Train Acc: 0.7600, Test Acc: 0.7632\n",
            "Epoch: 105, Train Acc: 0.7733, Test Acc: 0.7368\n",
            "Epoch: 106, Train Acc: 0.7600, Test Acc: 0.7632\n",
            "Epoch: 107, Train Acc: 0.7733, Test Acc: 0.7105\n",
            "Epoch: 108, Train Acc: 0.8000, Test Acc: 0.7632\n",
            "Epoch: 109, Train Acc: 0.7800, Test Acc: 0.7895\n",
            "Epoch: 110, Train Acc: 0.7733, Test Acc: 0.7632\n",
            "Epoch: 111, Train Acc: 0.7733, Test Acc: 0.7895\n",
            "Epoch: 112, Train Acc: 0.7733, Test Acc: 0.7895\n",
            "Epoch: 113, Train Acc: 0.7667, Test Acc: 0.7895\n",
            "Epoch: 114, Train Acc: 0.7733, Test Acc: 0.7895\n",
            "Epoch: 115, Train Acc: 0.7667, Test Acc: 0.7895\n",
            "Epoch: 116, Train Acc: 0.7733, Test Acc: 0.7632\n",
            "Epoch: 117, Train Acc: 0.7733, Test Acc: 0.7895\n",
            "Epoch: 118, Train Acc: 0.7733, Test Acc: 0.7632\n",
            "Epoch: 119, Train Acc: 0.7667, Test Acc: 0.7632\n",
            "Epoch: 120, Train Acc: 0.8000, Test Acc: 0.7105\n",
            "Epoch: 121, Train Acc: 0.7600, Test Acc: 0.7632\n",
            "Epoch: 122, Train Acc: 0.7667, Test Acc: 0.7105\n",
            "Epoch: 123, Train Acc: 0.7667, Test Acc: 0.7632\n",
            "Epoch: 124, Train Acc: 0.7667, Test Acc: 0.7632\n",
            "Epoch: 125, Train Acc: 0.7667, Test Acc: 0.7632\n",
            "Epoch: 126, Train Acc: 0.7733, Test Acc: 0.7368\n",
            "Epoch: 127, Train Acc: 0.7733, Test Acc: 0.7632\n",
            "Epoch: 128, Train Acc: 0.7733, Test Acc: 0.7632\n",
            "Epoch: 129, Train Acc: 0.7733, Test Acc: 0.7632\n",
            "Epoch: 130, Train Acc: 0.7733, Test Acc: 0.7632\n",
            "Epoch: 131, Train Acc: 0.7667, Test Acc: 0.7632\n",
            "Epoch: 132, Train Acc: 0.7800, Test Acc: 0.7895\n",
            "Epoch: 133, Train Acc: 0.7733, Test Acc: 0.7632\n",
            "Epoch: 134, Train Acc: 0.7667, Test Acc: 0.7632\n",
            "Epoch: 135, Train Acc: 0.8067, Test Acc: 0.7368\n",
            "Epoch: 136, Train Acc: 0.7800, Test Acc: 0.7632\n",
            "Epoch: 137, Train Acc: 0.7733, Test Acc: 0.7632\n",
            "Epoch: 138, Train Acc: 0.8133, Test Acc: 0.7105\n",
            "Epoch: 139, Train Acc: 0.7867, Test Acc: 0.7632\n",
            "Epoch: 140, Train Acc: 0.7800, Test Acc: 0.7895\n",
            "Epoch: 141, Train Acc: 0.8000, Test Acc: 0.6579\n",
            "Epoch: 142, Train Acc: 0.7733, Test Acc: 0.7632\n",
            "Epoch: 143, Train Acc: 0.7933, Test Acc: 0.7632\n",
            "Epoch: 144, Train Acc: 0.7867, Test Acc: 0.7368\n",
            "Epoch: 145, Train Acc: 0.8267, Test Acc: 0.7368\n",
            "Epoch: 146, Train Acc: 0.7667, Test Acc: 0.7895\n",
            "Epoch: 147, Train Acc: 0.7800, Test Acc: 0.7105\n",
            "Epoch: 148, Train Acc: 0.7933, Test Acc: 0.7895\n",
            "Epoch: 149, Train Acc: 0.8200, Test Acc: 0.7105\n",
            "Epoch: 150, Train Acc: 0.7800, Test Acc: 0.7895\n",
            "Epoch: 151, Train Acc: 0.7800, Test Acc: 0.7632\n",
            "Epoch: 152, Train Acc: 0.7867, Test Acc: 0.7632\n",
            "Epoch: 153, Train Acc: 0.8067, Test Acc: 0.7368\n",
            "Epoch: 154, Train Acc: 0.8067, Test Acc: 0.7368\n",
            "Epoch: 155, Train Acc: 0.7867, Test Acc: 0.7632\n",
            "Epoch: 156, Train Acc: 0.7800, Test Acc: 0.7105\n",
            "Epoch: 157, Train Acc: 0.8000, Test Acc: 0.7368\n",
            "Epoch: 158, Train Acc: 0.7800, Test Acc: 0.7368\n",
            "Epoch: 159, Train Acc: 0.7867, Test Acc: 0.7632\n",
            "Epoch: 160, Train Acc: 0.7867, Test Acc: 0.7632\n",
            "Epoch: 161, Train Acc: 0.7800, Test Acc: 0.7632\n",
            "Epoch: 162, Train Acc: 0.7867, Test Acc: 0.7632\n",
            "Epoch: 163, Train Acc: 0.7867, Test Acc: 0.7632\n",
            "Epoch: 164, Train Acc: 0.7800, Test Acc: 0.8158\n",
            "Epoch: 165, Train Acc: 0.7800, Test Acc: 0.8158\n",
            "Epoch: 166, Train Acc: 0.7733, Test Acc: 0.7632\n",
            "Epoch: 167, Train Acc: 0.7867, Test Acc: 0.7895\n",
            "Epoch: 168, Train Acc: 0.7867, Test Acc: 0.7895\n",
            "Epoch: 169, Train Acc: 0.8000, Test Acc: 0.7632\n",
            "Epoch: 170, Train Acc: 0.8000, Test Acc: 0.7632\n"
          ]
        }
      ]
    },
    {
      "cell_type": "markdown",
      "metadata": {
        "id": "9mTJL0WfzeBq"
      },
      "source": [
        "As one can see, our model reaches around **76% test accuracy**.\n",
        "Reasons for the fluctations in accuracy can be explained by the rather small dataset (only 38 test graphs), and usually disappear once one applies GNNs to larger datasets.\n",
        "\n"
      ]
    }
  ]
}