{
  "nbformat": 4,
  "nbformat_minor": 0,
  "metadata": {
    "colab": {
      "name": "CMPE 258 Assignment 3.1.ipynb",
      "provenance": [],
      "authorship_tag": "ABX9TyMaH+f+P5VXbVxns5vYRcH6",
      "include_colab_link": true
    },
    "kernelspec": {
      "name": "python3",
      "display_name": "Python 3"
    },
    "language_info": {
      "name": "python"
    }
  },
  "cells": [
    {
      "cell_type": "markdown",
      "metadata": {
        "id": "view-in-github",
        "colab_type": "text"
      },
      "source": [
        "<a href=\"https://colab.research.google.com/github/sarjakpatel/SJSU/blob/main/CMPE%20258/Assignment%203/CMPE_258_Assignment_3_1.ipynb\" target=\"_parent\"><img src=\"https://colab.research.google.com/assets/colab-badge.svg\" alt=\"Open In Colab\"/></a>"
      ]
    },
    {
      "cell_type": "markdown",
      "source": [
        "# CMPE 258 Assignment 3.1\n",
        " Write  a colab  numpy only from scratch 3 layer deep neural network for non linear regression . Use proper non linear activation functions and proper number of hidden layer neurons - show the results / loss and epochs training and final output . You will be doing manual backprop and chain rule based gradient propagation "
      ],
      "metadata": {
        "id": "KcpUYBj4t3xy"
      }
    },
    {
      "cell_type": "markdown",
      "source": [
        " **Creating the data set using numpy array of 0s and 1s**"
      ],
      "metadata": {
        "id": "QoMWyBs1tK07"
      }
    },
    {
      "cell_type": "code",
      "execution_count": 13,
      "metadata": {
        "id": "iBnzt1DAsoWm"
      },
      "outputs": [],
      "source": [
        "# Creating data set\n",
        "\n",
        "# A\n",
        "a =[0, 0, 1, 1, 0, 0,\n",
        "0, 1, 0, 0, 1, 0,\n",
        "1, 1, 1, 1, 1, 1,\n",
        "1, 0, 0, 0, 0, 1,\n",
        "1, 0, 0, 0, 0, 1]\n",
        "\n",
        "# B\n",
        "b =[0, 1, 1, 1, 1, 0,\n",
        "0, 1, 0, 0, 1, 0,\n",
        "0, 1, 1, 1, 1, 0,\n",
        "0, 1, 0, 0, 1, 0,\n",
        "0, 1, 1, 1, 1, 0]\n",
        "\n",
        "# C\n",
        "c =[0, 1, 1, 1, 1, 0,\n",
        "0, 1, 0, 0, 0, 0,\n",
        "0, 1, 0, 0, 0, 0,\n",
        "0, 1, 0, 0, 0, 0,\n",
        "0, 1, 1, 1, 1, 0]\n",
        "\n",
        "# Creating labels\n",
        "y =[[1, 0, 0],\n",
        "[0, 1, 0],\n",
        "[0, 0, 1]]"
      ]
    },
    {
      "cell_type": "code",
      "source": [
        "import numpy as np\n",
        "import matplotlib.pyplot as plt\n",
        "# visualizing the data, ploting A.\n",
        "plt.imshow(np.array(a).reshape(5, 6))\n",
        "plt.show()"
      ],
      "metadata": {
        "colab": {
          "base_uri": "https://localhost:8080/",
          "height": 265
        },
        "id": "9JMR_FP1ssHk",
        "outputId": "c1ab1525-5b47-46dc-cb06-6afbcec44a2a"
      },
      "execution_count": 14,
      "outputs": [
        {
          "output_type": "display_data",
          "data": {
            "image/png": "[encoded data removed]",
            "text/plain": [
              "<Figure size 432x288 with 1 Axes>"
            ]
          },
          "metadata": {
            "needs_background": "light"
          }
        }
      ]
    },
    {
      "cell_type": "markdown",
      "source": [
        "**Defining the architecture or structure of the deep neural network**"
      ],
      "metadata": {
        "id": "JBm-3N7UtXb7"
      }
    },
    {
      "cell_type": "markdown",
      "source": [
        "Convert the matrix of 0 and 1 into one hot vector\n",
        "so that we can directly feed it to the neural network,\n",
        "these vectors are then stored in a list x."
      ],
      "metadata": {
        "id": "r9alzYv_uQH2"
      }
    },
    {
      "cell_type": "code",
      "source": [
        "x =[np.array(a).reshape(1, 30), np.array(b).reshape(1, 30),\n",
        "\t\t\t\t\t\t\t\tnp.array(c).reshape(1, 30)]"
      ],
      "metadata": {
        "id": "wDBwRNeLsuw5"
      },
      "execution_count": 15,
      "outputs": []
    },
    {
      "cell_type": "code",
      "source": [
        "# Labels are also converted into NumPy array\n",
        "y = np.array(y)"
      ],
      "metadata": {
        "id": "UnPW1C0fuXGA"
      },
      "execution_count": 16,
      "outputs": []
    },
    {
      "cell_type": "code",
      "source": [
        "print(x, \"\\n\\n\", y)"
      ],
      "metadata": {
        "colab": {
          "base_uri": "https://localhost:8080/"
        },
        "id": "5eX2uKLOuX4o",
        "outputId": "e9478b53-0684-4761-c7c9-4c5f0a714e7b"
      },
      "execution_count": 17,
      "outputs": [
        {
          "output_type": "stream",
          "name": "stdout",
          "text": [
            "[array([[0, 0, 1, 1, 0, 0, 0, 1, 0, 0, 1, 0, 1, 1, 1, 1, 1, 1, 1, 0, 0, 0,\n",
            "        0, 1, 1, 0, 0, 0, 0, 1]]), array([[0, 1, 1, 1, 1, 0, 0, 1, 0, 0, 1, 0, 0, 1, 1, 1, 1, 0, 0, 1, 0, 0,\n",
            "        1, 0, 0, 1, 1, 1, 1, 0]]), array([[0, 1, 1, 1, 1, 0, 0, 1, 0, 0, 0, 0, 0, 1, 0, 0, 0, 0, 0, 1, 0, 0,\n",
            "        0, 0, 0, 1, 1, 1, 1, 0]])] \n",
            "\n",
            " [[1 0 0]\n",
            " [0 1 0]\n",
            " [0 0 1]]\n"
          ]
        }
      ]
    },
    {
      "cell_type": "markdown",
      "source": [
        "**Declaring and defining all the function to build deep neural network**"
      ],
      "metadata": {
        "id": "hUI-nb1ntcP_"
      }
    },
    {
      "cell_type": "markdown",
      "source": [
        "activation function:"
      ],
      "metadata": {
        "id": "7XnwZW2PugBc"
      }
    },
    {
      "cell_type": "code",
      "source": [
        "def sigmoid(x):\n",
        "\treturn(1/(1 + np.exp(-x)))"
      ],
      "metadata": {
        "id": "O6EDdOcVuwj1"
      },
      "execution_count": 18,
      "outputs": []
    },
    {
      "cell_type": "markdown",
      "source": [
        "Creating the Feed forward neural network:\n",
        "\n",
        "1 Input layer(1, 30)\n",
        "\n",
        "1 hidden layer (1, 5)\n",
        "\n",
        "1 output layer(3, 3)"
      ],
      "metadata": {
        "id": "SCApnvpjuje9"
      }
    },
    {
      "cell_type": "code",
      "source": [
        "def f_forward(x, w1, w2):\n",
        "\t# hidden\n",
        "\tz1 = x.dot(w1)# input from layer 1\n",
        "\ta1 = sigmoid(z1)# out put of layer 2\n",
        "\t\n",
        "\t# Output layer\n",
        "\tz2 = a1.dot(w2)# input of out layer\n",
        "\ta2 = sigmoid(z2)# output of out layer\n",
        "\treturn(a2)\n",
        "\n",
        "# initializing the weights randomly\n",
        "def generate_wt(x, y):\n",
        "\tl =[]\n",
        "\tfor i in range(x * y):\n",
        "\t\tl.append(np.random.randn())\n",
        "\treturn(np.array(l).reshape(x, y))\n",
        "\t\n",
        "# for loss we will be using mean square error(MSE)\n",
        "def loss(out, Y):\n",
        "\ts =(np.square(out-Y))\n",
        "\ts = np.sum(s)/len(y)\n",
        "\treturn(s)\n",
        "\n",
        "# Back propagation of error\n",
        "def back_prop(x, y, w1, w2, alpha):\n",
        "\t\n",
        "\t# hidden layer\n",
        "\tz1 = x.dot(w1)# input from layer 1\n",
        "\ta1 = sigmoid(z1)# output of layer 2\n",
        "\t\n",
        "\t# Output layer\n",
        "\tz2 = a1.dot(w2)# input of out layer\n",
        "\ta2 = sigmoid(z2)# output of out layer\n",
        "\t# error in output layer\n",
        "\td2 =(a2-y)\n",
        "\td1 = np.multiply((w2.dot((d2.transpose()))).transpose(),\n",
        "\t\t\t\t\t\t\t\t(np.multiply(a1, 1-a1)))\n",
        "\n",
        "\t# Gradient for w1 and w2\n",
        "\tw1_adj = x.transpose().dot(d1)\n",
        "\tw2_adj = a1.transpose().dot(d2)\n",
        "\t\n",
        "\t# Updating parameters\n",
        "\tw1 = w1-(alpha*(w1_adj))\n",
        "\tw2 = w2-(alpha*(w2_adj))\n",
        "\t\n",
        "\treturn(w1, w2)"
      ],
      "metadata": {
        "id": "UbkoUmJHu68q"
      },
      "execution_count": 19,
      "outputs": []
    },
    {
      "cell_type": "code",
      "source": [
        "def train(x, Y, w1, w2, alpha = 0.01, epoch = 10):\n",
        "\tacc =[]\n",
        "\tlosss =[]\n",
        "\tfor j in range(epoch):\n",
        "\t\tl =[]\n",
        "\t\tfor i in range(len(x)):\n",
        "\t\t\tout = f_forward(x[i], w1, w2)\n",
        "\t\t\tl.append((loss(out, Y[i])))\n",
        "\t\t\tw1, w2 = back_prop(x[i], y[i], w1, w2, alpha)\n",
        "\t\tprint(\"epochs:\", j + 1, \"======== acc:\", (1-(sum(l)/len(x)))*100)\n",
        "\t\tacc.append((1-(sum(l)/len(x)))*100)\n",
        "\t\tlosss.append(sum(l)/len(x))\n",
        "\treturn(acc, losss, w1, w2)\n",
        "\n",
        "def predict(x, w1, w2):\n",
        "\tOut = f_forward(x, w1, w2)\n",
        "\tmaxm = 0\n",
        "\tk = 0\n",
        "\tfor i in range(len(Out[0])):\n",
        "\t\tif(maxm<Out[0][i]):\n",
        "\t\t\tmaxm = Out[0][i]\n",
        "\t\t\tk = i\n",
        "\tif(k == 0):\n",
        "\t\tprint(\"Image is of letter A.\")\n",
        "\telif(k == 1):\n",
        "\t\tprint(\"Image is of letter B.\")\n",
        "\telse:\n",
        "\t\tprint(\"Image is of letter C.\")\n",
        "\tplt.imshow(x.reshape(5, 6))\n",
        "\tplt.show()"
      ],
      "metadata": {
        "id": "u_BPSyGNs1P7"
      },
      "execution_count": 20,
      "outputs": []
    },
    {
      "cell_type": "markdown",
      "source": [
        "**Initializing the weights, as the neural network is having 3 layers, so there will be 2 weight matrix associate with it. The size of each matrix depends on the number of nodes in two connecting layers**"
      ],
      "metadata": {
        "id": "V-KKaPdUtjI2"
      }
    },
    {
      "cell_type": "code",
      "source": [
        "w1 = generate_wt(30, 5)\n",
        "w2 = generate_wt(5, 3)\n",
        "print(w1, \"\\n\\n\", w2)"
      ],
      "metadata": {
        "colab": {
          "base_uri": "https://localhost:8080/"
        },
        "id": "n6T6GRCYs1n3",
        "outputId": "65d64137-fd7b-41db-c40e-93d21a1afa38"
      },
      "execution_count": 21,
      "outputs": [
        {
          "output_type": "stream",
          "name": "stdout",
          "text": [
            "[[ 1.24404146  0.60171581 -0.01718101 -1.82078739  0.17074933]\n",
            " [-1.91470829 -0.73039179 -0.23068292  0.90881414 -0.93807059]\n",
            " [-0.27963904 -0.05264864 -0.56892522  0.35396771 -1.71849042]\n",
            " [ 1.37863885  1.73941207  0.01433121  0.92877171  0.70030075]\n",
            " [ 0.43738899 -0.22423897 -1.54783435 -0.0758692  -0.6981387 ]\n",
            " [ 0.49862094  0.43068431 -2.61872138 -1.13829207  0.59109138]\n",
            " [ 0.25554547 -1.70613989 -0.50885516  0.81911325  0.72246237]\n",
            " [ 0.70379044 -0.54335481  0.35209004  0.64315412  2.38568648]\n",
            " [-0.4851605   0.73512566 -0.6551338  -0.37976675 -0.82584063]\n",
            " [ 1.67869463  1.12919788 -1.53679659 -0.20021384 -2.15405781]\n",
            " [ 0.9364723   1.55139056  1.36469595  1.00561688  0.82446497]\n",
            " [-0.5404768   0.24295172  0.64079018  1.28139116 -0.67383378]\n",
            " [ 0.36345532  0.53080532  0.06626967 -0.75661079 -1.58818729]\n",
            " [ 0.72529011 -2.52104245 -1.08660236  1.35950728 -0.79690392]\n",
            " [ 1.61695178  1.31351154  0.85040029  0.58159159  0.7402119 ]\n",
            " [-0.70811954 -1.39673584 -0.7683765   0.02141079 -0.00518841]\n",
            " [ 0.4751816  -0.25976504  0.85613178  0.68301901  0.00903413]\n",
            " [-0.48645019  0.40366934  0.06087192  0.55264059 -0.24134749]\n",
            " [ 0.41459045  0.77277425  0.37019755  0.95022446 -2.27745008]\n",
            " [-0.18411896  0.28095149  0.57395732  2.33902562 -0.23104963]\n",
            " [ 0.21382126 -0.39263417  1.12323105  1.27414416  1.03925731]\n",
            " [-0.13666276  0.17799647 -0.60949114 -1.4202606   0.93452602]\n",
            " [-0.23137404  1.05141213  2.20802918 -0.18733326  1.63997465]\n",
            " [-0.18107888  1.38327721  0.74731115 -1.5087268  -0.02788181]\n",
            " [ 1.45587983  1.18895352 -0.86720582 -0.12090819 -0.92509992]\n",
            " [-1.01858439 -0.9140918  -1.19938844 -0.51818736  0.2079782 ]\n",
            " [-1.28842047 -1.54575128  1.55395228 -0.12607037  0.4822352 ]\n",
            " [-0.57660485  0.31181826  0.0941942  -0.30582916 -0.62339175]\n",
            " [-0.50423782 -0.85226663 -0.34316398  0.31751752 -0.88518603]\n",
            " [ 0.4960602  -1.75391425 -0.17365984  1.1607396  -0.52634774]] \n",
            "\n",
            " [[ 0.4427349   0.15052039  1.12370346]\n",
            " [ 0.87295702  0.33496589 -0.25640212]\n",
            " [ 1.54029471 -0.29232834 -0.80172429]\n",
            " [ 0.24811251  0.08955495  0.27921612]\n",
            " [-0.92988873 -1.04208691  1.0961186 ]]\n"
          ]
        }
      ]
    },
    {
      "cell_type": "markdown",
      "source": [
        "**Training the model**"
      ],
      "metadata": {
        "id": "D9kEfXS2tnrF"
      }
    },
    {
      "cell_type": "markdown",
      "source": [
        "The arguments of train function are data set list x,\n",
        "correct labels y, weights w1, w2, learning rate = 0.1,\n",
        "no of epochs or iteration.The function will return the\n",
        "matrix of accuracy and loss and also the matrix of\n",
        "trained weights w1, w2"
      ],
      "metadata": {
        "id": "mTZUYHHgvD6K"
      }
    },
    {
      "cell_type": "code",
      "source": [
        "acc, losss, w1, w2 = train(x, y, w1, w2, 0.1, 100)"
      ],
      "metadata": {
        "colab": {
          "base_uri": "https://localhost:8080/"
        },
        "id": "zKHTAQcPs3a6",
        "outputId": "141d7109-bfd3-4120-8bab-5756a0610d4f"
      },
      "execution_count": 22,
      "outputs": [
        {
          "output_type": "stream",
          "name": "stdout",
          "text": [
            "epochs: 1 ======== acc: 66.0353702865802\n",
            "epochs: 2 ======== acc: 69.6700872988904\n",
            "epochs: 3 ======== acc: 72.61850379033439\n",
            "epochs: 4 ======== acc: 74.99937451608344\n",
            "epochs: 5 ======== acc: 76.93674712672764\n",
            "epochs: 6 ======== acc: 78.53147023286226\n",
            "epochs: 7 ======== acc: 79.86162627546275\n",
            "epochs: 8 ======== acc: 80.9874642838565\n",
            "epochs: 9 ======== acc: 81.95580587482914\n",
            "epochs: 10 ======== acc: 82.80329334893814\n",
            "epochs: 11 ======== acc: 83.55870075604385\n",
            "epochs: 12 ======== acc: 84.2445620032339\n",
            "epochs: 13 ======== acc: 84.87827371114042\n",
            "epochs: 14 ======== acc: 85.47277195280414\n",
            "epochs: 15 ======== acc: 86.03688970341274\n",
            "epochs: 16 ======== acc: 86.57557017536996\n",
            "epochs: 17 ======== acc: 87.09020172417067\n",
            "epochs: 18 ======== acc: 87.57935757997744\n",
            "epochs: 19 ======== acc: 88.04005223224371\n",
            "epochs: 20 ======== acc: 88.46927471277232\n",
            "epochs: 21 ======== acc: 88.86527458595256\n",
            "epochs: 22 ======== acc: 89.22815281398874\n",
            "epochs: 23 ======== acc: 89.55970899082575\n",
            "epochs: 24 ======== acc: 89.86285490102614\n",
            "epochs: 25 ======== acc: 90.14096858623162\n",
            "epochs: 26 ======== acc: 90.39740951651764\n",
            "epochs: 27 ======== acc: 90.63524250973023\n",
            "epochs: 28 ======== acc: 90.85712580185067\n",
            "epochs: 29 ======== acc: 91.06529904033337\n",
            "epochs: 30 ======== acc: 91.26162043420672\n",
            "epochs: 31 ======== acc: 91.44762170404009\n",
            "epochs: 32 ======== acc: 91.62456446686168\n",
            "epochs: 33 ======== acc: 91.79349089189084\n",
            "epochs: 34 ======== acc: 91.95526636619768\n",
            "epochs: 35 ======== acc: 92.11061421710615\n",
            "epochs: 36 ======== acc: 92.2601434549567\n",
            "epochs: 37 ======== acc: 92.40437073900738\n",
            "epochs: 38 ======== acc: 92.54373771246794\n",
            "epochs: 39 ======== acc: 92.67862468927966\n",
            "epochs: 40 ======== acc: 92.80936149216704\n",
            "epochs: 41 ======== acc: 92.93623607426329\n",
            "epochs: 42 ======== acc: 93.05950141656054\n",
            "epochs: 43 ======== acc: 93.17938108125917\n",
            "epochs: 44 ======== acc: 93.29607371343072\n",
            "epochs: 45 ======== acc: 93.40975671585147\n",
            "epochs: 46 ======== acc: 93.520589270183\n",
            "epochs: 47 ======== acc: 93.62871483826922\n",
            "epochs: 48 ======== acc: 93.73426324729174\n",
            "epochs: 49 ======== acc: 93.83735243961534\n",
            "epochs: 50 ======== acc: 93.93808995063281\n",
            "epochs: 51 ======== acc: 94.0365741644714\n",
            "epochs: 52 ======== acc: 94.13289538706128\n",
            "epochs: 53 ======== acc: 94.2271367680475\n",
            "epochs: 54 ======== acc: 94.31937509679015\n",
            "epochs: 55 ======== acc: 94.40968149282232\n",
            "epochs: 56 ======== acc: 94.4981220073056\n",
            "epochs: 57 ======== acc: 94.58475814899634\n",
            "epochs: 58 ======== acc: 94.6696473458328\n",
            "epochs: 59 ======== acc: 94.752843351333\n",
            "epochs: 60 ======== acc: 94.83439660345097\n",
            "epochs: 61 ======== acc: 94.91435454229322\n",
            "epochs: 62 ======== acc: 94.99276189208514\n",
            "epochs: 63 ======== acc: 95.0696609119496\n",
            "epochs: 64 ======== acc: 95.1450916193808\n",
            "epochs: 65 ======== acc: 95.21909198973479\n",
            "epochs: 66 ======== acc: 95.29169813459072\n",
            "epochs: 67 ======== acc: 95.3629444614479\n",
            "epochs: 68 ======== acc: 95.43286381689529\n",
            "epochs: 69 ======== acc: 95.5014876151139\n",
            "epochs: 70 ======== acc: 95.56884595333729\n",
            "epochs: 71 ======== acc: 95.6349677156956\n",
            "epochs: 72 ======== acc: 95.6998806666961\n",
            "epochs: 73 ======== acc: 95.76361153544613\n",
            "epochs: 74 ======== acc: 95.82618609159593\n",
            "epochs: 75 ======== acc: 95.88762921386821\n",
            "epochs: 76 ======== acc: 95.94796495194439\n",
            "epochs: 77 ======== acc: 96.0072165823928\n",
            "epochs: 78 ======== acc: 96.06540665925016\n",
            "epochs: 79 ======== acc: 96.12255705980192\n",
            "epochs: 80 ======== acc: 96.17868902604954\n",
            "epochs: 81 ======== acc: 96.23382320230152\n",
            "epochs: 82 ======== acc: 96.28797966928018\n",
            "epochs: 83 ======== acc: 96.34117797509487\n",
            "epochs: 84 ======== acc: 96.39343716339759\n",
            "epochs: 85 ======== acc: 96.44477579900398\n",
            "epochs: 86 ======== acc: 96.49521199123427\n",
            "epochs: 87 ======== acc: 96.54476341520358\n",
            "epochs: 88 ======== acc: 96.59344733126703\n",
            "epochs: 89 ======== acc: 96.6412806028054\n",
            "epochs: 90 ======== acc: 96.68827971251793\n",
            "epochs: 91 ======== acc: 96.73446077737229\n",
            "epochs: 92 ======== acc: 96.7798395623471\n",
            "epochs: 93 ======== acc: 96.8244314930882\n",
            "epochs: 94 ======== acc: 96.86825166758842\n",
            "epochs: 95 ======== acc: 96.9113148669891\n",
            "epochs: 96 ======== acc: 96.95363556559198\n",
            "epochs: 97 ======== acc: 96.99522794016102\n",
            "epochs: 98 ======== acc: 97.036105878586\n",
            "epochs: 99 ======== acc: 97.07628298797182\n",
            "epochs: 100 ======== acc: 97.11577260221168\n"
          ]
        }
      ]
    },
    {
      "cell_type": "markdown",
      "source": [
        "**Plotting the graphs of loss and accuracy with respect to number of epochs(Iteration)**"
      ],
      "metadata": {
        "id": "g04HAbe4ttah"
      }
    },
    {
      "cell_type": "code",
      "source": [
        "import matplotlib.pyplot as plt1\n",
        "\n",
        "# ploting accuraccy\n",
        "plt1.plot(acc)\n",
        "plt1.ylabel('Accuracy')\n",
        "plt1.xlabel(\"Epochs:\")\n",
        "plt1.show()\n",
        "\n",
        "# plotting Loss\n",
        "plt1.plot(losss)\n",
        "plt1.ylabel('Loss')\n",
        "plt1.xlabel(\"Epochs:\")\n",
        "plt1.show()"
      ],
      "metadata": {
        "colab": {
          "base_uri": "https://localhost:8080/",
          "height": 542
        },
        "id": "avMA6eols5-y",
        "outputId": "92209447-fe15-401a-c7c9-e520a4440eab"
      },
      "execution_count": 23,
      "outputs": [
        {
          "output_type": "display_data",
          "data": {
            "image/png": "[encoded data removed]",
            "text/plain": [
              "<Figure size 432x288 with 1 Axes>"
            ]
          },
          "metadata": {
            "needs_background": "light"
          }
        },
        {
          "output_type": "display_data",
          "data": {
            "image/png": "[encoded data removed]",
            "text/plain": [
              "<Figure size 432x288 with 1 Axes>"
            ]
          },
          "metadata": {
            "needs_background": "light"
          }
        }
      ]
    },
    {
      "cell_type": "code",
      "source": [
        "# the trained weigths are\n",
        "print(w1, \"\\n\", w2)"
      ],
      "metadata": {
        "colab": {
          "base_uri": "https://localhost:8080/"
        },
        "id": "-Ts2INGAs8x1",
        "outputId": "e5380412-a0c0-4e9a-e435-006aa107a73a"
      },
      "execution_count": 24,
      "outputs": [
        {
          "output_type": "stream",
          "name": "stdout",
          "text": [
            "[[ 1.24404146  0.60171581 -0.01718101 -1.82078739  0.17074933]\n",
            " [-2.13976237 -0.85374682 -0.39038248  0.91759143 -0.46091561]\n",
            " [-0.49529176 -0.033595   -0.56056896  0.36197257 -1.34781399]\n",
            " [ 1.16298613  1.75846571  0.02268747  0.93677656  1.07097718]\n",
            " [ 0.21233491 -0.34759399 -1.70753391 -0.0670919  -0.22098373]\n",
            " [ 0.49862094  0.43068431 -2.61872138 -1.13829207  0.59109138]\n",
            " [ 0.25554547 -1.70613989 -0.50885516  0.81911325  0.72246237]\n",
            " [ 0.48813772 -0.52430117  0.3604463   0.65115897  2.75636291]\n",
            " [-0.4851605   0.73512566 -0.6551338  -0.37976675 -0.82584063]\n",
            " [ 1.67869463  1.12919788 -1.53679659 -0.20021384 -2.15405781]\n",
            " [ 0.67107796  1.57860017  1.85566554  1.00423863  0.63565933]\n",
            " [-0.5404768   0.24295172  0.64079018  1.28139116 -0.67383378]\n",
            " [ 0.37285669  0.67321399  0.23432549 -0.75738323 -1.69466583]\n",
            " [ 0.5096374  -2.50198881 -1.0782461   1.36751214 -0.42622748]\n",
            " [ 1.35155744  1.34072115  1.34136989  0.58021333  0.55140626]\n",
            " [-0.97351389 -1.36952623 -0.27740691  0.02003254 -0.19399405]\n",
            " [ 0.20978726 -0.23255542  1.34710138  0.68164075 -0.17977151]\n",
            " [-0.47704882  0.546078    0.22892774  0.55186815 -0.34782603]\n",
            " [ 0.42399182  0.91518292  0.53825337  0.94945202 -2.38392862]\n",
            " [-0.40917304  0.15759646  0.41425776  2.34780291  0.24610534]\n",
            " [ 0.21382126 -0.39263417  1.12323105  1.27414416  1.03925731]\n",
            " [-0.13666276  0.17799647 -0.60949114 -1.4202606   0.93452602]\n",
            " [-0.50616974  0.93621307  2.53094296 -0.18793908  1.55764755]\n",
            " [-0.17167752  1.52568588  0.91536696 -1.50949924 -0.13436035]\n",
            " [ 1.4652812   1.33136218 -0.69915    -0.12168063 -1.03157846]\n",
            " [-1.24363847 -1.03744683 -1.359088   -0.50941007  0.68513318]\n",
            " [-1.51347455 -1.66910631  1.39425272 -0.11729308  0.95939018]\n",
            " [-0.80165893  0.18846324 -0.06550536 -0.29705187 -0.14623677]\n",
            " [-0.72929191 -0.97562166 -0.50286354  0.32629481 -0.40803106]\n",
            " [ 0.50546157 -1.61150559 -0.00560402  1.15996716 -0.63282628]] \n",
            " [[ 1.33107736 -1.61002248  0.09450432]\n",
            " [ 1.82483917 -1.37043184 -1.19240292]\n",
            " [ 1.10357051  1.90312868 -3.50465984]\n",
            " [-1.30009462 -1.25941369  0.44233781]\n",
            " [-2.69227656  0.36567579  1.17877384]]\n"
          ]
        }
      ]
    },
    {
      "cell_type": "markdown",
      "source": [
        "**Making prediction**"
      ],
      "metadata": {
        "id": "HNNwHAyOtytI"
      }
    },
    {
      "cell_type": "markdown",
      "source": [
        "The predict function will take the following arguments:\n",
        "\n",
        "1) image matrix\n",
        "2) w1 trained weights\n",
        "3) w2 trained weights"
      ],
      "metadata": {
        "id": "meqDZ4oHvN-W"
      }
    },
    {
      "cell_type": "code",
      "source": [
        "predict(x[1], w1, w2)"
      ],
      "metadata": {
        "colab": {
          "base_uri": "https://localhost:8080/",
          "height": 283
        },
        "id": "xnR-DZEntBd-",
        "outputId": "03bd59f8-b62d-46cd-fe56-5ccc2a9a36ff"
      },
      "execution_count": 25,
      "outputs": [
        {
          "output_type": "stream",
          "name": "stdout",
          "text": [
            "Image is of letter B.\n"
          ]
        },
        {
          "output_type": "display_data",
          "data": {
            "image/png": "[encoded data removed]",
            "text/plain": [
              "<Figure size 432x288 with 1 Axes>"
            ]
          },
          "metadata": {
            "needs_background": "light"
          }
        }
      ]
    },
    {
      "cell_type": "code",
      "source": [
        ""
      ],
      "metadata": {
        "id": "5KUU-lcKtDdh"
      },
      "execution_count": 25,
      "outputs": []
    }
  ]
}