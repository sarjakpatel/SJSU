{
  "nbformat": 4,
  "nbformat_minor": 0,
  "metadata": {
    "colab": {
      "name": "TensorOperationsUsingTensorFlow.ipynb",
      "provenance": [],
      "include_colab_link": true
    },
    "kernelspec": {
      "name": "python3",
      "display_name": "Python 3"
    },
    "language_info": {
      "name": "python"
    },
    "accelerator": "GPU"
  },
  "cells": [
    {
      "cell_type": "markdown",
      "metadata": {
        "id": "view-in-github",
        "colab_type": "text"
      },
      "source": [
        "<a href=\"https://colab.research.google.com/github/sarjakpatel/SJSU/blob/main/CMPE%20258/Assignment%202/TensorOperationsUsingTensorFlow.ipynb\" target=\"_parent\"><img src=\"https://colab.research.google.com/assets/colab-badge.svg\" alt=\"Open In Colab\"/></a>"
      ]
    },
    {
      "cell_type": "markdown",
      "source": [
        "# CMPE 258 Assignment 2 : Tensor Operations using TensorFlow"
      ],
      "metadata": {
        "id": "P71a6rNnuA46"
      }
    },
    {
      "cell_type": "code",
      "execution_count": 2,
      "metadata": {
        "id": "TwMYXpYfGsZo"
      },
      "outputs": [],
      "source": [
        "import tensorflow as tf"
      ]
    },
    {
      "cell_type": "markdown",
      "source": [
        "**Basic Operations on tf.Tensor object:**"
      ],
      "metadata": {
        "id": "wFvp6f5gJ3v7"
      }
    },
    {
      "cell_type": "markdown",
      "source": [
        "Addition:"
      ],
      "metadata": {
        "id": "ghZKZDePrX_7"
      }
    },
    {
      "cell_type": "code",
      "source": [
        "print(tf.add(10, 11))\n",
        "print(tf.add([5, 6], [10, 11]))"
      ],
      "metadata": {
        "colab": {
          "base_uri": "https://localhost:8080/"
        },
        "id": "eqwktA-wrbxk",
        "outputId": "21ab676d-a2c5-4719-c0a5-a5bc2d515ea1"
      },
      "execution_count": 3,
      "outputs": [
        {
          "output_type": "stream",
          "name": "stdout",
          "text": [
            "tf.Tensor(21, shape=(), dtype=int32)\n",
            "tf.Tensor([15 17], shape=(2,), dtype=int32)\n"
          ]
        }
      ]
    },
    {
      "cell_type": "code",
      "source": [
        "print(tf.square(8))\n",
        "print(tf.reduce_sum([4, 5, 6]))"
      ],
      "metadata": {
        "colab": {
          "base_uri": "https://localhost:8080/"
        },
        "id": "1kQp8sPFriV6",
        "outputId": "6be6a2e4-cce4-4dd2-cd77-ee37ad9c081d"
      },
      "execution_count": 4,
      "outputs": [
        {
          "output_type": "stream",
          "name": "stdout",
          "text": [
            "tf.Tensor(64, shape=(), dtype=int32)\n",
            "tf.Tensor(15, shape=(), dtype=int32)\n"
          ]
        }
      ]
    },
    {
      "cell_type": "markdown",
      "source": [
        "operator overloading:"
      ],
      "metadata": {
        "id": "8q5Y-mWWrlS5"
      }
    },
    {
      "cell_type": "code",
      "source": [
        "print(tf.square(5) + tf.square(6)) #"
      ],
      "metadata": {
        "colab": {
          "base_uri": "https://localhost:8080/"
        },
        "id": "PsgpMz8rHrTp",
        "outputId": "d8becf3c-7254-4753-bc7e-af62be8df4ae"
      },
      "execution_count": 5,
      "outputs": [
        {
          "output_type": "stream",
          "name": "stdout",
          "text": [
            "tf.Tensor(61, shape=(), dtype=int32)\n"
          ]
        }
      ]
    },
    {
      "cell_type": "markdown",
      "source": [
        "Matrix Multiplication:"
      ],
      "metadata": {
        "id": "_99vC9mZr2F6"
      }
    },
    {
      "cell_type": "code",
      "source": [
        "matrix = tf.matmul([[1]], [[2, 3]])\n",
        "print(matrix)\n",
        "print(matrix.shape)\n",
        "print(matrix.dtype)"
      ],
      "metadata": {
        "colab": {
          "base_uri": "https://localhost:8080/"
        },
        "id": "Da6GG10eJ8Ox",
        "outputId": "204325d3-6899-49aa-9d7f-6b9b4fa91ec0"
      },
      "execution_count": 6,
      "outputs": [
        {
          "output_type": "stream",
          "name": "stdout",
          "text": [
            "tf.Tensor([[2 3]], shape=(1, 2), dtype=int32)\n",
            "(1, 2)\n",
            "<dtype: 'int32'>\n"
          ]
        }
      ]
    },
    {
      "cell_type": "markdown",
      "source": [
        "**Scalar Tensor:**"
      ],
      "metadata": {
        "id": "VHel-wJ6-yVh"
      }
    },
    {
      "cell_type": "code",
      "source": [
        "scalar_tensor = tf.constant(1)\n",
        "print(scalar_tensor)"
      ],
      "metadata": {
        "colab": {
          "base_uri": "https://localhost:8080/"
        },
        "id": "l0z6_tyg-xS7",
        "outputId": "4d79d698-0c5b-433f-824e-7351e69f4d95"
      },
      "execution_count": 7,
      "outputs": [
        {
          "output_type": "stream",
          "name": "stdout",
          "text": [
            "tf.Tensor(1, shape=(), dtype=int32)\n"
          ]
        }
      ]
    },
    {
      "cell_type": "markdown",
      "source": [
        "**Vector Tensor:**"
      ],
      "metadata": {
        "id": "lvA3_EBq-8hb"
      }
    },
    {
      "cell_type": "code",
      "source": [
        "vector_tensor = tf.constant([1.0, 2.0, 3.0, 4.0])\n",
        "print(vector_tensor)"
      ],
      "metadata": {
        "colab": {
          "base_uri": "https://localhost:8080/"
        },
        "id": "Nr19JFHD-9Kz",
        "outputId": "3bf60dec-c671-4ac3-a1c6-0a6c9542eb55"
      },
      "execution_count": 8,
      "outputs": [
        {
          "output_type": "stream",
          "name": "stdout",
          "text": [
            "tf.Tensor([1. 2. 3. 4.], shape=(4,), dtype=float32)\n"
          ]
        }
      ]
    },
    {
      "cell_type": "markdown",
      "source": [
        "**Matrix Tensor:**"
      ],
      "metadata": {
        "id": "JozyLA4H_KuY"
      }
    },
    {
      "cell_type": "code",
      "source": [
        "matrix_tensor1 =  tf.constant([[14, 15],[13, 12]]) # this will create a 2x2 matrix\n",
        "\n",
        "matrix_tensor2 =  tf.constant([[11, 3], [6,4]])\n",
        "\n",
        "matrix_tensor3 =  tf.constant([[3, 9], [22,11],[55,66]])"
      ],
      "metadata": {
        "id": "89w_l9Si_PrM"
      },
      "execution_count": 11,
      "outputs": []
    },
    {
      "cell_type": "code",
      "source": [
        "# Largest value inside the matrix tensor\n",
        "print(\"Largest value of tensor 1 \",tf.reduce_max(matrix_tensor1))\n",
        "print(\"Largest value of tensor 2 \",tf.reduce_max(matrix_tensor2))\n",
        "# Index of the largest value present inside the matrix tensor\n",
        "print(\"index of Largest value of tensor 1\",tf.argmax(matrix_tensor1))\n",
        "print(\"index of Largest value of tensor 2\",tf.argmax(matrix_tensor2))\n",
        "# Arithmetic Addition of 2 tensors\n",
        "print(\"Arithmetic Addition\",tf.add(matrix_tensor1, matrix_tensor2), \"\\n\")\n",
        "# Multiplication of 2 tensors\n",
        "print(\"Multiplication\",tf.multiply(matrix_tensor1, matrix_tensor2), \"\\n\")\n",
        "# Matrix Multiplication\n",
        "print(\"Matrix Multiplication\",tf.matmul(matrix_tensor1, matrix_tensor2), \"\\n\")"
      ],
      "metadata": {
        "colab": {
          "base_uri": "https://localhost:8080/"
        },
        "id": "EISMT-6b_Qz8",
        "outputId": "5c499cd9-3356-4ab2-df76-9c179a0c86f2"
      },
      "execution_count": 12,
      "outputs": [
        {
          "output_type": "stream",
          "name": "stdout",
          "text": [
            "Largest value of tensor 1  tf.Tensor(15, shape=(), dtype=int32)\n",
            "Largest value of tensor 2  tf.Tensor(11, shape=(), dtype=int32)\n",
            "index of Largest value of tensor 1 tf.Tensor([0 0], shape=(2,), dtype=int64)\n",
            "index of Largest value of tensor 2 tf.Tensor([0 1], shape=(2,), dtype=int64)\n",
            "Arithmetic Addition tf.Tensor(\n",
            "[[25 18]\n",
            " [19 16]], shape=(2, 2), dtype=int32) \n",
            "\n",
            "Multiplication tf.Tensor(\n",
            "[[154  45]\n",
            " [ 78  48]], shape=(2, 2), dtype=int32) \n",
            "\n",
            "Matrix Multiplication tf.Tensor(\n",
            "[[244 102]\n",
            " [215  87]], shape=(2, 2), dtype=int32) \n",
            "\n"
          ]
        }
      ]
    },
    {
      "cell_type": "code",
      "source": [
        "print(\"Type of every element:\", matrix_tensor1.dtype)\n",
        "print(\"Number of axes:\", matrix_tensor1.ndim)\n",
        "print(\"Shape of tensor:\", matrix_tensor1.shape)\n",
        "print(\"Elements along axis 0 of tensor:\", matrix_tensor1.shape[0])\n",
        "print(\"Elements along the last axis of tensor:\", matrix_tensor1.shape[-1])\n",
        "print(\"Total number of elements (3*2*4*5): \", tf.size(matrix_tensor1).numpy())"
      ],
      "metadata": {
        "colab": {
          "base_uri": "https://localhost:8080/"
        },
        "id": "oBsl71B6_iO_",
        "outputId": "a2f858a0-1b10-4c78-fd2f-4ec17b2f762c"
      },
      "execution_count": 13,
      "outputs": [
        {
          "output_type": "stream",
          "name": "stdout",
          "text": [
            "Type of every element: <dtype: 'int32'>\n",
            "Number of axes: 2\n",
            "Shape of tensor: (2, 2)\n",
            "Elements along axis 0 of tensor: 2\n",
            "Elements along the last axis of tensor: 2\n",
            "Total number of elements (3*2*4*5):  4\n"
          ]
        }
      ]
    },
    {
      "cell_type": "markdown",
      "source": [
        "**Indexing:**"
      ],
      "metadata": {
        "id": "xkm01ZFC_qMI"
      }
    },
    {
      "cell_type": "code",
      "source": [
        "tensor1 = tf.zeros([1,2,3])\n",
        "\n",
        "print(\"Integer present:\", tensor1.ndim)\n",
        "\n",
        "print(\"Shape :\", tensor1.shape)\n",
        "\n",
        "print(\"Elements along second axis of tensor:\", tensor1.shape[2])\n",
        "\n",
        "print(\"Elements along the last axis of tensor:\", tensor1.shape[-1])"
      ],
      "metadata": {
        "colab": {
          "base_uri": "https://localhost:8080/"
        },
        "id": "0fOiLmeF_pyA",
        "outputId": "af572d47-3f32-4ff8-c0b5-61502d9b72d9"
      },
      "execution_count": 15,
      "outputs": [
        {
          "output_type": "stream",
          "name": "stdout",
          "text": [
            "Integer present: 3\n",
            "Shape : (1, 2, 3)\n",
            "Elements along second axis of tensor: 3\n",
            "Elements along the last axis of tensor: 3\n"
          ]
        }
      ]
    },
    {
      "cell_type": "code",
      "source": [
        "# Slicing of the indices to get a specific portion of the tensor\n",
        "print(\"The tensor displayed is :\", matrix_tensor3[:].numpy())\n",
        "\n",
        "print(\"From 3, before the second last element:\", matrix_tensor3[2:7].numpy())\n",
        "print(\"Reversed tensor is displayed as :\", matrix_tensor3[::-1].numpy())"
      ],
      "metadata": {
        "colab": {
          "base_uri": "https://localhost:8080/"
        },
        "id": "29z2QTLw_zLn",
        "outputId": "0a7af64e-921b-49d9-b70a-1bc083689007"
      },
      "execution_count": 16,
      "outputs": [
        {
          "output_type": "stream",
          "name": "stdout",
          "text": [
            "The tensor displayed is : [[ 3  9]\n",
            " [22 11]\n",
            " [55 66]]\n",
            "From 3, before the second last element: [[55 66]]\n",
            "Reversed tensor is displayed as : [[55 66]\n",
            " [22 11]\n",
            " [ 3  9]]\n"
          ]
        }
      ]
    },
    {
      "cell_type": "markdown",
      "source": [
        "**Size Manipulation:**"
      ],
      "metadata": {
        "id": "TNM1l1W4_2eC"
      }
    },
    {
      "cell_type": "code",
      "source": [
        "# Shape returns a `TensorShape` object that shows the size along each axis\n",
        "x = tf.constant([[1], [2], [3],[4],[5],[6]])\n",
        "print(\"The size of a tensor is \",x.shape)"
      ],
      "metadata": {
        "colab": {
          "base_uri": "https://localhost:8080/"
        },
        "id": "_KTeHbHn_4m-",
        "outputId": "84ac4854-4b58-4d14-d320-21832ac69f97"
      },
      "execution_count": 17,
      "outputs": [
        {
          "output_type": "stream",
          "name": "stdout",
          "text": [
            "The size of a tensor is  (6, 1)\n"
          ]
        }
      ]
    },
    {
      "cell_type": "code",
      "source": [
        "reshape = tf.reshape(x, [1, 6])\n",
        "print(\"The size  of a reshaped tensor x is \",reshape.shape)\n",
        "print(\"The reshaped tensor is\", reshape)"
      ],
      "metadata": {
        "colab": {
          "base_uri": "https://localhost:8080/"
        },
        "id": "Mc_VPkIU_6vw",
        "outputId": "cf00c881-097e-43f6-c3b6-9cd131c9c333"
      },
      "execution_count": 18,
      "outputs": [
        {
          "output_type": "stream",
          "name": "stdout",
          "text": [
            "The size  of a reshaped tensor x is  (1, 6)\n",
            "The reshaped tensor is tf.Tensor([[1 2 3 4 5 6]], shape=(1, 6), dtype=int32)\n"
          ]
        }
      ]
    },
    {
      "cell_type": "markdown",
      "source": [
        "**Conversion between NumPy and Tensorflow**"
      ],
      "metadata": {
        "id": "Qd_06NOJKZgD"
      }
    },
    {
      "cell_type": "code",
      "source": [
        "import numpy as np"
      ],
      "metadata": {
        "id": "LrzALVzLsVw4"
      },
      "execution_count": null,
      "outputs": []
    },
    {
      "cell_type": "code",
      "source": [
        "numpyArray = np.ones([2, 2])"
      ],
      "metadata": {
        "id": "za5JzcGesYbE"
      },
      "execution_count": null,
      "outputs": []
    },
    {
      "cell_type": "code",
      "source": [
        "tensor = tf.multiply(numpyArray, 100)\n",
        "print(tensor)"
      ],
      "metadata": {
        "colab": {
          "base_uri": "https://localhost:8080/"
        },
        "id": "bdXTDFS9sbs0",
        "outputId": "289e3464-eb4d-484c-e544-dee0418c544a"
      },
      "execution_count": null,
      "outputs": [
        {
          "output_type": "stream",
          "name": "stdout",
          "text": [
            "tf.Tensor(\n",
            "[[100. 100.]\n",
            " [100. 100.]], shape=(2, 2), dtype=float64)\n"
          ]
        }
      ]
    },
    {
      "cell_type": "code",
      "source": [
        "print(\"The .numpy() method explicitly converts a Tensor to a numpy array\")\n",
        "print(tensor.numpy())"
      ],
      "metadata": {
        "colab": {
          "base_uri": "https://localhost:8080/"
        },
        "id": "FuA36f4TKEXx",
        "outputId": "a35070d8-1dfb-4b57-cce8-05b1bcb953bd"
      },
      "execution_count": null,
      "outputs": [
        {
          "output_type": "stream",
          "name": "stdout",
          "text": [
            "The .numpy() method explicitly converts a Tensor to a numpy array\n",
            "[[100. 100.]\n",
            " [100. 100.]]\n"
          ]
        }
      ]
    },
    {
      "cell_type": "markdown",
      "source": [
        "**Broadcasting :**"
      ],
      "metadata": {
        "id": "2MTI_fvR_-yz"
      }
    },
    {
      "cell_type": "code",
      "source": [
        "x = tf.constant([1, 1, 1]) # a unit tensor \n",
        "\n",
        "y = tf.constant(2)\n",
        "\n",
        "# All of these are the same computation\n",
        "print(tf.multiply(x, 2))\n",
        "print(x * y)\n",
        "# both operations will multiply all the elements by 2, here the size will be the same"
      ],
      "metadata": {
        "colab": {
          "base_uri": "https://localhost:8080/"
        },
        "id": "MUrJDKIdAHSk",
        "outputId": "5892aefb-2a36-41d8-b084-b0cb755f7416"
      },
      "execution_count": 19,
      "outputs": [
        {
          "output_type": "stream",
          "name": "stdout",
          "text": [
            "tf.Tensor([2 2 2], shape=(3,), dtype=int32)\n",
            "tf.Tensor([2 2 2], shape=(3,), dtype=int32)\n"
          ]
        }
      ]
    },
    {
      "cell_type": "markdown",
      "source": [
        "**GPU acceleration**"
      ],
      "metadata": {
        "id": "TemgFNk4LsEi"
      }
    },
    {
      "cell_type": "code",
      "source": [
        "x = tf.random.uniform([2, 2])\n",
        "\n",
        "print(\"Is there a GPU available: \"),\n",
        "print(tf.config.list_physical_devices(\"GPU\"))\n",
        "\n",
        "print(\"Is the Tensor on GPU #0:  \"),\n",
        "print(x.device.endswith('GPU:0'))"
      ],
      "metadata": {
        "colab": {
          "base_uri": "https://localhost:8080/"
        },
        "id": "Gyo2FCQxKjXP",
        "outputId": "709c714d-e488-4f46-c77e-9dea5d5f68b4"
      },
      "execution_count": null,
      "outputs": [
        {
          "output_type": "stream",
          "name": "stdout",
          "text": [
            "Is there a GPU available: \n",
            "[PhysicalDevice(name='/physical_device:GPU:0', device_type='GPU')]\n",
            "Is the Tensor on GPU #0:  \n",
            "True\n"
          ]
        }
      ]
    },
    {
      "cell_type": "code",
      "source": [
        "import time\n",
        "\n",
        "def time_matmul(x):\n",
        "  start = time.time()\n",
        "  for loop in range(5):\n",
        "    tf.matmul(x, x)\n",
        "\n",
        "  result = time.time()-start\n",
        "\n",
        "  print(\"5 loops: {:0.2f}ms\".format(1000*result))\n",
        "\n",
        "# Force execution on CPU\n",
        "print(\"Matrix Multiplication On CPU:\")\n",
        "with tf.device(\"CPU:0\"):\n",
        "  x = tf.random.uniform([5000, 5000])\n",
        "  assert x.device.endswith(\"CPU:0\")\n",
        "  time_matmul(x)\n",
        "\n",
        "# Force execution on GPU #0 if available\n",
        "if tf.config.list_physical_devices(\"GPU\"):\n",
        "  print(\"Matrix Multiplication On GPU:\")\n",
        "  with tf.device(\"GPU:0\"): # Or GPU:1 for the 2nd GPU, GPU:2 for the 3rd etc.\n",
        "    x = tf.random.uniform([5000, 5000])\n",
        "    assert x.device.endswith(\"GPU:0\")\n",
        "    time_matmul(x)"
      ],
      "metadata": {
        "colab": {
          "base_uri": "https://localhost:8080/"
        },
        "id": "XjltY7rALs8f",
        "outputId": "c1de615e-feda-49f4-9152-9c9a86a0a594"
      },
      "execution_count": null,
      "outputs": [
        {
          "output_type": "stream",
          "name": "stdout",
          "text": [
            "Matrix Multiplication On CPU:\n",
            "5 loops: 17393.15ms\n",
            "Matrix Multiplication On GPU:\n",
            "5 loops: 1.19ms\n"
          ]
        }
      ]
    },
    {
      "cell_type": "markdown",
      "source": [
        " tensorflow functions on a dataset:"
      ],
      "metadata": {
        "id": "aZEGEQvGARkD"
      }
    },
    {
      "cell_type": "code",
      "source": [
        "ds_tensors = tf.data.Dataset.from_tensor_slices([1, 2, 3, 4, 5, 6])\n",
        "\n",
        "# Create a CSV file\n",
        "import tempfile\n",
        "_, filename = tempfile.mkstemp()\n",
        "\n",
        "with open(filename, 'w') as f:\n",
        "  f.write(\"\"\"Line 1\n",
        "Line 2\n",
        "Line 3\n",
        "  \"\"\")\n",
        "\n",
        "ds_file = tf.data.TextLineDataset(filename)"
      ],
      "metadata": {
        "id": "07IOJWoSMB8Q"
      },
      "execution_count": null,
      "outputs": []
    },
    {
      "cell_type": "code",
      "source": [
        "ds_tensors = ds_tensors.map(tf.square).shuffle(2).batch(2)\n",
        "\n",
        "ds_file = ds_file.batch(2)"
      ],
      "metadata": {
        "id": "evct5FvZRTXo"
      },
      "execution_count": null,
      "outputs": []
    },
    {
      "cell_type": "code",
      "source": [
        "print('Elements of ds_tensors:')\n",
        "for x in ds_tensors:\n",
        "  print(x)\n",
        "\n",
        "print('\\nElements in ds_file:')\n",
        "for x in ds_file:\n",
        "  print(x)"
      ],
      "metadata": {
        "colab": {
          "base_uri": "https://localhost:8080/"
        },
        "id": "ZRO71JA5RV8x",
        "outputId": "25aa34fb-b282-48b8-8356-46f1873f4416"
      },
      "execution_count": null,
      "outputs": [
        {
          "output_type": "stream",
          "name": "stdout",
          "text": [
            "Elements of ds_tensors:\n",
            "tf.Tensor([4 1], shape=(2,), dtype=int32)\n",
            "tf.Tensor([ 9 25], shape=(2,), dtype=int32)\n",
            "tf.Tensor([16 36], shape=(2,), dtype=int32)\n",
            "\n",
            "Elements in ds_file:\n",
            "tf.Tensor([b'Line 1' b'Line 2'], shape=(2,), dtype=string)\n",
            "tf.Tensor([b'Line 3' b'  '], shape=(2,), dtype=string)\n"
          ]
        }
      ]
    },
    {
      "cell_type": "markdown",
      "source": [
        "**Einsum Operations:**"
      ],
      "metadata": {
        "id": "3xkAoN86R-If"
      }
    },
    {
      "cell_type": "code",
      "source": [
        "m0 = tf.random.normal(shape=[2, 4])\n",
        "m1 = tf.random.normal(shape=[4, 5])\n",
        "e = tf.einsum('ij,jk->ik', m0, m1)\n",
        "# output[i,k] = sum_j m0[i,j] * m1[j, k]\n",
        "print(e.shape)\n"
      ],
      "metadata": {
        "colab": {
          "base_uri": "https://localhost:8080/"
        },
        "id": "hycjjNSIRYgK",
        "outputId": "44291b5a-b6de-476c-853d-ccf4aa53c17f"
      },
      "execution_count": null,
      "outputs": [
        {
          "output_type": "stream",
          "name": "stdout",
          "text": [
            "(2, 5)\n"
          ]
        }
      ]
    },
    {
      "cell_type": "code",
      "source": [
        "e = tf.einsum('ij,jk', m0, m1)  # output[i,k] = sum_j m0[i,j] * m1[j, k]\n",
        "print(e.shape)"
      ],
      "metadata": {
        "colab": {
          "base_uri": "https://localhost:8080/"
        },
        "id": "1qW6BJaOSABE",
        "outputId": "4c28422a-364e-49f7-c1f2-a7b271922df6"
      },
      "execution_count": null,
      "outputs": [
        {
          "output_type": "stream",
          "name": "stdout",
          "text": [
            "(2, 5)\n"
          ]
        }
      ]
    },
    {
      "cell_type": "code",
      "source": [
        "u = tf.random.normal(shape=[5])\n",
        "v = tf.random.normal(shape=[5])\n",
        "e = tf.einsum('i,i->', u, v)  # output = sum_i u[i]*v[i]\n",
        "print(e.shape)"
      ],
      "metadata": {
        "colab": {
          "base_uri": "https://localhost:8080/"
        },
        "id": "ANTlcuGlSQ9J",
        "outputId": "a18cc1b4-9d79-49c5-8fa8-a6d142fb72cf"
      },
      "execution_count": null,
      "outputs": [
        {
          "output_type": "stream",
          "name": "stdout",
          "text": [
            "()\n"
          ]
        }
      ]
    },
    {
      "cell_type": "code",
      "source": [
        "u = tf.random.normal(shape=[3])\n",
        "v = tf.random.normal(shape=[5])\n",
        "e = tf.einsum('i,j->ij', u, v)  # output[i,j] = u[i]*v[j]\n",
        "print(e.shape)"
      ],
      "metadata": {
        "colab": {
          "base_uri": "https://localhost:8080/"
        },
        "id": "fEwlClP2STVt",
        "outputId": "bb0e877f-b755-4d1f-c3be-0493897c232f"
      },
      "execution_count": null,
      "outputs": [
        {
          "output_type": "stream",
          "name": "stdout",
          "text": [
            "(3, 5)\n"
          ]
        }
      ]
    },
    {
      "cell_type": "code",
      "source": [
        "m = tf.ones(2,3)\n",
        "e = tf.einsum('ij->ji', m0)  # output[j,i] = m0[i,j]\n",
        "print(e.shape)"
      ],
      "metadata": {
        "colab": {
          "base_uri": "https://localhost:8080/"
        },
        "id": "7ldDUv5qSVpN",
        "outputId": "19ff74d8-e83f-4d36-d185-5e4e05432f5a"
      },
      "execution_count": null,
      "outputs": [
        {
          "output_type": "stream",
          "name": "stdout",
          "text": [
            "(4, 2)\n"
          ]
        }
      ]
    },
    {
      "cell_type": "code",
      "source": [
        "m = tf.reshape(tf.range(9), [3,3])\n",
        "diag = tf.einsum('ii->i', m)\n",
        "print(diag.shape)"
      ],
      "metadata": {
        "colab": {
          "base_uri": "https://localhost:8080/"
        },
        "id": "-burDbj-SXdH",
        "outputId": "172534bc-0821-42ad-d2ce-79cac89b9611"
      },
      "execution_count": null,
      "outputs": [
        {
          "output_type": "stream",
          "name": "stdout",
          "text": [
            "(3,)\n"
          ]
        }
      ]
    },
    {
      "cell_type": "code",
      "source": [
        "trace = tf.einsum('ii', m)  # output[j,i] = trace(m) = sum_i m[i, i]\n",
        "assert trace == sum(diag)\n",
        "print(trace.shape)"
      ],
      "metadata": {
        "colab": {
          "base_uri": "https://localhost:8080/"
        },
        "id": "rwserkYjSZKK",
        "outputId": "e09f20a6-fbb7-4bbb-8d27-5400000621a9"
      },
      "execution_count": null,
      "outputs": [
        {
          "output_type": "stream",
          "name": "stdout",
          "text": [
            "()\n"
          ]
        }
      ]
    },
    {
      "cell_type": "code",
      "source": [
        "s = tf.random.normal(shape=[7,5,3])\n",
        "t = tf.random.normal(shape=[7,3,2])\n",
        "e = tf.einsum('bij,bjk->bik', s, t)\n",
        "# output[a,i,k] = sum_j s[a,i,j] * t[a, j, k]\n",
        "print(e.shape)"
      ],
      "metadata": {
        "colab": {
          "base_uri": "https://localhost:8080/"
        },
        "id": "6qNT8_B1ScrL",
        "outputId": "0ecf52bb-d397-4cd4-9db4-22ea4f8f654f"
      },
      "execution_count": null,
      "outputs": [
        {
          "output_type": "stream",
          "name": "stdout",
          "text": [
            "(7, 5, 2)\n"
          ]
        }
      ]
    },
    {
      "cell_type": "code",
      "source": [
        "s = tf.random.normal(shape=[11, 7, 5, 3])\n",
        "t = tf.random.normal(shape=[11, 7, 3, 2])\n",
        "e =  tf.einsum('...ij,...jk->...ik', s, t)\n",
        "print(e.shape)"
      ],
      "metadata": {
        "id": "NNVjY8-lSfwi",
        "outputId": "1d6146dd-cab4-4249-981a-ad19d3f281c2",
        "colab": {
          "base_uri": "https://localhost:8080/"
        }
      },
      "execution_count": null,
      "outputs": [
        {
          "output_type": "stream",
          "name": "stdout",
          "text": [
            "(11, 7, 5, 2)\n"
          ]
        }
      ]
    }
  ]
}