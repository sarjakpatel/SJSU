{
  "nbformat": 4,
  "nbformat_minor": 0,
  "metadata": {
    "colab": {
      "name": "CMPE 258 Assignment_4D.ipynb",
      "provenance": [],
      "collapsed_sections": [],
      "include_colab_link": true
    },
    "kernelspec": {
      "name": "python3",
      "display_name": "Python 3"
    },
    "language_info": {
      "name": "python"
    }
  },
  "cells": [
    {
      "cell_type": "markdown",
      "metadata": {
        "id": "view-in-github",
        "colab_type": "text"
      },
      "source": [
        "<a href=\"https://colab.research.google.com/github/sarjakpatel/SJSU/blob/main/CMPE%20258/Assignment%204/CMPE_258_Assignment_4D.ipynb\" target=\"_parent\"><img src=\"https://colab.research.google.com/assets/colab-badge.svg\" alt=\"Open In Colab\"/></a>"
      ]
    },
    {
      "cell_type": "markdown",
      "source": [
        "# CMPE 258 Assignment 4D: Training Deep Neural Networks"
      ],
      "metadata": {
        "id": "MEIEN7pcxOBL"
      }
    },
    {
      "cell_type": "markdown",
      "source": [
        "## Importing the Libraries"
      ],
      "metadata": {
        "id": "0MvdzLVLxWn-"
      }
    },
    {
      "cell_type": "code",
      "execution_count": 1,
      "metadata": {
        "id": "2JPwsbEyTeAL"
      },
      "outputs": [],
      "source": [
        "import sys\n",
        "assert sys.version_info >= (3, 5)\n",
        "import sklearn\n",
        "assert sklearn.__version__ >= \"0.20\"\n",
        "\n",
        "import numpy as np\n",
        "import tensorflow as tf\n",
        "from tensorflow import keras\n",
        "import matplotlib as mpl\n",
        "import matplotlib.pyplot as plt\n",
        "\n",
        "np.random.seed(42)\n",
        "tf.random.set_seed(42)\n",
        "\n",
        "\n",
        "%matplotlib inline\n",
        "mpl.rc('axes', labelsize=14)\n",
        "mpl.rc('xtick', labelsize=12)\n",
        "mpl.rc('ytick', labelsize=12)\n",
        "\n",
        "# PROJECT_ROOT_DIR = \".\"\n",
        "# CHAPTER_ID = \"deep\"\n",
        "# IMAGES_PATH = os.path.join(PROJECT_ROOT_DIR, \"images\", CHAPTER_ID)\n",
        "# os.makedirs(IMAGES_PATH, exist_ok=True)\n",
        "\n",
        "# def save_fig(fig_id, tight_layout=True, fig_extension=\"png\", resolution=300):\n",
        "#     path = os.path.join(IMAGES_PATH, fig_id + \".\" + fig_extension)\n",
        "#     print(\"Saving figure\", fig_id)\n",
        "#     if tight_layout:\n",
        "#         plt.tight_layout()\n",
        "#     plt.savefig(path, format=fig_extension, dpi=resolution)"
      ]
    },
    {
      "cell_type": "markdown",
      "source": [
        "## Loading the Dataset"
      ],
      "metadata": {
        "id": "B5xt5Nmqx3tB"
      }
    },
    {
      "cell_type": "code",
      "source": [
        "(X_train, y_train), (X_test, y_test) = keras.datasets.fashion_mnist.load_data()\n",
        "X_train = X_train / 255.0\n",
        "X_test = X_test / 255.0 # Scaling the data \n",
        "X_valid, X_train = X_train[:5000], X_train[5000:]\n",
        "y_valid, y_train = y_train[:5000], y_train[5000:]"
      ],
      "metadata": {
        "id": "zbgfME2gx2xs"
      },
      "execution_count": 2,
      "outputs": []
    },
    {
      "cell_type": "markdown",
      "source": [
        "## Activation Functions"
      ],
      "metadata": {
        "id": "51UO4FRQ2Imn"
      }
    },
    {
      "cell_type": "markdown",
      "source": [
        "### 1. Leaky Relu Activation"
      ],
      "metadata": {
        "id": "zUluyhWdyJRL"
      }
    },
    {
      "cell_type": "code",
      "source": [
        "model = keras.models.Sequential([\n",
        "    keras.layers.Flatten(input_shape=[28, 28]),\n",
        "    keras.layers.Dense(300, kernel_initializer=\"he_normal\"),\n",
        "    keras.layers.LeakyReLU(),\n",
        "    keras.layers.Dense(100, kernel_initializer=\"he_normal\"),\n",
        "    keras.layers.LeakyReLU(),\n",
        "    keras.layers.Dense(10, activation=\"softmax\")\n",
        "])"
      ],
      "metadata": {
        "id": "IpADmYloWtSd"
      },
      "execution_count": 3,
      "outputs": []
    },
    {
      "cell_type": "code",
      "source": [
        "#Compiling the built model\n",
        "model.compile(loss=\"sparse_categorical_crossentropy\",\n",
        "              optimizer=keras.optimizers.SGD(learning_rate=1e-3),\n",
        "              metrics=[\"accuracy\"])"
      ],
      "metadata": {
        "id": "Cu59WDi-WtUz"
      },
      "execution_count": 4,
      "outputs": []
    },
    {
      "cell_type": "code",
      "source": [
        "history = model.fit(X_train, y_train, epochs=10, validation_data=(X_valid, y_valid))"
      ],
      "metadata": {
        "colab": {
          "base_uri": "https://localhost:8080/"
        },
        "id": "oIzbbt1WWtXa",
        "outputId": "cb8526de-9419-47ad-e7a7-379caf954f64"
      },
      "execution_count": 5,
      "outputs": [
        {
          "output_type": "stream",
          "name": "stdout",
          "text": [
            "Epoch 1/15\n",
            "1719/1719 [==============================] - 11s 6ms/step - loss: 1.2819 - accuracy: 0.6229 - val_loss: 0.8886 - val_accuracy: 0.7160\n",
            "Epoch 2/15\n",
            "1719/1719 [==============================] - 9s 5ms/step - loss: 0.7955 - accuracy: 0.7361 - val_loss: 0.7130 - val_accuracy: 0.7656\n",
            "Epoch 3/15\n",
            "1719/1719 [==============================] - 6s 4ms/step - loss: 0.6816 - accuracy: 0.7721 - val_loss: 0.6427 - val_accuracy: 0.7900\n",
            "Epoch 4/15\n",
            "1719/1719 [==============================] - 6s 4ms/step - loss: 0.6217 - accuracy: 0.7944 - val_loss: 0.5900 - val_accuracy: 0.8064\n",
            "Epoch 5/15\n",
            "1719/1719 [==============================] - 7s 4ms/step - loss: 0.5832 - accuracy: 0.8074 - val_loss: 0.5582 - val_accuracy: 0.8200\n",
            "Epoch 6/15\n",
            "1719/1719 [==============================] - 7s 4ms/step - loss: 0.5553 - accuracy: 0.8156 - val_loss: 0.5350 - val_accuracy: 0.8238\n",
            "Epoch 7/15\n",
            "1719/1719 [==============================] - 7s 4ms/step - loss: 0.5339 - accuracy: 0.8223 - val_loss: 0.5156 - val_accuracy: 0.8302\n",
            "Epoch 8/15\n",
            "1719/1719 [==============================] - 7s 4ms/step - loss: 0.5173 - accuracy: 0.8272 - val_loss: 0.5079 - val_accuracy: 0.8284\n",
            "Epoch 9/15\n",
            "1719/1719 [==============================] - 6s 4ms/step - loss: 0.5040 - accuracy: 0.8290 - val_loss: 0.4895 - val_accuracy: 0.8386\n",
            "Epoch 10/15\n",
            "1719/1719 [==============================] - 6s 4ms/step - loss: 0.4924 - accuracy: 0.8319 - val_loss: 0.4817 - val_accuracy: 0.8396\n",
            "Epoch 11/15\n",
            "1719/1719 [==============================] - 6s 4ms/step - loss: 0.4827 - accuracy: 0.8354 - val_loss: 0.4718 - val_accuracy: 0.8448\n",
            "Epoch 12/15\n",
            "1719/1719 [==============================] - 6s 4ms/step - loss: 0.4743 - accuracy: 0.8369 - val_loss: 0.4655 - val_accuracy: 0.8464\n",
            "Epoch 13/15\n",
            "1719/1719 [==============================] - 6s 4ms/step - loss: 0.4672 - accuracy: 0.8398 - val_loss: 0.4588 - val_accuracy: 0.8462\n",
            "Epoch 14/15\n",
            "1719/1719 [==============================] - 6s 4ms/step - loss: 0.4607 - accuracy: 0.8414 - val_loss: 0.4548 - val_accuracy: 0.8478\n",
            "Epoch 15/15\n",
            "1719/1719 [==============================] - 6s 4ms/step - loss: 0.4549 - accuracy: 0.8428 - val_loss: 0.4476 - val_accuracy: 0.8498\n"
          ]
        }
      ]
    },
    {
      "cell_type": "markdown",
      "source": [
        "### 2. PReLu "
      ],
      "metadata": {
        "id": "PnZdBB0Uc1fp"
      }
    },
    {
      "cell_type": "code",
      "source": [
        "model = keras.models.Sequential([\n",
        "    keras.layers.Flatten(input_shape=[28, 28]),\n",
        "    keras.layers.Dense(300, kernel_initializer=\"he_normal\"),\n",
        "    keras.layers.PReLU(),\n",
        "    keras.layers.Dense(100, kernel_initializer=\"he_normal\"),\n",
        "    keras.layers.PReLU(),\n",
        "    keras.layers.Dense(10, activation=\"softmax\")\n",
        "])"
      ],
      "metadata": {
        "id": "vJzPSXbecQIN"
      },
      "execution_count": 6,
      "outputs": []
    },
    {
      "cell_type": "code",
      "source": [
        "model.compile(loss=\"sparse_categorical_crossentropy\",\n",
        "              optimizer=keras.optimizers.SGD(learning_rate=1e-3),\n",
        "              metrics=[\"accuracy\"])"
      ],
      "metadata": {
        "id": "wi21evvHhEEq"
      },
      "execution_count": 7,
      "outputs": []
    },
    {
      "cell_type": "code",
      "source": [
        "history = model.fit(X_train, y_train, epochs=10, validation_data=(X_valid, y_valid))"
      ],
      "metadata": {
        "colab": {
          "base_uri": "https://localhost:8080/"
        },
        "id": "Bfdqd71ndOA5",
        "outputId": "830ae341-6c79-4093-aab3-16410d32b347"
      },
      "execution_count": 8,
      "outputs": [
        {
          "output_type": "stream",
          "name": "stdout",
          "text": [
            "Epoch 1/15\n",
            "1719/1719 [==============================] - 9s 5ms/step - loss: 1.3337 - accuracy: 0.6140 - val_loss: 0.8951 - val_accuracy: 0.7192\n",
            "Epoch 2/15\n",
            "1719/1719 [==============================] - 7s 4ms/step - loss: 0.8048 - accuracy: 0.7413 - val_loss: 0.7103 - val_accuracy: 0.7742\n",
            "Epoch 3/15\n",
            "1719/1719 [==============================] - 7s 4ms/step - loss: 0.6849 - accuracy: 0.7771 - val_loss: 0.6405 - val_accuracy: 0.7962\n",
            "Epoch 4/15\n",
            "1719/1719 [==============================] - 7s 4ms/step - loss: 0.6237 - accuracy: 0.7942 - val_loss: 0.5859 - val_accuracy: 0.8122\n",
            "Epoch 5/15\n",
            "1719/1719 [==============================] - 7s 4ms/step - loss: 0.5846 - accuracy: 0.8073 - val_loss: 0.5542 - val_accuracy: 0.8192\n",
            "Epoch 6/15\n",
            "1719/1719 [==============================] - 7s 4ms/step - loss: 0.5567 - accuracy: 0.8146 - val_loss: 0.5315 - val_accuracy: 0.8246\n",
            "Epoch 7/15\n",
            "1719/1719 [==============================] - 7s 4ms/step - loss: 0.5352 - accuracy: 0.8205 - val_loss: 0.5121 - val_accuracy: 0.8316\n",
            "Epoch 8/15\n",
            "1719/1719 [==============================] - 7s 4ms/step - loss: 0.5185 - accuracy: 0.8246 - val_loss: 0.5043 - val_accuracy: 0.8352\n",
            "Epoch 9/15\n",
            "1719/1719 [==============================] - 7s 4ms/step - loss: 0.5051 - accuracy: 0.8282 - val_loss: 0.4869 - val_accuracy: 0.8394\n",
            "Epoch 10/15\n",
            "1719/1719 [==============================] - 7s 4ms/step - loss: 0.4934 - accuracy: 0.8314 - val_loss: 0.4791 - val_accuracy: 0.8414\n",
            "Epoch 11/15\n",
            "1719/1719 [==============================] - 7s 4ms/step - loss: 0.4833 - accuracy: 0.8341 - val_loss: 0.4689 - val_accuracy: 0.8424\n",
            "Epoch 12/15\n",
            "1719/1719 [==============================] - 7s 4ms/step - loss: 0.4748 - accuracy: 0.8367 - val_loss: 0.4627 - val_accuracy: 0.8428\n",
            "Epoch 13/15\n",
            "1719/1719 [==============================] - 7s 4ms/step - loss: 0.4674 - accuracy: 0.8390 - val_loss: 0.4562 - val_accuracy: 0.8454\n",
            "Epoch 14/15\n",
            "1719/1719 [==============================] - 7s 4ms/step - loss: 0.4606 - accuracy: 0.8407 - val_loss: 0.4517 - val_accuracy: 0.8462\n",
            "Epoch 15/15\n",
            "1719/1719 [==============================] - 7s 4ms/step - loss: 0.4544 - accuracy: 0.8431 - val_loss: 0.4434 - val_accuracy: 0.8488\n"
          ]
        }
      ]
    },
    {
      "cell_type": "markdown",
      "source": [
        "### 3. SeLu"
      ],
      "metadata": {
        "id": "dosk1_ojhRp5"
      }
    },
    {
      "cell_type": "code",
      "source": [
        "# Scaling the data such that the mean is 0 and a unit(1) standard deviation\n",
        "\n",
        "pixel_means = X_train.mean(axis=0, keepdims=True)\n",
        "pixel_stds = X_train.std(axis=0, keepdims=True)\n",
        "X_train_scaled = (X_train - pixel_means) / pixel_stds\n",
        "X_valid_scaled = (X_valid - pixel_means) / pixel_stds\n",
        "X_test_scaled = (X_test - pixel_means) / pixel_stds"
      ],
      "metadata": {
        "id": "Yif7OCGDzDYe"
      },
      "execution_count": 9,
      "outputs": []
    },
    {
      "cell_type": "code",
      "source": [
        "# Inside the sequential layer, we will add about 50 dense layers with \"selu\" activation function \n",
        "model = keras.models.Sequential()\n",
        "model.add(keras.layers.Flatten(input_shape=[28, 28]))\n",
        "model.add(keras.layers.Dense(300, activation=\"selu\",\n",
        "                             kernel_initializer=\"lecun_normal\"))\n",
        "for layer in range(50):\n",
        "    model.add(keras.layers.Dense(100, activation=\"selu\",\n",
        "                                 kernel_initializer=\"lecun_normal\"))\n",
        "model.add(keras.layers.Dense(10, activation=\"softmax\"))"
      ],
      "metadata": {
        "id": "iwc7mm1Ri6Q8"
      },
      "execution_count": 10,
      "outputs": []
    },
    {
      "cell_type": "code",
      "source": [
        "model.compile(loss=\"sparse_categorical_crossentropy\",\n",
        "              optimizer=keras.optimizers.SGD(learning_rate=1e-3),\n",
        "              metrics=[\"accuracy\"])"
      ],
      "metadata": {
        "id": "wd4Q0v9QjRjm"
      },
      "execution_count": 11,
      "outputs": []
    },
    {
      "cell_type": "code",
      "source": [
        "history = model.fit(X_train_scaled, y_train, epochs=10, validation_data=(X_valid_scaled, y_valid))"
      ],
      "metadata": {
        "colab": {
          "base_uri": "https://localhost:8080/"
        },
        "id": "NFtIc6OljXJO",
        "outputId": "53bb07f4-a272-4323-d3f7-7dc56d1910a1"
      },
      "execution_count": 12,
      "outputs": [
        {
          "output_type": "stream",
          "name": "stdout",
          "text": [
            "Epoch 1/15\n",
            "1719/1719 [==============================] - 21s 11ms/step - loss: 0.7601 - accuracy: 0.7322 - val_loss: 0.5513 - val_accuracy: 0.8068\n",
            "Epoch 2/15\n",
            "1719/1719 [==============================] - 19s 11ms/step - loss: 0.5045 - accuracy: 0.8212 - val_loss: 0.4746 - val_accuracy: 0.8338\n",
            "Epoch 3/15\n",
            "1719/1719 [==============================] - 19s 11ms/step - loss: 0.4414 - accuracy: 0.8435 - val_loss: 0.4572 - val_accuracy: 0.8394\n",
            "Epoch 4/15\n",
            "1719/1719 [==============================] - 18s 11ms/step - loss: 0.4021 - accuracy: 0.8570 - val_loss: 0.4247 - val_accuracy: 0.8550\n",
            "Epoch 5/15\n",
            "1719/1719 [==============================] - 18s 11ms/step - loss: 0.3734 - accuracy: 0.8668 - val_loss: 0.4008 - val_accuracy: 0.8584\n",
            "Epoch 6/15\n",
            "1719/1719 [==============================] - 18s 10ms/step - loss: 0.3512 - accuracy: 0.8736 - val_loss: 0.4058 - val_accuracy: 0.8546\n",
            "Epoch 7/15\n",
            "1719/1719 [==============================] - 18s 10ms/step - loss: 0.3343 - accuracy: 0.8794 - val_loss: 0.3858 - val_accuracy: 0.8632\n",
            "Epoch 8/15\n",
            "1719/1719 [==============================] - 18s 11ms/step - loss: 0.3178 - accuracy: 0.8859 - val_loss: 0.4038 - val_accuracy: 0.8582\n",
            "Epoch 9/15\n",
            "1719/1719 [==============================] - 18s 11ms/step - loss: 0.3044 - accuracy: 0.8897 - val_loss: 0.3891 - val_accuracy: 0.8636\n",
            "Epoch 10/15\n",
            "1719/1719 [==============================] - 18s 11ms/step - loss: 0.2944 - accuracy: 0.8935 - val_loss: 0.3858 - val_accuracy: 0.8718\n",
            "Epoch 11/15\n",
            "1719/1719 [==============================] - 18s 11ms/step - loss: 0.2837 - accuracy: 0.8987 - val_loss: 0.3883 - val_accuracy: 0.8660\n",
            "Epoch 12/15\n",
            "1719/1719 [==============================] - 18s 11ms/step - loss: 0.2734 - accuracy: 0.9012 - val_loss: 0.3764 - val_accuracy: 0.8756\n",
            "Epoch 13/15\n",
            "1719/1719 [==============================] - 18s 11ms/step - loss: 0.2641 - accuracy: 0.9043 - val_loss: 0.3830 - val_accuracy: 0.8684\n",
            "Epoch 14/15\n",
            "1719/1719 [==============================] - 18s 10ms/step - loss: 0.2569 - accuracy: 0.9073 - val_loss: 0.3785 - val_accuracy: 0.8664\n",
            "Epoch 15/15\n",
            "1719/1719 [==============================] - 18s 10ms/step - loss: 0.2480 - accuracy: 0.9107 - val_loss: 0.3825 - val_accuracy: 0.8666\n"
          ]
        }
      ]
    },
    {
      "cell_type": "markdown",
      "source": [
        "# Batch Normalization\n",
        " It is a process to make neural networks faster and more stable through adding extra layers in a deep neural network. It also is responsible for reducing the number of epochs required to train the model"
      ],
      "metadata": {
        "id": "M7JuZlvZliX8"
      }
    },
    {
      "cell_type": "code",
      "source": [
        "model = keras.models.Sequential([\n",
        "    keras.layers.Flatten(input_shape=[28, 28]),\n",
        "    keras.layers.BatchNormalization(),\n",
        "    keras.layers.Dense(300, use_bias=False),\n",
        "    keras.layers.BatchNormalization(),\n",
        "    keras.layers.Activation(\"relu\"),\n",
        "    keras.layers.Dense(100, use_bias=False),\n",
        "    keras.layers.BatchNormalization(),\n",
        "    keras.layers.Activation(\"relu\"),\n",
        "    keras.layers.Dense(10, activation=\"softmax\")\n",
        "])"
      ],
      "metadata": {
        "id": "lizwT__kjeyy"
      },
      "execution_count": 13,
      "outputs": []
    },
    {
      "cell_type": "code",
      "source": [
        "model.compile(loss=\"sparse_categorical_crossentropy\",\n",
        "              optimizer=keras.optimizers.SGD(learning_rate=1e-3),\n",
        "              metrics=[\"accuracy\"])"
      ],
      "metadata": {
        "id": "nzpIOdvBl89P"
      },
      "execution_count": 14,
      "outputs": []
    },
    {
      "cell_type": "code",
      "source": [
        "history = model.fit(X_train, y_train, epochs=10, validation_data=(X_valid, y_valid))"
      ],
      "metadata": {
        "colab": {
          "base_uri": "https://localhost:8080/"
        },
        "id": "hDIKsWeUpSlW",
        "outputId": "62f4e8a1-e052-4814-c860-5802d7ead356"
      },
      "execution_count": 15,
      "outputs": [
        {
          "output_type": "stream",
          "name": "stdout",
          "text": [
            "Epoch 1/10\n",
            "1719/1719 [==============================] - 11s 6ms/step - loss: 1.0458 - accuracy: 0.6706 - val_loss: 0.6620 - val_accuracy: 0.7872\n",
            "Epoch 2/10\n",
            "1719/1719 [==============================] - 10s 6ms/step - loss: 0.6663 - accuracy: 0.7865 - val_loss: 0.5500 - val_accuracy: 0.8174\n",
            "Epoch 3/10\n",
            "1719/1719 [==============================] - 13s 8ms/step - loss: 0.5897 - accuracy: 0.8055 - val_loss: 0.4979 - val_accuracy: 0.8326\n",
            "Epoch 4/10\n",
            "1719/1719 [==============================] - 12s 7ms/step - loss: 0.5401 - accuracy: 0.8186 - val_loss: 0.4654 - val_accuracy: 0.8432\n",
            "Epoch 5/10\n",
            "1719/1719 [==============================] - 11s 6ms/step - loss: 0.5070 - accuracy: 0.8266 - val_loss: 0.4437 - val_accuracy: 0.8516\n",
            "Epoch 6/10\n",
            "1719/1719 [==============================] - 10s 6ms/step - loss: 0.4863 - accuracy: 0.8337 - val_loss: 0.4260 - val_accuracy: 0.8546\n",
            "Epoch 7/10\n",
            "1719/1719 [==============================] - 10s 6ms/step - loss: 0.4691 - accuracy: 0.8385 - val_loss: 0.4124 - val_accuracy: 0.8596\n",
            "Epoch 8/10\n",
            "1719/1719 [==============================] - 10s 6ms/step - loss: 0.4547 - accuracy: 0.8437 - val_loss: 0.4021 - val_accuracy: 0.8632\n",
            "Epoch 9/10\n",
            "1719/1719 [==============================] - 10s 6ms/step - loss: 0.4425 - accuracy: 0.8470 - val_loss: 0.3935 - val_accuracy: 0.8642\n",
            "Epoch 10/10\n",
            "1719/1719 [==============================] - 10s 6ms/step - loss: 0.4299 - accuracy: 0.8506 - val_loss: 0.3855 - val_accuracy: 0.8664\n"
          ]
        }
      ]
    },
    {
      "cell_type": "markdown",
      "source": [
        "## Gradient Clipping"
      ],
      "metadata": {
        "id": "--Vb1DuFsr1R"
      }
    },
    {
      "cell_type": "code",
      "source": [
        "optimizer = keras.optimizers.SGD(clipnorm=1.0)"
      ],
      "metadata": {
        "id": "frlE9Gfqszg2"
      },
      "execution_count": 16,
      "outputs": []
    },
    {
      "cell_type": "code",
      "source": [
        "model = keras.models.Sequential([\n",
        "    keras.layers.Flatten(input_shape=[28, 28]),\n",
        "    keras.layers.BatchNormalization(),\n",
        "    keras.layers.Dense(300, use_bias=False),\n",
        "    keras.layers.BatchNormalization(),\n",
        "    keras.layers.Activation(\"relu\"),\n",
        "    keras.layers.Dense(100, use_bias=False),\n",
        "    keras.layers.BatchNormalization(),\n",
        "    keras.layers.Activation(\"relu\"),\n",
        "    keras.layers.Dense(10, activation=\"softmax\")\n",
        "])"
      ],
      "metadata": {
        "id": "BnwbNKCgs1GL"
      },
      "execution_count": 17,
      "outputs": []
    },
    {
      "cell_type": "code",
      "source": [
        "model.compile(loss=\"sparse_categorical_crossentropy\",\n",
        "              optimizer=keras.optimizers.SGD(learning_rate=1e-3,clipvalue=1.0),\n",
        "              metrics=[\"accuracy\"])"
      ],
      "metadata": {
        "id": "ytYrN0nEs7M6"
      },
      "execution_count": 18,
      "outputs": []
    },
    {
      "cell_type": "code",
      "source": [
        "history = model.fit(X_train, y_train, epochs=10, validation_data=(X_valid, y_valid))"
      ],
      "metadata": {
        "colab": {
          "base_uri": "https://localhost:8080/"
        },
        "id": "84LJL-wls9Iz",
        "outputId": "ead68513-5fa3-426e-ca1e-269c6ca7eca1"
      },
      "execution_count": 19,
      "outputs": [
        {
          "output_type": "stream",
          "name": "stdout",
          "text": [
            "Epoch 1/10\n",
            "1719/1719 [==============================] - 11s 6ms/step - loss: 1.0271 - accuracy: 0.6732 - val_loss: 0.6729 - val_accuracy: 0.7870\n",
            "Epoch 2/10\n",
            "1719/1719 [==============================] - 10s 6ms/step - loss: 0.6789 - accuracy: 0.7816 - val_loss: 0.5545 - val_accuracy: 0.8168\n",
            "Epoch 3/10\n",
            "1719/1719 [==============================] - 10s 6ms/step - loss: 0.5960 - accuracy: 0.8023 - val_loss: 0.4983 - val_accuracy: 0.8334\n",
            "Epoch 4/10\n",
            "1719/1719 [==============================] - 11s 6ms/step - loss: 0.5449 - accuracy: 0.8178 - val_loss: 0.4635 - val_accuracy: 0.8420\n",
            "Epoch 5/10\n",
            "1719/1719 [==============================] - 10s 6ms/step - loss: 0.5095 - accuracy: 0.8275 - val_loss: 0.4404 - val_accuracy: 0.8486\n",
            "Epoch 6/10\n",
            "1719/1719 [==============================] - 11s 6ms/step - loss: 0.4871 - accuracy: 0.8330 - val_loss: 0.4221 - val_accuracy: 0.8530\n",
            "Epoch 7/10\n",
            "1719/1719 [==============================] - 11s 6ms/step - loss: 0.4700 - accuracy: 0.8385 - val_loss: 0.4088 - val_accuracy: 0.8554\n",
            "Epoch 8/10\n",
            "1719/1719 [==============================] - 10s 6ms/step - loss: 0.4540 - accuracy: 0.8439 - val_loss: 0.3987 - val_accuracy: 0.8612\n",
            "Epoch 9/10\n",
            "1719/1719 [==============================] - 10s 6ms/step - loss: 0.4424 - accuracy: 0.8479 - val_loss: 0.3902 - val_accuracy: 0.8624\n",
            "Epoch 10/10\n",
            "1719/1719 [==============================] - 11s 6ms/step - loss: 0.4300 - accuracy: 0.8513 - val_loss: 0.3823 - val_accuracy: 0.8628\n"
          ]
        }
      ]
    },
    {
      "cell_type": "markdown",
      "source": [
        "#Optimizers"
      ],
      "metadata": {
        "id": "BgkUZ9Wmwvyt"
      }
    },
    {
      "cell_type": "code",
      "source": [
        "# Adams Optimizer\n",
        "optimizer = keras.optimizers.Adam(learning_rate=0.001, beta_1=0.9, beta_2=0.999)"
      ],
      "metadata": {
        "id": "IJt2hKAJtCYr"
      },
      "execution_count": 20,
      "outputs": []
    },
    {
      "cell_type": "code",
      "source": [
        "#Nadam Optimizer\n",
        "optimizer = keras.optimizers.Nadam(learning_rate=0.001, beta_1=0.9, beta_2=0.999)"
      ],
      "metadata": {
        "id": "IMTJrrh1w2mv"
      },
      "execution_count": 21,
      "outputs": []
    },
    {
      "cell_type": "code",
      "source": [
        "#RMSProp Optimizer\n",
        "optimizer = keras.optimizers.RMSprop(learning_rate=0.001, rho=0.9)"
      ],
      "metadata": {
        "id": "V1IpwcNOw9zf"
      },
      "execution_count": 22,
      "outputs": []
    },
    {
      "cell_type": "code",
      "source": [
        "#Adamax Optimizer\n",
        "optimizer = keras.optimizers.Adamax(learning_rate=0.001, beta_1=0.9, beta_2=0.999)"
      ],
      "metadata": {
        "id": "EOe3gWZRxE4t"
      },
      "execution_count": 23,
      "outputs": []
    },
    {
      "cell_type": "markdown",
      "source": [
        "# Learning Rate Scheduling"
      ],
      "metadata": {
        "id": "T-Z9qGX8xNKp"
      }
    },
    {
      "cell_type": "markdown",
      "source": [
        "1) Power scheduling (decay  = le-4)"
      ],
      "metadata": {
        "id": "NbWiEO3H6zcg"
      }
    },
    {
      "cell_type": "code",
      "source": [
        "optimizer = keras.optimizers.SGD(learning_rate=0.01, decay=1e-4)"
      ],
      "metadata": {
        "id": "FWBedtd_xOqg"
      },
      "execution_count": 24,
      "outputs": []
    },
    {
      "cell_type": "code",
      "source": [
        "model = keras.models.Sequential([\n",
        "    keras.layers.Flatten(input_shape=[28, 28]),\n",
        "    keras.layers.Dense(300, activation=\"selu\", kernel_initializer=\"lecun_normal\"),\n",
        "    keras.layers.Dense(100, activation=\"selu\", kernel_initializer=\"lecun_normal\"),\n",
        "    keras.layers.Dense(10, activation=\"softmax\")\n",
        "])"
      ],
      "metadata": {
        "id": "zSL2DOIlxOno"
      },
      "execution_count": 25,
      "outputs": []
    },
    {
      "cell_type": "code",
      "source": [
        "model.compile(loss=\"sparse_categorical_crossentropy\", optimizer=optimizer, metrics=[\"accuracy\"])"
      ],
      "metadata": {
        "id": "B0oI60vp04AP"
      },
      "execution_count": 26,
      "outputs": []
    },
    {
      "cell_type": "code",
      "source": [
        "history = model.fit(X_train_scaled, y_train, epochs=10, validation_data=(X_valid_scaled, y_valid))"
      ],
      "metadata": {
        "colab": {
          "base_uri": "https://localhost:8080/"
        },
        "id": "_X8Swxe-xJX1",
        "outputId": "ba97e5c5-a1e1-4a0f-fb2b-ad111aa8187a"
      },
      "execution_count": 27,
      "outputs": [
        {
          "output_type": "stream",
          "name": "stdout",
          "text": [
            "Epoch 1/10\n",
            "1719/1719 [==============================] - 7s 4ms/step - loss: 0.4894 - accuracy: 0.8276 - val_loss: 0.3970 - val_accuracy: 0.8652\n",
            "Epoch 2/10\n",
            "1719/1719 [==============================] - 6s 4ms/step - loss: 0.3789 - accuracy: 0.8661 - val_loss: 0.3683 - val_accuracy: 0.8754\n",
            "Epoch 3/10\n",
            "1719/1719 [==============================] - 6s 4ms/step - loss: 0.3453 - accuracy: 0.8775 - val_loss: 0.3727 - val_accuracy: 0.8714\n",
            "Epoch 4/10\n",
            "1719/1719 [==============================] - 6s 4ms/step - loss: 0.3240 - accuracy: 0.8838 - val_loss: 0.3448 - val_accuracy: 0.8776\n",
            "Epoch 5/10\n",
            "1719/1719 [==============================] - 6s 4ms/step - loss: 0.3090 - accuracy: 0.8896 - val_loss: 0.3400 - val_accuracy: 0.8784\n",
            "Epoch 6/10\n",
            "1719/1719 [==============================] - 6s 3ms/step - loss: 0.2953 - accuracy: 0.8947 - val_loss: 0.3392 - val_accuracy: 0.8834\n",
            "Epoch 7/10\n",
            "1719/1719 [==============================] - 6s 3ms/step - loss: 0.2853 - accuracy: 0.8982 - val_loss: 0.3336 - val_accuracy: 0.8828\n",
            "Epoch 8/10\n",
            "1719/1719 [==============================] - 6s 3ms/step - loss: 0.2767 - accuracy: 0.9010 - val_loss: 0.3391 - val_accuracy: 0.8794\n",
            "Epoch 9/10\n",
            "1719/1719 [==============================] - 6s 3ms/step - loss: 0.2687 - accuracy: 0.9041 - val_loss: 0.3285 - val_accuracy: 0.8834\n",
            "Epoch 10/10\n",
            "1719/1719 [==============================] - 6s 3ms/step - loss: 0.2616 - accuracy: 0.9054 - val_loss: 0.3263 - val_accuracy: 0.8848\n"
          ]
        }
      ]
    },
    {
      "cell_type": "code",
      "source": [
        "import math\n",
        "\n",
        "learning_rate = 0.01\n",
        "decay = 1e-4\n",
        "batch_size = 32\n",
        "n_steps_per_epoch = math.ceil(len(X_train) / batch_size)\n",
        "epochs = np.arange(10)\n",
        "lrs = learning_rate / (1 + decay * epochs * n_steps_per_epoch)\n",
        "\n",
        "plt.plot(epochs, lrs,  \"o-\")\n",
        "plt.axis([0, 9, 0, 0.01])\n",
        "plt.xlabel(\"Epoch\")\n",
        "plt.ylabel(\"Learning Rate\")\n",
        "plt.title(\"Power Scheduling\", fontsize=14)\n",
        "plt.grid(True)\n",
        "plt.show()"
      ],
      "metadata": {
        "colab": {
          "base_uri": "https://localhost:8080/",
          "height": 303
        },
        "id": "C0Ezzent7CUW",
        "outputId": "73c1419e-0301-4cd1-b88f-3089b2572431"
      },
      "execution_count": 28,
      "outputs": [
        {
          "output_type": "display_data",
          "data": {
            "text/plain": [
              "<Figure size 432x288 with 1 Axes>"
            ],
            "image/png": "[encoded data removed]"
          },
          "metadata": {
            "needs_background": "light"
          }
        }
      ]
    },
    {
      "cell_type": "markdown",
      "source": [
        "2) Piecewise constant scheduling\n",
        "\n",
        "The function returns a 1-arg callable to compute the piecewise constant when passed the current optimizer step. This can be useful for changing the learning rate value across different invocations of optimizer functions.\n",
        "\n",
        "Example: use a learning rate that's 1.0 for the first 100001 steps, 0.5 for the next 10000 steps, and 0.1 for any additional steps."
      ],
      "metadata": {
        "id": "ObwvshE47F_-"
      }
    },
    {
      "cell_type": "code",
      "source": [
        "def piecewise_constant_fn(epoch):\n",
        "    if epoch < 5:\n",
        "        return 0.01\n",
        "    elif epoch < 15:\n",
        "        return 0.005\n",
        "    else:\n",
        "        return 0.001"
      ],
      "metadata": {
        "id": "GGScjwj77FeM"
      },
      "execution_count": 29,
      "outputs": []
    },
    {
      "cell_type": "code",
      "source": [
        "def piecewise_constant(boundaries, values):\n",
        "    boundaries = np.array([0] + boundaries)\n",
        "    values = np.array(values)\n",
        "    def piecewise_constant_fn(epoch):\n",
        "        return values[np.argmax(boundaries > epoch) - 1]\n",
        "    return piecewise_constant_fn\n",
        "\n",
        "piecewise_constant_fn = piecewise_constant([5, 15], [0.01, 0.005, 0.001])"
      ],
      "metadata": {
        "id": "JLkwBDy272FZ"
      },
      "execution_count": 30,
      "outputs": []
    },
    {
      "cell_type": "code",
      "source": [
        "lr_scheduler = keras.callbacks.LearningRateScheduler(piecewise_constant_fn)\n",
        "\n",
        "\n",
        "model = keras.models.Sequential([\n",
        "    keras.layers.Flatten(input_shape=[28, 28]),\n",
        "    keras.layers.Dense(300, activation=\"selu\", kernel_initializer=\"lecun_normal\"),\n",
        "    keras.layers.Dense(100, activation=\"selu\", kernel_initializer=\"lecun_normal\"),\n",
        "    keras.layers.Dense(10, activation=\"softmax\")\n",
        "])"
      ],
      "metadata": {
        "id": "NevTglIz7317"
      },
      "execution_count": 31,
      "outputs": []
    },
    {
      "cell_type": "code",
      "source": [
        "model.compile(loss=\"sparse_categorical_crossentropy\", optimizer=\"nadam\", metrics=[\"accuracy\"])"
      ],
      "metadata": {
        "id": "jJGGClvJ0nh2"
      },
      "execution_count": 32,
      "outputs": []
    },
    {
      "cell_type": "code",
      "source": [
        "history = model.fit(X_train_scaled, y_train, epochs=10, validation_data=(X_valid_scaled, y_valid), callbacks=[lr_scheduler])"
      ],
      "metadata": {
        "colab": {
          "base_uri": "https://localhost:8080/"
        },
        "id": "vOK7UAU60p26",
        "outputId": "878650bd-2139-42f0-8f7f-c87d5da1ac42"
      },
      "execution_count": 33,
      "outputs": [
        {
          "output_type": "stream",
          "name": "stdout",
          "text": [
            "Epoch 1/10\n",
            "1719/1719 [==============================] - 12s 7ms/step - loss: 0.8335 - accuracy: 0.7575 - val_loss: 0.8540 - val_accuracy: 0.7186 - lr: 0.0100\n",
            "Epoch 2/10\n",
            "1719/1719 [==============================] - 12s 7ms/step - loss: 0.8559 - accuracy: 0.7580 - val_loss: 0.6811 - val_accuracy: 0.7972 - lr: 0.0100\n",
            "Epoch 3/10\n",
            "1719/1719 [==============================] - 12s 7ms/step - loss: 0.9010 - accuracy: 0.7337 - val_loss: 1.3213 - val_accuracy: 0.6222 - lr: 0.0100\n",
            "Epoch 4/10\n",
            "1719/1719 [==============================] - 12s 7ms/step - loss: 1.0198 - accuracy: 0.6313 - val_loss: 1.0615 - val_accuracy: 0.6816 - lr: 0.0100\n",
            "Epoch 5/10\n",
            "1719/1719 [==============================] - 11s 7ms/step - loss: 1.0605 - accuracy: 0.6257 - val_loss: 1.1368 - val_accuracy: 0.6012 - lr: 0.0100\n",
            "Epoch 6/10\n",
            "1719/1719 [==============================] - 11s 7ms/step - loss: 0.8247 - accuracy: 0.6766 - val_loss: 0.8110 - val_accuracy: 0.6992 - lr: 0.0050\n",
            "Epoch 7/10\n",
            "1719/1719 [==============================] - 11s 7ms/step - loss: 0.7744 - accuracy: 0.7077 - val_loss: 0.8072 - val_accuracy: 0.7184 - lr: 0.0050\n",
            "Epoch 8/10\n",
            "1719/1719 [==============================] - 11s 7ms/step - loss: 0.7332 - accuracy: 0.7232 - val_loss: 0.8377 - val_accuracy: 0.7066 - lr: 0.0050\n",
            "Epoch 9/10\n",
            "1719/1719 [==============================] - 12s 7ms/step - loss: 0.7065 - accuracy: 0.7310 - val_loss: 0.8727 - val_accuracy: 0.6556 - lr: 0.0050\n",
            "Epoch 10/10\n",
            "1719/1719 [==============================] - 12s 7ms/step - loss: 0.6978 - accuracy: 0.7387 - val_loss: 0.7958 - val_accuracy: 0.7544 - lr: 0.0050\n"
          ]
        }
      ]
    },
    {
      "cell_type": "code",
      "source": [
        "plt.plot(history.epoch, [piecewise_constant_fn(epoch) for epoch in history.epoch], \"o-\")\n",
        "plt.axis([0, 9, 0, 0.011])\n",
        "plt.xlabel(\"Epoch\")\n",
        "plt.ylabel(\"Learning Rate\")\n",
        "plt.title(\"Piecewise Constant Scheduling\", fontsize=14)\n",
        "plt.grid(True)\n",
        "plt.show()"
      ],
      "metadata": {
        "colab": {
          "base_uri": "https://localhost:8080/",
          "height": 303
        },
        "id": "CG2NzjQ_8BT8",
        "outputId": "a633447f-f057-4b28-eb89-aa461ea5b24b"
      },
      "execution_count": 34,
      "outputs": [
        {
          "output_type": "display_data",
          "data": {
            "text/plain": [
              "<Figure size 432x288 with 1 Axes>"
            ],
            "image/png": "[encoded data removed]"
          },
          "metadata": {
            "needs_background": "light"
          }
        }
      ]
    },
    {
      "cell_type": "markdown",
      "source": [
        "3) Performance Scheduling"
      ],
      "metadata": {
        "id": "QjxxZ5Hq8D7B"
      }
    },
    {
      "cell_type": "code",
      "source": [
        "lr_scheduler = keras.callbacks.ReduceLROnPlateau(factor=0.5, patience=5)\n",
        "\n",
        "model = keras.models.Sequential([\n",
        "    keras.layers.Flatten(input_shape=[28, 28]),\n",
        "    keras.layers.Dense(300, activation=\"selu\", kernel_initializer=\"lecun_normal\"),\n",
        "    keras.layers.Dense(100, activation=\"selu\", kernel_initializer=\"lecun_normal\"),\n",
        "    keras.layers.Dense(10, activation=\"softmax\")\n",
        "])"
      ],
      "metadata": {
        "id": "qnj8Jkd68NWa"
      },
      "execution_count": 35,
      "outputs": []
    },
    {
      "cell_type": "code",
      "source": [
        "optimizer = keras.optimizers.SGD(learning_rate=0.02, momentum=0.9)"
      ],
      "metadata": {
        "id": "2CUL_X5x2cfx"
      },
      "execution_count": 36,
      "outputs": []
    },
    {
      "cell_type": "code",
      "source": [
        "model.compile(loss=\"sparse_categorical_crossentropy\", optimizer=optimizer, metrics=[\"accuracy\"])"
      ],
      "metadata": {
        "id": "KeEzoXKF2scR"
      },
      "execution_count": 37,
      "outputs": []
    },
    {
      "cell_type": "code",
      "source": [
        "history = model.fit(X_train_scaled, y_train, epochs=10, validation_data=(X_valid_scaled, y_valid), callbacks=[lr_scheduler])"
      ],
      "metadata": {
        "colab": {
          "base_uri": "https://localhost:8080/"
        },
        "id": "h7BQUjDe20B1",
        "outputId": "77d70a7f-f663-47c0-ae1e-b708684b7fb2"
      },
      "execution_count": 38,
      "outputs": [
        {
          "output_type": "stream",
          "name": "stdout",
          "text": [
            "Epoch 1/10\n",
            "1719/1719 [==============================] - 7s 4ms/step - loss: 0.5926 - accuracy: 0.8057 - val_loss: 0.4606 - val_accuracy: 0.8488 - lr: 0.0200\n",
            "Epoch 2/10\n",
            "1719/1719 [==============================] - 7s 4ms/step - loss: 0.4928 - accuracy: 0.8399 - val_loss: 0.6015 - val_accuracy: 0.8338 - lr: 0.0200\n",
            "Epoch 3/10\n",
            "1719/1719 [==============================] - 6s 4ms/step - loss: 0.5143 - accuracy: 0.8431 - val_loss: 0.4818 - val_accuracy: 0.8576 - lr: 0.0200\n",
            "Epoch 4/10\n",
            "1719/1719 [==============================] - 6s 4ms/step - loss: 0.5089 - accuracy: 0.8482 - val_loss: 0.4870 - val_accuracy: 0.8612 - lr: 0.0200\n",
            "Epoch 5/10\n",
            "1719/1719 [==============================] - 6s 4ms/step - loss: 0.5111 - accuracy: 0.8507 - val_loss: 0.5310 - val_accuracy: 0.8416 - lr: 0.0200\n",
            "Epoch 6/10\n",
            "1719/1719 [==============================] - 6s 4ms/step - loss: 0.4907 - accuracy: 0.8570 - val_loss: 0.6706 - val_accuracy: 0.8494 - lr: 0.0200\n",
            "Epoch 7/10\n",
            "1719/1719 [==============================] - 6s 4ms/step - loss: 0.3068 - accuracy: 0.8941 - val_loss: 0.4075 - val_accuracy: 0.8694 - lr: 0.0100\n",
            "Epoch 8/10\n",
            "1719/1719 [==============================] - 6s 4ms/step - loss: 0.2573 - accuracy: 0.9067 - val_loss: 0.3915 - val_accuracy: 0.8762 - lr: 0.0100\n",
            "Epoch 9/10\n",
            "1719/1719 [==============================] - 6s 4ms/step - loss: 0.2345 - accuracy: 0.9130 - val_loss: 0.3782 - val_accuracy: 0.8858 - lr: 0.0100\n",
            "Epoch 10/10\n",
            "1719/1719 [==============================] - 6s 4ms/step - loss: 0.2195 - accuracy: 0.9185 - val_loss: 0.4097 - val_accuracy: 0.8848 - lr: 0.0100\n"
          ]
        }
      ]
    },
    {
      "cell_type": "code",
      "source": [
        "plt.plot(history.epoch, history.history[\"lr\"], \"bo-\")\n",
        "plt.xlabel(\"Epoch\")\n",
        "plt.ylabel(\"Learning Rate\", color='b')\n",
        "plt.tick_params('y', colors='b')\n",
        "plt.gca().set_xlim(0, 9)\n",
        "plt.grid(True)\n",
        "\n",
        "ax2 = plt.gca().twinx()\n",
        "ax2.plot(history.epoch, history.history[\"val_loss\"], \"r^-\")\n",
        "ax2.set_ylabel('Validation Loss', color='r')\n",
        "ax2.tick_params('y', colors='r')\n",
        "\n",
        "plt.title(\"Reduce LR on Plateau\", fontsize=14)\n",
        "plt.show()"
      ],
      "metadata": {
        "colab": {
          "base_uri": "https://localhost:8080/",
          "height": 303
        },
        "id": "Hn0FJti98RRC",
        "outputId": "66d159c7-803d-4e01-a9d1-477ce73456a9"
      },
      "execution_count": 39,
      "outputs": [
        {
          "output_type": "display_data",
          "data": {
            "text/plain": [
              "<Figure size 432x288 with 2 Axes>"
            ],
            "image/png": "[encoded data removed]"
          },
          "metadata": {
            "needs_background": "light"
          }
        }
      ]
    },
    {
      "cell_type": "markdown",
      "source": [
        "# Regularization"
      ],
      "metadata": {
        "id": "10YSN_iB8fu9"
      }
    },
    {
      "cell_type": "markdown",
      "source": [
        "$\\ell_1$ and $\\ell_2$ regularization"
      ],
      "metadata": {
        "id": "zJRA5PrK8kwF"
      }
    },
    {
      "cell_type": "code",
      "source": [
        "layer = keras.layers.Dense(100, activation=\"elu\",\n",
        "                           kernel_initializer=\"he_normal\",\n",
        "                           kernel_regularizer=keras.regularizers.l2(0.01))"
      ],
      "metadata": {
        "id": "cUbi85Tn8Udg"
      },
      "execution_count": 40,
      "outputs": []
    },
    {
      "cell_type": "code",
      "source": [
        "model = keras.models.Sequential([\n",
        "    keras.layers.Flatten(input_shape=[28, 28]),\n",
        "    keras.layers.Dense(300, activation=\"elu\",\n",
        "                       kernel_initializer=\"he_normal\",\n",
        "                       kernel_regularizer=keras.regularizers.l2(0.01)),\n",
        "    keras.layers.Dense(100, activation=\"elu\",\n",
        "                       kernel_initializer=\"he_normal\",\n",
        "                       kernel_regularizer=keras.regularizers.l2(0.01)),\n",
        "    keras.layers.Dense(10, activation=\"softmax\",\n",
        "                       kernel_regularizer=keras.regularizers.l2(0.01))\n",
        "])"
      ],
      "metadata": {
        "id": "DTCI1fjW8rxT"
      },
      "execution_count": 41,
      "outputs": []
    },
    {
      "cell_type": "code",
      "source": [
        "model.compile(loss=\"sparse_categorical_crossentropy\", optimizer=\"nadam\", metrics=[\"accuracy\"])"
      ],
      "metadata": {
        "id": "BcqiQuEyzr4T"
      },
      "execution_count": 42,
      "outputs": []
    },
    {
      "cell_type": "code",
      "source": [
        "history = model.fit(X_train_scaled, y_train, epochs=10, validation_data=(X_valid_scaled, y_valid))"
      ],
      "metadata": {
        "colab": {
          "base_uri": "https://localhost:8080/"
        },
        "id": "6i-X1W5wztUW",
        "outputId": "c26549d4-d36f-41e4-efde-bcd26a827081"
      },
      "execution_count": 43,
      "outputs": [
        {
          "output_type": "stream",
          "name": "stdout",
          "text": [
            "Epoch 1/10\n",
            "1719/1719 [==============================] - 15s 8ms/step - loss: 1.6286 - accuracy: 0.8109 - val_loss: 0.7192 - val_accuracy: 0.8294\n",
            "Epoch 2/10\n",
            "1719/1719 [==============================] - 13s 8ms/step - loss: 0.7182 - accuracy: 0.8272 - val_loss: 0.6815 - val_accuracy: 0.8372\n",
            "Epoch 3/10\n",
            "1719/1719 [==============================] - 14s 8ms/step - loss: 0.6988 - accuracy: 0.8329 - val_loss: 0.6981 - val_accuracy: 0.8358\n",
            "Epoch 4/10\n",
            "1719/1719 [==============================] - 14s 8ms/step - loss: 0.6934 - accuracy: 0.8367 - val_loss: 0.6731 - val_accuracy: 0.8478\n",
            "Epoch 5/10\n",
            "1719/1719 [==============================] - 13s 8ms/step - loss: 0.6900 - accuracy: 0.8384 - val_loss: 0.6618 - val_accuracy: 0.8510\n",
            "Epoch 6/10\n",
            "1719/1719 [==============================] - 13s 8ms/step - loss: 0.6870 - accuracy: 0.8382 - val_loss: 0.6627 - val_accuracy: 0.8496\n",
            "Epoch 7/10\n",
            "1719/1719 [==============================] - 13s 8ms/step - loss: 0.6856 - accuracy: 0.8386 - val_loss: 0.6583 - val_accuracy: 0.8502\n",
            "Epoch 8/10\n",
            "1719/1719 [==============================] - 14s 8ms/step - loss: 0.6838 - accuracy: 0.8405 - val_loss: 0.7464 - val_accuracy: 0.8186\n",
            "Epoch 9/10\n",
            "1719/1719 [==============================] - 14s 8ms/step - loss: 0.6850 - accuracy: 0.8395 - val_loss: 0.6588 - val_accuracy: 0.8526\n",
            "Epoch 10/10\n",
            "1719/1719 [==============================] - 13s 8ms/step - loss: 0.6813 - accuracy: 0.8402 - val_loss: 0.6614 - val_accuracy: 0.8484\n"
          ]
        }
      ]
    },
    {
      "cell_type": "markdown",
      "source": [
        "# Dropout\n",
        "\n",
        "We will now add dropout layer while creating a sequential model"
      ],
      "metadata": {
        "id": "rkZHmwZL8ysS"
      }
    },
    {
      "cell_type": "code",
      "source": [
        "model = keras.models.Sequential([\n",
        "    keras.layers.Flatten(input_shape=[28, 28]),\n",
        "    keras.layers.Dropout(rate=0.2),\n",
        "    keras.layers.Dense(300, activation=\"elu\", kernel_initializer=\"he_normal\"),\n",
        "    keras.layers.Dropout(rate=0.2),\n",
        "    keras.layers.Dense(100, activation=\"elu\", kernel_initializer=\"he_normal\"),\n",
        "    keras.layers.Dropout(rate=0.2),\n",
        "    keras.layers.Dense(10, activation=\"softmax\")\n",
        "])"
      ],
      "metadata": {
        "id": "yUxQs0D49dQz"
      },
      "execution_count": 44,
      "outputs": []
    },
    {
      "cell_type": "code",
      "source": [
        "model.compile(loss=\"sparse_categorical_crossentropy\", optimizer=\"nadam\", metrics=[\"accuracy\"])"
      ],
      "metadata": {
        "id": "CSlyBWr3z03u"
      },
      "execution_count": 45,
      "outputs": []
    },
    {
      "cell_type": "code",
      "source": [
        "history = model.fit(X_train_scaled, y_train, epochs=10, validation_data=(X_valid_scaled, y_valid))"
      ],
      "metadata": {
        "colab": {
          "base_uri": "https://localhost:8080/"
        },
        "id": "nQFTegksz2y1",
        "outputId": "d51a559e-9a96-4015-8fc1-1191d772ba3f"
      },
      "execution_count": 46,
      "outputs": [
        {
          "output_type": "stream",
          "name": "stdout",
          "text": [
            "Epoch 1/10\n",
            "1719/1719 [==============================] - 14s 8ms/step - loss: 0.5692 - accuracy: 0.8031 - val_loss: 0.3800 - val_accuracy: 0.8600\n",
            "Epoch 2/10\n",
            "1719/1719 [==============================] - 13s 7ms/step - loss: 0.4201 - accuracy: 0.8463 - val_loss: 0.3346 - val_accuracy: 0.8728\n",
            "Epoch 3/10\n",
            "1719/1719 [==============================] - 12s 7ms/step - loss: 0.3883 - accuracy: 0.8561 - val_loss: 0.3384 - val_accuracy: 0.8742\n",
            "Epoch 4/10\n",
            "1719/1719 [==============================] - 13s 7ms/step - loss: 0.3735 - accuracy: 0.8631 - val_loss: 0.3194 - val_accuracy: 0.8834\n",
            "Epoch 5/10\n",
            "1719/1719 [==============================] - 12s 7ms/step - loss: 0.3614 - accuracy: 0.8650 - val_loss: 0.3038 - val_accuracy: 0.8858\n",
            "Epoch 6/10\n",
            "1719/1719 [==============================] - 12s 7ms/step - loss: 0.3488 - accuracy: 0.8702 - val_loss: 0.3104 - val_accuracy: 0.8840\n",
            "Epoch 7/10\n",
            "1719/1719 [==============================] - 13s 7ms/step - loss: 0.3397 - accuracy: 0.8741 - val_loss: 0.3166 - val_accuracy: 0.8834\n",
            "Epoch 8/10\n",
            "1719/1719 [==============================] - 12s 7ms/step - loss: 0.3311 - accuracy: 0.8775 - val_loss: 0.2991 - val_accuracy: 0.8890\n",
            "Epoch 9/10\n",
            "1719/1719 [==============================] - 13s 8ms/step - loss: 0.3250 - accuracy: 0.8777 - val_loss: 0.2956 - val_accuracy: 0.8920\n",
            "Epoch 10/10\n",
            "1719/1719 [==============================] - 13s 7ms/step - loss: 0.3198 - accuracy: 0.8805 - val_loss: 0.2989 - val_accuracy: 0.8920\n"
          ]
        }
      ]
    },
    {
      "cell_type": "code",
      "source": [
        "# Loss and Accuracy\n",
        "model.evaluate(X_test_scaled, y_test)"
      ],
      "metadata": {
        "colab": {
          "base_uri": "https://localhost:8080/"
        },
        "id": "ZzF0pIDn9fsZ",
        "outputId": "fdedf237-a2dc-4008-fd15-4b2d69ac32a9"
      },
      "execution_count": 47,
      "outputs": [
        {
          "output_type": "stream",
          "name": "stdout",
          "text": [
            "313/313 [==============================] - 1s 2ms/step - loss: 0.3347 - accuracy: 0.8828\n"
          ]
        },
        {
          "output_type": "execute_result",
          "data": {
            "text/plain": [
              "[0.3347319960594177, 0.8827999830245972]"
            ]
          },
          "metadata": {},
          "execution_count": 47
        }
      ]
    },
    {
      "cell_type": "markdown",
      "source": [
        "Alpha Dropout"
      ],
      "metadata": {
        "id": "IZK_SAvB9lp-"
      }
    },
    {
      "cell_type": "code",
      "source": [
        "model = keras.models.Sequential([\n",
        "    keras.layers.Flatten(input_shape=[28, 28]),\n",
        "    keras.layers.AlphaDropout(rate=0.2),\n",
        "    keras.layers.Dense(300, activation=\"selu\", kernel_initializer=\"lecun_normal\"),\n",
        "    keras.layers.AlphaDropout(rate=0.2),\n",
        "    keras.layers.Dense(100, activation=\"selu\", kernel_initializer=\"lecun_normal\"),\n",
        "    keras.layers.AlphaDropout(rate=0.2),\n",
        "    keras.layers.Dense(10, activation=\"softmax\")\n",
        "])"
      ],
      "metadata": {
        "id": "QCKyLtGP9tBm"
      },
      "execution_count": 48,
      "outputs": []
    },
    {
      "cell_type": "code",
      "source": [
        "optimizer = keras.optimizers.SGD(learning_rate=0.01, momentum=0.9, nesterov=True)"
      ],
      "metadata": {
        "id": "SqO-d-Bd0BGH"
      },
      "execution_count": 49,
      "outputs": []
    },
    {
      "cell_type": "code",
      "source": [
        "model.compile(loss=\"sparse_categorical_crossentropy\", optimizer=optimizer, metrics=[\"accuracy\"])"
      ],
      "metadata": {
        "id": "MTmvjb3A0CZa"
      },
      "execution_count": 50,
      "outputs": []
    },
    {
      "cell_type": "code",
      "source": [
        "history = model.fit(X_train_scaled, y_train, epochs=10, validation_data=(X_valid_scaled, y_valid))"
      ],
      "metadata": {
        "colab": {
          "base_uri": "https://localhost:8080/"
        },
        "id": "xIUjQayX0D5b",
        "outputId": "1c7b5562-269f-49f6-f7de-d510ba3198a8"
      },
      "execution_count": 51,
      "outputs": [
        {
          "output_type": "stream",
          "name": "stdout",
          "text": [
            "Epoch 1/10\n",
            "1719/1719 [==============================] - 9s 5ms/step - loss: 0.6637 - accuracy: 0.7614 - val_loss: 0.5877 - val_accuracy: 0.8420\n",
            "Epoch 2/10\n",
            "1719/1719 [==============================] - 8s 5ms/step - loss: 0.5598 - accuracy: 0.7949 - val_loss: 0.5439 - val_accuracy: 0.8420\n",
            "Epoch 3/10\n",
            "1719/1719 [==============================] - 8s 5ms/step - loss: 0.5302 - accuracy: 0.8046 - val_loss: 0.5062 - val_accuracy: 0.8564\n",
            "Epoch 4/10\n",
            "1719/1719 [==============================] - 8s 5ms/step - loss: 0.5055 - accuracy: 0.8122 - val_loss: 0.4846 - val_accuracy: 0.8630\n",
            "Epoch 5/10\n",
            "1719/1719 [==============================] - 9s 5ms/step - loss: 0.4970 - accuracy: 0.8167 - val_loss: 0.4595 - val_accuracy: 0.8618\n",
            "Epoch 6/10\n",
            "1719/1719 [==============================] - 8s 5ms/step - loss: 0.4792 - accuracy: 0.8213 - val_loss: 0.4732 - val_accuracy: 0.8606\n",
            "Epoch 7/10\n",
            "1719/1719 [==============================] - 8s 5ms/step - loss: 0.4696 - accuracy: 0.8269 - val_loss: 0.4868 - val_accuracy: 0.8508\n",
            "Epoch 8/10\n",
            "1719/1719 [==============================] - 8s 5ms/step - loss: 0.4688 - accuracy: 0.8252 - val_loss: 0.4526 - val_accuracy: 0.8622\n",
            "Epoch 9/10\n",
            "1719/1719 [==============================] - 8s 5ms/step - loss: 0.4587 - accuracy: 0.8313 - val_loss: 0.4362 - val_accuracy: 0.8702\n",
            "Epoch 10/10\n",
            "1719/1719 [==============================] - 8s 5ms/step - loss: 0.4501 - accuracy: 0.8322 - val_loss: 0.4827 - val_accuracy: 0.8634\n"
          ]
        }
      ]
    },
    {
      "cell_type": "code",
      "source": [
        "# Loss and Accuracy\n",
        "model.evaluate(X_test_scaled, y_test)"
      ],
      "metadata": {
        "colab": {
          "base_uri": "https://localhost:8080/"
        },
        "id": "oMfZan_w9wVJ",
        "outputId": "8866998c-2eba-4b1a-955f-562dd37b916f"
      },
      "execution_count": 52,
      "outputs": [
        {
          "output_type": "stream",
          "name": "stdout",
          "text": [
            "313/313 [==============================] - 1s 2ms/step - loss: 0.5258 - accuracy: 0.8493\n"
          ]
        },
        {
          "output_type": "execute_result",
          "data": {
            "text/plain": [
              "[0.5258005857467651, 0.8493000268936157]"
            ]
          },
          "metadata": {},
          "execution_count": 52
        }
      ]
    },
    {
      "cell_type": "markdown",
      "source": [
        "Max Norm"
      ],
      "metadata": {
        "id": "6ulRTdr0951K"
      }
    },
    {
      "cell_type": "code",
      "source": [
        "layer = keras.layers.Dense(100, activation=\"selu\", kernel_initializer=\"lecun_normal\",\n",
        "                           kernel_constraint=keras.constraints.max_norm(1.))"
      ],
      "metadata": {
        "id": "X4phVhhu-EeZ"
      },
      "execution_count": 53,
      "outputs": []
    },
    {
      "cell_type": "code",
      "source": [
        "from functools import partial\n",
        "\n",
        "MaxNormDense = partial(keras.layers.Dense,\n",
        "                       activation=\"selu\", kernel_initializer=\"lecun_normal\",\n",
        "                       kernel_constraint=keras.constraints.max_norm(1.))\n",
        "\n",
        "model = keras.models.Sequential([\n",
        "    keras.layers.Flatten(input_shape=[28, 28]),\n",
        "    MaxNormDense(300),\n",
        "    MaxNormDense(100),\n",
        "    keras.layers.Dense(10, activation=\"softmax\")\n",
        "])"
      ],
      "metadata": {
        "id": "PYUUSgaG-FcP"
      },
      "execution_count": 54,
      "outputs": []
    },
    {
      "cell_type": "code",
      "source": [
        "model.compile(loss=\"sparse_categorical_crossentropy\", optimizer=\"nadam\", metrics=[\"accuracy\"])"
      ],
      "metadata": {
        "id": "DIN-2uap0NQ_"
      },
      "execution_count": 55,
      "outputs": []
    },
    {
      "cell_type": "code",
      "source": [
        "history = model.fit(X_train_scaled, y_train, epochs=10, validation_data=(X_valid_scaled, y_valid))"
      ],
      "metadata": {
        "colab": {
          "base_uri": "https://localhost:8080/"
        },
        "id": "8WiKhKPz0P7U",
        "outputId": "2fa8a903-49f6-4361-8351-e6932232b446"
      },
      "execution_count": 56,
      "outputs": [
        {
          "output_type": "stream",
          "name": "stdout",
          "text": [
            "Epoch 1/10\n",
            "1719/1719 [==============================] - 14s 8ms/step - loss: 0.4759 - accuracy: 0.8333 - val_loss: 0.3841 - val_accuracy: 0.8628\n",
            "Epoch 2/10\n",
            "1719/1719 [==============================] - 13s 8ms/step - loss: 0.3537 - accuracy: 0.8704 - val_loss: 0.3704 - val_accuracy: 0.8714\n",
            "Epoch 3/10\n",
            "1719/1719 [==============================] - 13s 8ms/step - loss: 0.3278 - accuracy: 0.8796 - val_loss: 0.3571 - val_accuracy: 0.8694\n",
            "Epoch 4/10\n",
            "1719/1719 [==============================] - 13s 8ms/step - loss: 0.3180 - accuracy: 0.8829 - val_loss: 0.3459 - val_accuracy: 0.8740\n",
            "Epoch 5/10\n",
            "1719/1719 [==============================] - 13s 8ms/step - loss: 0.3099 - accuracy: 0.8855 - val_loss: 0.3301 - val_accuracy: 0.8808\n",
            "Epoch 6/10\n",
            "1719/1719 [==============================] - 13s 8ms/step - loss: 0.3075 - accuracy: 0.8856 - val_loss: 0.3399 - val_accuracy: 0.8806\n",
            "Epoch 7/10\n",
            "1719/1719 [==============================] - 13s 8ms/step - loss: 0.3059 - accuracy: 0.8865 - val_loss: 0.3541 - val_accuracy: 0.8768\n",
            "Epoch 8/10\n",
            "1719/1719 [==============================] - 13s 8ms/step - loss: 0.3029 - accuracy: 0.8864 - val_loss: 0.3489 - val_accuracy: 0.8748\n",
            "Epoch 9/10\n",
            "1719/1719 [==============================] - 13s 8ms/step - loss: 0.2992 - accuracy: 0.8875 - val_loss: 0.3274 - val_accuracy: 0.8832\n",
            "Epoch 10/10\n",
            "1719/1719 [==============================] - 14s 8ms/step - loss: 0.2997 - accuracy: 0.8878 - val_loss: 0.3186 - val_accuracy: 0.8882\n"
          ]
        }
      ]
    }
  ]
}