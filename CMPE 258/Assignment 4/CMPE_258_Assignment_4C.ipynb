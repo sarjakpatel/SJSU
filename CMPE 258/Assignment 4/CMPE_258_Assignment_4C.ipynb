{
  "nbformat": 4,
  "nbformat_minor": 0,
  "metadata": {
    "colab": {
      "name": "CMPE 258 Assignment_4C.ipynb",
      "provenance": [],
      "include_colab_link": true
    },
    "kernelspec": {
      "name": "python3",
      "display_name": "Python 3"
    },
    "language_info": {
      "name": "python"
    }
  },
  "cells": [
    {
      "cell_type": "markdown",
      "metadata": {
        "id": "view-in-github",
        "colab_type": "text"
      },
      "source": [
        "<a href=\"https://colab.research.google.com/github/sarjakpatel/SJSU/blob/main/CMPE%20258/Assignment%204/CMPE_258_Assignment_4C.ipynb\" target=\"_parent\"><img src=\"https://colab.research.google.com/assets/colab-badge.svg\" alt=\"Open In Colab\"/></a>"
      ]
    },
    {
      "cell_type": "markdown",
      "source": [
        "# CMPE 258 Assignment 4C: Keras classifier"
      ],
      "metadata": {
        "id": "lcXHph_6ob72"
      }
    },
    {
      "cell_type": "markdown",
      "source": [
        "## Image Problem"
      ],
      "metadata": {
        "id": "c493iyOxsLGg"
      }
    },
    {
      "cell_type": "markdown",
      "source": [
        "### Importing the Libraries"
      ],
      "metadata": {
        "id": "YdHGwBnWQhtX"
      }
    },
    {
      "cell_type": "code",
      "source": [
        "import os\n",
        "import numpy as np\n",
        "import pandas as pd\n",
        "import tensorflow as tf\n",
        "from tensorflow import keras\n",
        "import matplotlib as mpl\n",
        "import matplotlib.pyplot as plt\n",
        "\n",
        "np.random.seed(42)\n",
        "%matplotlib inline\n",
        "mpl.rc('axes', labelsize=14)\n",
        "mpl.rc('xtick', labelsize=12)\n",
        "mpl.rc('ytick', labelsize=12)\n",
        "\n",
        "print(\"Tensorflow version\" , tf.__version__)\n",
        "print(\"Keras version\" , keras.__version__)"
      ],
      "metadata": {
        "colab": {
          "base_uri": "https://localhost:8080/"
        },
        "id": "h1R4v-uPo9Bn",
        "outputId": "6e653fa9-e1b3-4752-d6bf-2d31cca20455"
      },
      "execution_count": 1,
      "outputs": [
        {
          "output_type": "stream",
          "name": "stdout",
          "text": [
            "Tensorflow version 2.8.0\n",
            "Keras version 2.8.0\n"
          ]
        }
      ]
    },
    {
      "cell_type": "markdown",
      "source": [
        "### Loading the Dataset"
      ],
      "metadata": {
        "id": "liRYCqVipL4L"
      }
    },
    {
      "cell_type": "code",
      "source": [
        "fashion_mnist = keras.datasets.fashion_mnist\n",
        "(X_train_full, y_train_full), (X_test, y_test) = fashion_mnist.load_data()"
      ],
      "metadata": {
        "id": "kXE5jvAwRhso"
      },
      "execution_count": 2,
      "outputs": []
    },
    {
      "cell_type": "markdown",
      "source": [
        "In the next step, we will divide the training dataset into a tarining and a validation dataset , which will be used in further steps. In additon, we will scale the pixels into range(0,1) ."
      ],
      "metadata": {
        "id": "y5mOuCzMOrpU"
      }
    },
    {
      "cell_type": "code",
      "source": [
        "X_valid, X_train = X_train_full[:5000] / 255., X_train_full[5000:] / 255.\n",
        "y_valid, y_train = y_train_full[:5000], y_train_full[5000:]\n",
        "X_test = X_test / 255."
      ],
      "metadata": {
        "id": "gKoWt5V4Ns8A"
      },
      "execution_count": 3,
      "outputs": []
    },
    {
      "cell_type": "code",
      "source": [
        "plt.imshow(X_train[0], cmap=\"binary\")\n",
        "plt.axis('off')\n",
        "plt.show()"
      ],
      "metadata": {
        "colab": {
          "base_uri": "https://localhost:8080/",
          "height": 248
        },
        "id": "MW_qgjGmPQfr",
        "outputId": "c5f30afa-61bc-4301-a13c-8d851324f60b"
      },
      "execution_count": 4,
      "outputs": [
        {
          "output_type": "display_data",
          "data": {
            "text/plain": [
              "<Figure size 432x288 with 1 Axes>"
            ],
            "image/png": "[encoded data removed]"
          },
          "metadata": {
            "needs_background": "light"
          }
        }
      ]
    },
    {
      "cell_type": "code",
      "source": [
        "#Names of Classes\n",
        "\n",
        "class_names = [\"T-shirt/top\", \"Trouser\", \"Pullover\", \"Dress\", \"Coat\",\n",
        "               \"Sandal\", \"Shirt\", \"Sneaker\", \"Bag\", \"Ankle boot\"]"
      ],
      "metadata": {
        "id": "dRdt_0VMPLp8"
      },
      "execution_count": 5,
      "outputs": []
    },
    {
      "cell_type": "code",
      "source": [
        "print(\"The records in validaton set is\",X_valid.shape) # 5000 images\n",
        "print(\"The records in Testing set is\",X_test.shape) # 10000 records"
      ],
      "metadata": {
        "colab": {
          "base_uri": "https://localhost:8080/"
        },
        "id": "Vd99jpFNQ0bl",
        "outputId": "820c9db8-5a24-4b59-92b0-5390c771dd24"
      },
      "execution_count": 6,
      "outputs": [
        {
          "output_type": "stream",
          "name": "stdout",
          "text": [
            "The records in validaton set is (5000, 28, 28)\n",
            "The records in Testing set is (10000, 28, 28)\n"
          ]
        }
      ]
    },
    {
      "cell_type": "code",
      "source": [
        "n_rows = 4\n",
        "n_cols = 10\n",
        "plt.figure(figsize=(n_cols * 1.2, n_rows * 1.2))\n",
        "for row in range(n_rows):\n",
        "    for col in range(n_cols):\n",
        "        index = n_cols * row + col\n",
        "        plt.subplot(n_rows, n_cols, index + 1)\n",
        "        plt.imshow(X_train[index], cmap=\"binary\", interpolation=\"nearest\")\n",
        "        plt.axis('off')\n",
        "        plt.title(class_names[y_train[index]], fontsize=12)\n",
        "plt.subplots_adjust(wspace=0.2, hspace=0.5)\n",
        "plt.show()"
      ],
      "metadata": {
        "colab": {
          "base_uri": "https://localhost:8080/",
          "height": 308
        },
        "id": "TUGdImDeRC-x",
        "outputId": "a5303e0a-b3c1-4fe6-9d82-97a3528c8d9f"
      },
      "execution_count": 7,
      "outputs": [
        {
          "output_type": "display_data",
          "data": {
            "text/plain": [
              "<Figure size 864x345.6 with 40 Axes>"
            ],
            "image/png": "[encoded data removed]"
          },
          "metadata": {
            "needs_background": "light"
          }
        }
      ]
    },
    {
      "cell_type": "markdown",
      "source": [
        "### Creating the Model"
      ],
      "metadata": {
        "id": "ffzkH7CepeXh"
      }
    },
    {
      "cell_type": "code",
      "source": [
        "model = keras.models.Sequential()\n",
        "model.add(keras.layers.Flatten(input_shape=[28, 28]))\n",
        "model.add(keras.layers.Dense(300, activation=\"relu\"))\n",
        "model.add(keras.layers.Dense(100, activation=\"relu\"))\n",
        "model.add(keras.layers.Dense(10, activation=\"softmax\"))"
      ],
      "metadata": {
        "id": "Bim7kcF3RMD1"
      },
      "execution_count": 8,
      "outputs": []
    },
    {
      "cell_type": "code",
      "source": [
        "keras.backend.clear_session()\n",
        "np.random.seed(42)\n",
        "tf.random.set_seed(42)"
      ],
      "metadata": {
        "id": "_zRfapGkRWyi"
      },
      "execution_count": 9,
      "outputs": []
    },
    {
      "cell_type": "code",
      "source": [
        "model.summary()"
      ],
      "metadata": {
        "colab": {
          "base_uri": "https://localhost:8080/"
        },
        "id": "2CoIwYzvfGTg",
        "outputId": "812d2f54-4db5-4bd2-aafa-3752fd1aa1fa"
      },
      "execution_count": 10,
      "outputs": [
        {
          "output_type": "stream",
          "name": "stdout",
          "text": [
            "Model: \"sequential\"\n",
            "_________________________________________________________________\n",
            " Layer (type)                Output Shape              Param #   \n",
            "=================================================================\n",
            " flatten (Flatten)           (None, 784)               0         \n",
            "                                                                 \n",
            " dense (Dense)               (None, 300)               235500    \n",
            "                                                                 \n",
            " dense_1 (Dense)             (None, 100)               30100     \n",
            "                                                                 \n",
            " dense_2 (Dense)             (None, 10)                1010      \n",
            "                                                                 \n",
            "=================================================================\n",
            "Total params: 266,610\n",
            "Trainable params: 266,610\n",
            "Non-trainable params: 0\n",
            "_________________________________________________________________\n"
          ]
        }
      ]
    },
    {
      "cell_type": "code",
      "source": [
        "model.compile(loss=\"sparse_categorical_crossentropy\",\n",
        "              optimizer=\"sgd\",\n",
        "              metrics=[\"accuracy\"])"
      ],
      "metadata": {
        "id": "1bFZ9syHfOmm"
      },
      "execution_count": 11,
      "outputs": []
    },
    {
      "cell_type": "code",
      "source": [
        "history = model.fit(X_train, y_train, epochs=20,\n",
        "                    validation_data=(X_valid, y_valid))"
      ],
      "metadata": {
        "colab": {
          "base_uri": "https://localhost:8080/"
        },
        "id": "xPOzemspfWvl",
        "outputId": "c16d6144-f9b3-49d9-b3ae-00b91cdddf1d"
      },
      "execution_count": 12,
      "outputs": [
        {
          "output_type": "stream",
          "name": "stdout",
          "text": [
            "Epoch 1/20\n",
            "1719/1719 [==============================] - 14s 8ms/step - loss: 0.7102 - accuracy: 0.7633 - val_loss: 0.5100 - val_accuracy: 0.8300\n",
            "Epoch 2/20\n",
            "1719/1719 [==============================] - 11s 6ms/step - loss: 0.4842 - accuracy: 0.8312 - val_loss: 0.4326 - val_accuracy: 0.8514\n",
            "Epoch 3/20\n",
            "1719/1719 [==============================] - 6s 4ms/step - loss: 0.4389 - accuracy: 0.8452 - val_loss: 0.5245 - val_accuracy: 0.8030\n",
            "Epoch 4/20\n",
            "1719/1719 [==============================] - 7s 4ms/step - loss: 0.4126 - accuracy: 0.8556 - val_loss: 0.3906 - val_accuracy: 0.8682\n",
            "Epoch 5/20\n",
            "1719/1719 [==============================] - 7s 4ms/step - loss: 0.3942 - accuracy: 0.8621 - val_loss: 0.3746 - val_accuracy: 0.8698\n",
            "Epoch 6/20\n",
            "1719/1719 [==============================] - 7s 4ms/step - loss: 0.3755 - accuracy: 0.8679 - val_loss: 0.3662 - val_accuracy: 0.8754\n",
            "Epoch 7/20\n",
            "1719/1719 [==============================] - 7s 4ms/step - loss: 0.3634 - accuracy: 0.8722 - val_loss: 0.3601 - val_accuracy: 0.8728\n",
            "Epoch 8/20\n",
            "1719/1719 [==============================] - 7s 4ms/step - loss: 0.3519 - accuracy: 0.8754 - val_loss: 0.3821 - val_accuracy: 0.8650\n",
            "Epoch 9/20\n",
            "1719/1719 [==============================] - 7s 4ms/step - loss: 0.3415 - accuracy: 0.8789 - val_loss: 0.3560 - val_accuracy: 0.8722\n",
            "Epoch 10/20\n",
            "1719/1719 [==============================] - 7s 4ms/step - loss: 0.3325 - accuracy: 0.8815 - val_loss: 0.3416 - val_accuracy: 0.8776\n",
            "Epoch 11/20\n",
            "1719/1719 [==============================] - 7s 4ms/step - loss: 0.3242 - accuracy: 0.8844 - val_loss: 0.3429 - val_accuracy: 0.8778\n",
            "Epoch 12/20\n",
            "1719/1719 [==============================] - 7s 4ms/step - loss: 0.3152 - accuracy: 0.8870 - val_loss: 0.3302 - val_accuracy: 0.8818\n",
            "Epoch 13/20\n",
            "1719/1719 [==============================] - 7s 4ms/step - loss: 0.3084 - accuracy: 0.8899 - val_loss: 0.3293 - val_accuracy: 0.8846\n",
            "Epoch 14/20\n",
            "1719/1719 [==============================] - 7s 4ms/step - loss: 0.3019 - accuracy: 0.8915 - val_loss: 0.3474 - val_accuracy: 0.8738\n",
            "Epoch 15/20\n",
            "1719/1719 [==============================] - 7s 4ms/step - loss: 0.2945 - accuracy: 0.8933 - val_loss: 0.3288 - val_accuracy: 0.8814\n",
            "Epoch 16/20\n",
            "1719/1719 [==============================] - 7s 4ms/step - loss: 0.2894 - accuracy: 0.8965 - val_loss: 0.3094 - val_accuracy: 0.8858\n",
            "Epoch 17/20\n",
            "1719/1719 [==============================] - 7s 4ms/step - loss: 0.2838 - accuracy: 0.8973 - val_loss: 0.3594 - val_accuracy: 0.8712\n",
            "Epoch 18/20\n",
            "1719/1719 [==============================] - 7s 4ms/step - loss: 0.2781 - accuracy: 0.9004 - val_loss: 0.3133 - val_accuracy: 0.8896\n",
            "Epoch 19/20\n",
            "1719/1719 [==============================] - 7s 4ms/step - loss: 0.2734 - accuracy: 0.9015 - val_loss: 0.3106 - val_accuracy: 0.8890\n",
            "Epoch 20/20\n",
            "1719/1719 [==============================] - 7s 4ms/step - loss: 0.2679 - accuracy: 0.9038 - val_loss: 0.3302 - val_accuracy: 0.8824\n"
          ]
        }
      ]
    },
    {
      "cell_type": "code",
      "source": [
        "pd.DataFrame(history.history).plot(figsize=(8, 5))\n",
        "plt.grid(True)\n",
        "plt.gca().set_ylim(0, 1)\n",
        "plt.show()"
      ],
      "metadata": {
        "colab": {
          "base_uri": "https://localhost:8080/",
          "height": 328
        },
        "id": "oV3BCZT2fdHk",
        "outputId": "27cdf481-465f-4bdf-b38a-a1224f510d29"
      },
      "execution_count": 13,
      "outputs": [
        {
          "output_type": "display_data",
          "data": {
            "text/plain": [
              "<Figure size 576x360 with 1 Axes>"
            ],
            "image/png": "[encoded data removed]"
          },
          "metadata": {
            "needs_background": "light"
          }
        }
      ]
    },
    {
      "cell_type": "markdown",
      "source": [
        "### Model Evaluation"
      ],
      "metadata": {
        "id": "-zr71oaHr56v"
      }
    },
    {
      "cell_type": "code",
      "source": [
        "model.evaluate(X_test, y_test)"
      ],
      "metadata": {
        "colab": {
          "base_uri": "https://localhost:8080/"
        },
        "id": "q0aY5cb5fmw8",
        "outputId": "d880a566-918b-4dd6-c739-521515cb49d2"
      },
      "execution_count": 14,
      "outputs": [
        {
          "output_type": "stream",
          "name": "stdout",
          "text": [
            "313/313 [==============================] - 1s 2ms/step - loss: 0.3631 - accuracy: 0.8677\n"
          ]
        },
        {
          "output_type": "execute_result",
          "data": {
            "text/plain": [
              "[0.3630535304546356, 0.8676999807357788]"
            ]
          },
          "metadata": {},
          "execution_count": 14
        }
      ]
    },
    {
      "cell_type": "code",
      "source": [
        "# Let us take 3 examples and see if it recognizes correctly\n",
        "y_new = y_test[:3]\n",
        "y_new"
      ],
      "metadata": {
        "colab": {
          "base_uri": "https://localhost:8080/"
        },
        "id": "q82MjgYsfmzx",
        "outputId": "01609703-2740-4c1b-c0e5-5d61f234bfea"
      },
      "execution_count": 15,
      "outputs": [
        {
          "output_type": "execute_result",
          "data": {
            "text/plain": [
              "array([9, 2, 1], dtype=uint8)"
            ]
          },
          "metadata": {},
          "execution_count": 15
        }
      ]
    },
    {
      "cell_type": "code",
      "source": [
        "X_new = X_test[:3]\n",
        "y_proba = model.predict(X_new)\n",
        "y_proba.round(2)"
      ],
      "metadata": {
        "colab": {
          "base_uri": "https://localhost:8080/"
        },
        "id": "OsXiEXrNhB_E",
        "outputId": "3624c65a-45d0-4e19-8975-05e7d0123b9d"
      },
      "execution_count": 16,
      "outputs": [
        {
          "output_type": "execute_result",
          "data": {
            "text/plain": [
              "array([[0.  , 0.  , 0.  , 0.  , 0.  , 0.02, 0.  , 0.1 , 0.  , 0.88],\n",
              "       [0.  , 0.  , 0.99, 0.  , 0.01, 0.  , 0.  , 0.  , 0.  , 0.  ],\n",
              "       [0.  , 1.  , 0.  , 0.  , 0.  , 0.  , 0.  , 0.  , 0.  , 0.  ]],\n",
              "      dtype=float32)"
            ]
          },
          "metadata": {},
          "execution_count": 16
        }
      ]
    },
    {
      "cell_type": "code",
      "source": [
        "plt.figure(figsize=(7.2, 2.4))\n",
        "for index, image in enumerate(X_new):\n",
        "    plt.subplot(1, 3, index + 1)\n",
        "    plt.imshow(image, cmap=\"binary\", interpolation=\"nearest\")\n",
        "    plt.axis('off')\n",
        "    plt.title(class_names[y_test[index]], fontsize=12)\n",
        "plt.subplots_adjust(wspace=0.2, hspace=0.5)\n",
        "plt.show()"
      ],
      "metadata": {
        "colab": {
          "base_uri": "https://localhost:8080/",
          "height": 165
        },
        "id": "FSqCr4_cfm2Y",
        "outputId": "1a5dd969-b90e-4554-9f4a-89e469ddf182"
      },
      "execution_count": 17,
      "outputs": [
        {
          "output_type": "display_data",
          "data": {
            "text/plain": [
              "<Figure size 518.4x172.8 with 3 Axes>"
            ],
            "image/png": "[encoded data removed]"
          },
          "metadata": {
            "needs_background": "light"
          }
        }
      ]
    },
    {
      "cell_type": "markdown",
      "source": [
        "## Regression Problem"
      ],
      "metadata": {
        "id": "-vlkkebMgDJ1"
      }
    },
    {
      "cell_type": "markdown",
      "source": [
        "### Importing the Libraries"
      ],
      "metadata": {
        "id": "bxzx6AUzsh4H"
      }
    },
    {
      "cell_type": "code",
      "source": [
        "from sklearn.datasets import fetch_california_housing\n",
        "from sklearn.model_selection import train_test_split\n",
        "from sklearn.preprocessing import StandardScaler\n",
        "\n",
        "np.random.seed(102)\n",
        "tf.random.set_seed(102)"
      ],
      "metadata": {
        "id": "cetZbDlzsllD"
      },
      "execution_count": 18,
      "outputs": []
    },
    {
      "cell_type": "markdown",
      "source": [
        "### Loading & Normalizing the Dataset"
      ],
      "metadata": {
        "id": "k9Uqoo-tsnIq"
      }
    },
    {
      "cell_type": "code",
      "source": [
        "housing = fetch_california_housing()"
      ],
      "metadata": {
        "id": "tV-omdv4s18r"
      },
      "execution_count": 19,
      "outputs": []
    },
    {
      "cell_type": "code",
      "source": [
        "X_train, X_test, y_train, y_test = train_test_split(housing.data, housing.target, random_state=42)\n",
        "X_train, X_valid, y_train, y_valid = train_test_split(X_train, y_train, random_state=42)"
      ],
      "metadata": {
        "id": "CVTDQhXPfm4w"
      },
      "execution_count": 20,
      "outputs": []
    },
    {
      "cell_type": "code",
      "source": [
        "scaler = StandardScaler()\n",
        "X_train = scaler.fit_transform(X_train)\n",
        "X_valid = scaler.transform(X_valid)\n",
        "X_test = scaler.transform(X_test)"
      ],
      "metadata": {
        "id": "mGEkBafhszRk"
      },
      "execution_count": 21,
      "outputs": []
    },
    {
      "cell_type": "markdown",
      "source": [
        "### Creating the Model"
      ],
      "metadata": {
        "id": "YZJiuKXcs_Ll"
      }
    },
    {
      "cell_type": "code",
      "source": [
        "model = keras.models.Sequential([\n",
        "    keras.layers.Dense(30, activation=\"relu\", input_shape=X_train.shape[1:]),\n",
        "    keras.layers.Dense(1)\n",
        "])"
      ],
      "metadata": {
        "id": "fwdo6S2ogmFm"
      },
      "execution_count": 22,
      "outputs": []
    },
    {
      "cell_type": "code",
      "source": [
        "model.summary()"
      ],
      "metadata": {
        "colab": {
          "base_uri": "https://localhost:8080/"
        },
        "id": "RiMRNjFAtLii",
        "outputId": "a5a23e79-57e1-44db-ba82-abe22a103e50"
      },
      "execution_count": 23,
      "outputs": [
        {
          "output_type": "stream",
          "name": "stdout",
          "text": [
            "Model: \"sequential\"\n",
            "_________________________________________________________________\n",
            " Layer (type)                Output Shape              Param #   \n",
            "=================================================================\n",
            " dense (Dense)               (None, 30)                270       \n",
            "                                                                 \n",
            " dense_1 (Dense)             (None, 1)                 31        \n",
            "                                                                 \n",
            "=================================================================\n",
            "Total params: 301\n",
            "Trainable params: 301\n",
            "Non-trainable params: 0\n",
            "_________________________________________________________________\n"
          ]
        }
      ]
    },
    {
      "cell_type": "code",
      "source": [
        "model.compile(loss=\"mean_squared_error\", optimizer=keras.optimizers.SGD(learning_rate=1e-3))"
      ],
      "metadata": {
        "id": "dmawouuntNXB"
      },
      "execution_count": 24,
      "outputs": []
    },
    {
      "cell_type": "code",
      "source": [
        "history = model.fit(X_train, y_train, epochs=20, validation_data=(X_valid, y_valid))"
      ],
      "metadata": {
        "colab": {
          "base_uri": "https://localhost:8080/"
        },
        "id": "KmAEGUmKtPKe",
        "outputId": "5cc07f94-695f-4dc9-d044-886395d9093e"
      },
      "execution_count": 25,
      "outputs": [
        {
          "output_type": "stream",
          "name": "stdout",
          "text": [
            "Epoch 1/20\n",
            "363/363 [==============================] - 1s 3ms/step - loss: 1.9469 - val_loss: 0.9884\n",
            "Epoch 2/20\n",
            "363/363 [==============================] - 1s 3ms/step - loss: 0.8105 - val_loss: 0.7313\n",
            "Epoch 3/20\n",
            "363/363 [==============================] - 1s 2ms/step - loss: 0.6896 - val_loss: 0.6558\n",
            "Epoch 4/20\n",
            "363/363 [==============================] - 1s 2ms/step - loss: 0.6383 - val_loss: 0.6197\n",
            "Epoch 5/20\n",
            "363/363 [==============================] - 1s 2ms/step - loss: 0.6038 - val_loss: 0.6268\n",
            "Epoch 6/20\n",
            "363/363 [==============================] - 1s 2ms/step - loss: 0.5783 - val_loss: 0.5757\n",
            "Epoch 7/20\n",
            "363/363 [==============================] - 1s 2ms/step - loss: 0.5570 - val_loss: 0.5458\n",
            "Epoch 8/20\n",
            "363/363 [==============================] - 1s 2ms/step - loss: 0.5385 - val_loss: 0.5485\n",
            "Epoch 9/20\n",
            "363/363 [==============================] - 1s 2ms/step - loss: 0.5234 - val_loss: 0.5367\n",
            "Epoch 10/20\n",
            "363/363 [==============================] - 1s 2ms/step - loss: 0.5103 - val_loss: 0.4925\n",
            "Epoch 11/20\n",
            "363/363 [==============================] - 1s 2ms/step - loss: 0.4976 - val_loss: 0.4975\n",
            "Epoch 12/20\n",
            "363/363 [==============================] - 1s 2ms/step - loss: 0.4878 - val_loss: 0.4675\n",
            "Epoch 13/20\n",
            "363/363 [==============================] - 1s 2ms/step - loss: 0.4785 - val_loss: 0.4610\n",
            "Epoch 14/20\n",
            "363/363 [==============================] - 1s 2ms/step - loss: 0.4706 - val_loss: 0.4503\n",
            "Epoch 15/20\n",
            "363/363 [==============================] - 1s 2ms/step - loss: 0.4637 - val_loss: 0.4420\n",
            "Epoch 16/20\n",
            "363/363 [==============================] - 1s 2ms/step - loss: 0.4576 - val_loss: 0.4380\n",
            "Epoch 17/20\n",
            "363/363 [==============================] - 1s 2ms/step - loss: 0.4520 - val_loss: 0.4306\n",
            "Epoch 18/20\n",
            "363/363 [==============================] - 1s 2ms/step - loss: 0.4470 - val_loss: 0.4260\n",
            "Epoch 19/20\n",
            "363/363 [==============================] - 1s 2ms/step - loss: 0.4430 - val_loss: 0.4245\n",
            "Epoch 20/20\n",
            "363/363 [==============================] - 1s 2ms/step - loss: 0.4390 - val_loss: 0.4191\n"
          ]
        }
      ]
    },
    {
      "cell_type": "markdown",
      "source": [
        "### Model Evaluation"
      ],
      "metadata": {
        "id": "TYNgFWeMtQ-t"
      }
    },
    {
      "cell_type": "code",
      "source": [
        "mse_test = model.evaluate(X_test, y_test)\n",
        "X_new = X_test[:3]\n",
        "y_pred = model.predict(X_new)"
      ],
      "metadata": {
        "colab": {
          "base_uri": "https://localhost:8080/"
        },
        "id": "toyDr2O9tHYf",
        "outputId": "e2ec23e5-4c37-41ab-ecac-c70e6c80d2ab"
      },
      "execution_count": 26,
      "outputs": [
        {
          "output_type": "stream",
          "name": "stdout",
          "text": [
            "162/162 [==============================] - 0s 2ms/step - loss: 0.4319\n"
          ]
        }
      ]
    },
    {
      "cell_type": "code",
      "source": [
        "plt.plot(pd.DataFrame(history.history))\n",
        "plt.grid(True)\n",
        "plt.gca().set_ylim(0, 1)\n",
        "plt.show()"
      ],
      "metadata": {
        "colab": {
          "base_uri": "https://localhost:8080/",
          "height": 273
        },
        "id": "Ea7lTXhChETL",
        "outputId": "034f41cd-151f-4d3d-c27a-5b73f93bdc6a"
      },
      "execution_count": 27,
      "outputs": [
        {
          "output_type": "display_data",
          "data": {
            "text/plain": [
              "<Figure size 432x288 with 1 Axes>"
            ],
            "image/png": "[encoded data removed]"
          },
          "metadata": {
            "needs_background": "light"
          }
        }
      ]
    }
  ]
}