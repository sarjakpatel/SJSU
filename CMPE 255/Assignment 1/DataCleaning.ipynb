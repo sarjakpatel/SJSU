{
  "nbformat": 4,
  "nbformat_minor": 0,
  "metadata": {
    "colab": {
      "name": "DataCleaning.ipynb",
      "provenance": [],
      "collapsed_sections": [],
      "toc_visible": true,
      "mount_file_id": "1lL2LAH-lsNhgqXpll0t7bwlJYJ4Sv6GH",
      "authorship_tag": "ABX9TyMxgcCUK7xTKAJQfW3VwHbU",
      "include_colab_link": true
    },
    "kernelspec": {
      "name": "python3",
      "display_name": "Python 3"
    },
    "language_info": {
      "name": "python"
    },
    "accelerator": "GPU"
  },
  "cells": [
    {
      "cell_type": "markdown",
      "metadata": {
        "id": "view-in-github",
        "colab_type": "text"
      },
      "source": [
        "<a href=\"https://colab.research.google.com/github/sarjakpatel/SJSU/blob/main/CMPE%20255/Assignment%201/DataCleaning.ipynb\" target=\"_parent\"><img src=\"https://colab.research.google.com/assets/colab-badge.svg\" alt=\"Open In Colab\"/></a>"
      ]
    },
    {
      "cell_type": "markdown",
      "metadata": {
        "id": "2UPxrQ34VuuL"
      },
      "source": [
        "# **CMPE-255 Data Cleaning Assignment**"
      ]
    },
    {
      "cell_type": "markdown",
      "metadata": {
        "id": "AyWuYTLtWKr6"
      },
      "source": [
        "### **Importing the Library**"
      ]
    },
    {
      "cell_type": "code",
      "metadata": {
        "id": "J9TFFqfL-SYh"
      },
      "source": [
        "import numpy as np\n",
        "import pandas as pd\n",
        "import matplotlib.pyplot as plt\n",
        "import seaborn as sns\n",
        "from sklearn import metrics\n",
        "from sklearn.model_selection import train_test_split\n",
        "from sklearn.metrics import mean_squared_error as MSE\n",
        "from sklearn.ensemble import RandomForestRegressor\n",
        "from sklearn import preprocessing"
      ],
      "execution_count": 1,
      "outputs": []
    },
    {
      "cell_type": "markdown",
      "metadata": {
        "id": "BVAphto3WUuf"
      },
      "source": [
        "### **Reading the Dataset**"
      ]
    },
    {
      "cell_type": "code",
      "metadata": {
        "colab": {
          "base_uri": "https://localhost:8080/",
          "height": 494
        },
        "id": "IGU0aq-R20Kq",
        "outputId": "f6ef6547-1c02-4df8-d091-7c0e580506c2"
      },
      "source": [
        "dataset = pd.read_csv('/content/drive/MyDrive/Dataset/vehicles.csv')\n",
        "dataset.head(10)"
      ],
      "execution_count": 2,
      "outputs": [
        {
          "output_type": "execute_result",
          "data": {
            "text/html": [
              "<div>\n",
              "<style scoped>\n",
              "    .dataframe tbody tr th:only-of-type {\n",
              "        vertical-align: middle;\n",
              "    }\n",
              "\n",
              "    .dataframe tbody tr th {\n",
              "        vertical-align: top;\n",
              "    }\n",
              "\n",
              "    .dataframe thead th {\n",
              "        text-align: right;\n",
              "    }\n",
              "</style>\n",
              "<table border=\"1\" class=\"dataframe\">\n",
              "  <thead>\n",
              "    <tr style=\"text-align: right;\">\n",
              "      <th></th>\n",
              "      <th>id</th>\n",
              "      <th>url</th>\n",
              "      <th>region</th>\n",
              "      <th>region_url</th>\n",
              "      <th>price</th>\n",
              "      <th>year</th>\n",
              "      <th>manufacturer</th>\n",
              "      <th>model</th>\n",
              "      <th>condition</th>\n",
              "      <th>cylinders</th>\n",
              "      <th>fuel</th>\n",
              "      <th>odometer</th>\n",
              "      <th>title_status</th>\n",
              "      <th>transmission</th>\n",
              "      <th>VIN</th>\n",
              "      <th>drive</th>\n",
              "      <th>size</th>\n",
              "      <th>type</th>\n",
              "      <th>paint_color</th>\n",
              "      <th>image_url</th>\n",
              "      <th>description</th>\n",
              "      <th>county</th>\n",
              "      <th>state</th>\n",
              "      <th>lat</th>\n",
              "      <th>long</th>\n",
              "      <th>posting_date</th>\n",
              "    </tr>\n",
              "  </thead>\n",
              "  <tbody>\n",
              "    <tr>\n",
              "      <th>0</th>\n",
              "      <td>7222695916</td>\n",
              "      <td>https://prescott.craigslist.org/cto/d/prescott...</td>\n",
              "      <td>prescott</td>\n",
              "      <td>https://prescott.craigslist.org</td>\n",
              "      <td>6000</td>\n",
              "      <td>NaN</td>\n",
              "      <td>NaN</td>\n",
              "      <td>NaN</td>\n",
              "      <td>NaN</td>\n",
              "      <td>NaN</td>\n",
              "      <td>NaN</td>\n",
              "      <td>NaN</td>\n",
              "      <td>NaN</td>\n",
              "      <td>NaN</td>\n",
              "      <td>NaN</td>\n",
              "      <td>NaN</td>\n",
              "      <td>NaN</td>\n",
              "      <td>NaN</td>\n",
              "      <td>NaN</td>\n",
              "      <td>NaN</td>\n",
              "      <td>NaN</td>\n",
              "      <td>NaN</td>\n",
              "      <td>az</td>\n",
              "      <td>NaN</td>\n",
              "      <td>NaN</td>\n",
              "      <td>NaN</td>\n",
              "    </tr>\n",
              "    <tr>\n",
              "      <th>1</th>\n",
              "      <td>7218891961</td>\n",
              "      <td>https://fayar.craigslist.org/ctd/d/bentonville...</td>\n",
              "      <td>fayetteville</td>\n",
              "      <td>https://fayar.craigslist.org</td>\n",
              "      <td>11900</td>\n",
              "      <td>NaN</td>\n",
              "      <td>NaN</td>\n",
              "      <td>NaN</td>\n",
              "      <td>NaN</td>\n",
              "      <td>NaN</td>\n",
              "      <td>NaN</td>\n",
              "      <td>NaN</td>\n",
              "      <td>NaN</td>\n",
              "      <td>NaN</td>\n",
              "      <td>NaN</td>\n",
              "      <td>NaN</td>\n",
              "      <td>NaN</td>\n",
              "      <td>NaN</td>\n",
              "      <td>NaN</td>\n",
              "      <td>NaN</td>\n",
              "      <td>NaN</td>\n",
              "      <td>NaN</td>\n",
              "      <td>ar</td>\n",
              "      <td>NaN</td>\n",
              "      <td>NaN</td>\n",
              "      <td>NaN</td>\n",
              "    </tr>\n",
              "    <tr>\n",
              "      <th>2</th>\n",
              "      <td>7221797935</td>\n",
              "      <td>https://keys.craigslist.org/cto/d/summerland-k...</td>\n",
              "      <td>florida keys</td>\n",
              "      <td>https://keys.craigslist.org</td>\n",
              "      <td>21000</td>\n",
              "      <td>NaN</td>\n",
              "      <td>NaN</td>\n",
              "      <td>NaN</td>\n",
              "      <td>NaN</td>\n",
              "      <td>NaN</td>\n",
              "      <td>NaN</td>\n",
              "      <td>NaN</td>\n",
              "      <td>NaN</td>\n",
              "      <td>NaN</td>\n",
              "      <td>NaN</td>\n",
              "      <td>NaN</td>\n",
              "      <td>NaN</td>\n",
              "      <td>NaN</td>\n",
              "      <td>NaN</td>\n",
              "      <td>NaN</td>\n",
              "      <td>NaN</td>\n",
              "      <td>NaN</td>\n",
              "      <td>fl</td>\n",
              "      <td>NaN</td>\n",
              "      <td>NaN</td>\n",
              "      <td>NaN</td>\n",
              "    </tr>\n",
              "    <tr>\n",
              "      <th>3</th>\n",
              "      <td>7222270760</td>\n",
              "      <td>https://worcester.craigslist.org/cto/d/west-br...</td>\n",
              "      <td>worcester / central MA</td>\n",
              "      <td>https://worcester.craigslist.org</td>\n",
              "      <td>1500</td>\n",
              "      <td>NaN</td>\n",
              "      <td>NaN</td>\n",
              "      <td>NaN</td>\n",
              "      <td>NaN</td>\n",
              "      <td>NaN</td>\n",
              "      <td>NaN</td>\n",
              "      <td>NaN</td>\n",
              "      <td>NaN</td>\n",
              "      <td>NaN</td>\n",
              "      <td>NaN</td>\n",
              "      <td>NaN</td>\n",
              "      <td>NaN</td>\n",
              "      <td>NaN</td>\n",
              "      <td>NaN</td>\n",
              "      <td>NaN</td>\n",
              "      <td>NaN</td>\n",
              "      <td>NaN</td>\n",
              "      <td>ma</td>\n",
              "      <td>NaN</td>\n",
              "      <td>NaN</td>\n",
              "      <td>NaN</td>\n",
              "    </tr>\n",
              "    <tr>\n",
              "      <th>4</th>\n",
              "      <td>7210384030</td>\n",
              "      <td>https://greensboro.craigslist.org/cto/d/trinit...</td>\n",
              "      <td>greensboro</td>\n",
              "      <td>https://greensboro.craigslist.org</td>\n",
              "      <td>4900</td>\n",
              "      <td>NaN</td>\n",
              "      <td>NaN</td>\n",
              "      <td>NaN</td>\n",
              "      <td>NaN</td>\n",
              "      <td>NaN</td>\n",
              "      <td>NaN</td>\n",
              "      <td>NaN</td>\n",
              "      <td>NaN</td>\n",
              "      <td>NaN</td>\n",
              "      <td>NaN</td>\n",
              "      <td>NaN</td>\n",
              "      <td>NaN</td>\n",
              "      <td>NaN</td>\n",
              "      <td>NaN</td>\n",
              "      <td>NaN</td>\n",
              "      <td>NaN</td>\n",
              "      <td>NaN</td>\n",
              "      <td>nc</td>\n",
              "      <td>NaN</td>\n",
              "      <td>NaN</td>\n",
              "      <td>NaN</td>\n",
              "    </tr>\n",
              "    <tr>\n",
              "      <th>5</th>\n",
              "      <td>7222379453</td>\n",
              "      <td>https://hudsonvalley.craigslist.org/cto/d/west...</td>\n",
              "      <td>hudson valley</td>\n",
              "      <td>https://hudsonvalley.craigslist.org</td>\n",
              "      <td>1600</td>\n",
              "      <td>NaN</td>\n",
              "      <td>NaN</td>\n",
              "      <td>NaN</td>\n",
              "      <td>NaN</td>\n",
              "      <td>NaN</td>\n",
              "      <td>NaN</td>\n",
              "      <td>NaN</td>\n",
              "      <td>NaN</td>\n",
              "      <td>NaN</td>\n",
              "      <td>NaN</td>\n",
              "      <td>NaN</td>\n",
              "      <td>NaN</td>\n",
              "      <td>NaN</td>\n",
              "      <td>NaN</td>\n",
              "      <td>NaN</td>\n",
              "      <td>NaN</td>\n",
              "      <td>NaN</td>\n",
              "      <td>ny</td>\n",
              "      <td>NaN</td>\n",
              "      <td>NaN</td>\n",
              "      <td>NaN</td>\n",
              "    </tr>\n",
              "    <tr>\n",
              "      <th>6</th>\n",
              "      <td>7221952215</td>\n",
              "      <td>https://hudsonvalley.craigslist.org/cto/d/west...</td>\n",
              "      <td>hudson valley</td>\n",
              "      <td>https://hudsonvalley.craigslist.org</td>\n",
              "      <td>1000</td>\n",
              "      <td>NaN</td>\n",
              "      <td>NaN</td>\n",
              "      <td>NaN</td>\n",
              "      <td>NaN</td>\n",
              "      <td>NaN</td>\n",
              "      <td>NaN</td>\n",
              "      <td>NaN</td>\n",
              "      <td>NaN</td>\n",
              "      <td>NaN</td>\n",
              "      <td>NaN</td>\n",
              "      <td>NaN</td>\n",
              "      <td>NaN</td>\n",
              "      <td>NaN</td>\n",
              "      <td>NaN</td>\n",
              "      <td>NaN</td>\n",
              "      <td>NaN</td>\n",
              "      <td>NaN</td>\n",
              "      <td>ny</td>\n",
              "      <td>NaN</td>\n",
              "      <td>NaN</td>\n",
              "      <td>NaN</td>\n",
              "    </tr>\n",
              "    <tr>\n",
              "      <th>7</th>\n",
              "      <td>7220195662</td>\n",
              "      <td>https://hudsonvalley.craigslist.org/cto/d/poug...</td>\n",
              "      <td>hudson valley</td>\n",
              "      <td>https://hudsonvalley.craigslist.org</td>\n",
              "      <td>15995</td>\n",
              "      <td>NaN</td>\n",
              "      <td>NaN</td>\n",
              "      <td>NaN</td>\n",
              "      <td>NaN</td>\n",
              "      <td>NaN</td>\n",
              "      <td>NaN</td>\n",
              "      <td>NaN</td>\n",
              "      <td>NaN</td>\n",
              "      <td>NaN</td>\n",
              "      <td>NaN</td>\n",
              "      <td>NaN</td>\n",
              "      <td>NaN</td>\n",
              "      <td>NaN</td>\n",
              "      <td>NaN</td>\n",
              "      <td>NaN</td>\n",
              "      <td>NaN</td>\n",
              "      <td>NaN</td>\n",
              "      <td>ny</td>\n",
              "      <td>NaN</td>\n",
              "      <td>NaN</td>\n",
              "      <td>NaN</td>\n",
              "    </tr>\n",
              "    <tr>\n",
              "      <th>8</th>\n",
              "      <td>7209064557</td>\n",
              "      <td>https://medford.craigslist.org/cto/d/grants-pa...</td>\n",
              "      <td>medford-ashland</td>\n",
              "      <td>https://medford.craigslist.org</td>\n",
              "      <td>5000</td>\n",
              "      <td>NaN</td>\n",
              "      <td>NaN</td>\n",
              "      <td>NaN</td>\n",
              "      <td>NaN</td>\n",
              "      <td>NaN</td>\n",
              "      <td>NaN</td>\n",
              "      <td>NaN</td>\n",
              "      <td>NaN</td>\n",
              "      <td>NaN</td>\n",
              "      <td>NaN</td>\n",
              "      <td>NaN</td>\n",
              "      <td>NaN</td>\n",
              "      <td>NaN</td>\n",
              "      <td>NaN</td>\n",
              "      <td>NaN</td>\n",
              "      <td>NaN</td>\n",
              "      <td>NaN</td>\n",
              "      <td>or</td>\n",
              "      <td>NaN</td>\n",
              "      <td>NaN</td>\n",
              "      <td>NaN</td>\n",
              "    </tr>\n",
              "    <tr>\n",
              "      <th>9</th>\n",
              "      <td>7219485069</td>\n",
              "      <td>https://erie.craigslist.org/cto/d/erie-2012-su...</td>\n",
              "      <td>erie</td>\n",
              "      <td>https://erie.craigslist.org</td>\n",
              "      <td>3000</td>\n",
              "      <td>NaN</td>\n",
              "      <td>NaN</td>\n",
              "      <td>NaN</td>\n",
              "      <td>NaN</td>\n",
              "      <td>NaN</td>\n",
              "      <td>NaN</td>\n",
              "      <td>NaN</td>\n",
              "      <td>NaN</td>\n",
              "      <td>NaN</td>\n",
              "      <td>NaN</td>\n",
              "      <td>NaN</td>\n",
              "      <td>NaN</td>\n",
              "      <td>NaN</td>\n",
              "      <td>NaN</td>\n",
              "      <td>NaN</td>\n",
              "      <td>NaN</td>\n",
              "      <td>NaN</td>\n",
              "      <td>pa</td>\n",
              "      <td>NaN</td>\n",
              "      <td>NaN</td>\n",
              "      <td>NaN</td>\n",
              "    </tr>\n",
              "  </tbody>\n",
              "</table>\n",
              "</div>"
            ],
            "text/plain": [
              "           id  ... posting_date\n",
              "0  7222695916  ...          NaN\n",
              "1  7218891961  ...          NaN\n",
              "2  7221797935  ...          NaN\n",
              "3  7222270760  ...          NaN\n",
              "4  7210384030  ...          NaN\n",
              "5  7222379453  ...          NaN\n",
              "6  7221952215  ...          NaN\n",
              "7  7220195662  ...          NaN\n",
              "8  7209064557  ...          NaN\n",
              "9  7219485069  ...          NaN\n",
              "\n",
              "[10 rows x 26 columns]"
            ]
          },
          "metadata": {},
          "execution_count": 2
        }
      ]
    },
    {
      "cell_type": "code",
      "metadata": {
        "colab": {
          "base_uri": "https://localhost:8080/"
        },
        "id": "mj8tjSQA3BdH",
        "outputId": "e7b632d9-adc0-48b9-f0a9-593d01e26538"
      },
      "source": [
        "dataset.info()"
      ],
      "execution_count": 3,
      "outputs": [
        {
          "output_type": "stream",
          "name": "stdout",
          "text": [
            "<class 'pandas.core.frame.DataFrame'>\n",
            "RangeIndex: 426880 entries, 0 to 426879\n",
            "Data columns (total 26 columns):\n",
            " #   Column        Non-Null Count   Dtype  \n",
            "---  ------        --------------   -----  \n",
            " 0   id            426880 non-null  int64  \n",
            " 1   url           426880 non-null  object \n",
            " 2   region        426880 non-null  object \n",
            " 3   region_url    426880 non-null  object \n",
            " 4   price         426880 non-null  int64  \n",
            " 5   year          425675 non-null  float64\n",
            " 6   manufacturer  409234 non-null  object \n",
            " 7   model         421603 non-null  object \n",
            " 8   condition     252776 non-null  object \n",
            " 9   cylinders     249202 non-null  object \n",
            " 10  fuel          423867 non-null  object \n",
            " 11  odometer      422480 non-null  float64\n",
            " 12  title_status  418638 non-null  object \n",
            " 13  transmission  424324 non-null  object \n",
            " 14  VIN           265838 non-null  object \n",
            " 15  drive         296313 non-null  object \n",
            " 16  size          120519 non-null  object \n",
            " 17  type          334022 non-null  object \n",
            " 18  paint_color   296677 non-null  object \n",
            " 19  image_url     426812 non-null  object \n",
            " 20  description   426810 non-null  object \n",
            " 21  county        0 non-null       float64\n",
            " 22  state         426880 non-null  object \n",
            " 23  lat           420331 non-null  float64\n",
            " 24  long          420331 non-null  float64\n",
            " 25  posting_date  426812 non-null  object \n",
            "dtypes: float64(5), int64(2), object(19)\n",
            "memory usage: 84.7+ MB\n"
          ]
        }
      ]
    },
    {
      "cell_type": "markdown",
      "metadata": {
        "id": "evpCDn4tzjki"
      },
      "source": [
        " **Null %(Percentage) values of each column in dataset** "
      ]
    },
    {
      "cell_type": "code",
      "metadata": {
        "colab": {
          "base_uri": "https://localhost:8080/"
        },
        "id": "Z9-VuHTa3RO_",
        "outputId": "d50dbe25-68e2-4e05-8d49-191289f2b580"
      },
      "source": [
        "dataset.isnull().sum()*100/len(dataset)"
      ],
      "execution_count": 4,
      "outputs": [
        {
          "output_type": "execute_result",
          "data": {
            "text/plain": [
              "id                0.000000\n",
              "url               0.000000\n",
              "region            0.000000\n",
              "region_url        0.000000\n",
              "price             0.000000\n",
              "year              0.282281\n",
              "manufacturer      4.133714\n",
              "model             1.236179\n",
              "condition        40.785232\n",
              "cylinders        41.622470\n",
              "fuel              0.705819\n",
              "odometer          1.030735\n",
              "title_status      1.930753\n",
              "transmission      0.598763\n",
              "VIN              37.725356\n",
              "drive            30.586347\n",
              "size             71.767476\n",
              "type             21.752717\n",
              "paint_color      30.501078\n",
              "image_url         0.015930\n",
              "description       0.016398\n",
              "county          100.000000\n",
              "state             0.000000\n",
              "lat               1.534155\n",
              "long              1.534155\n",
              "posting_date      0.015930\n",
              "dtype: float64"
            ]
          },
          "metadata": {},
          "execution_count": 4
        }
      ]
    },
    {
      "cell_type": "code",
      "metadata": {
        "colab": {
          "base_uri": "https://localhost:8080/"
        },
        "id": "JWZxDNt33akN",
        "outputId": "09355cae-d467-4209-d917-b33626d81162"
      },
      "source": [
        "dataset.shape"
      ],
      "execution_count": 5,
      "outputs": [
        {
          "output_type": "execute_result",
          "data": {
            "text/plain": [
              "(426880, 26)"
            ]
          },
          "metadata": {},
          "execution_count": 5
        }
      ]
    },
    {
      "cell_type": "markdown",
      "metadata": {
        "id": "GM2CS2xbWr-X"
      },
      "source": [
        "### **Data Cleaning**"
      ]
    },
    {
      "cell_type": "markdown",
      "metadata": {
        "id": "xcC9UyuIz9Qq"
      },
      "source": [
        "**Remove the duplicates rows**"
      ]
    },
    {
      "cell_type": "code",
      "metadata": {
        "id": "EX5xqV6_jXkU"
      },
      "source": [
        "dataset = dataset.drop_duplicates()"
      ],
      "execution_count": 6,
      "outputs": []
    },
    {
      "cell_type": "markdown",
      "metadata": {
        "id": "ji4hME4a0ERC"
      },
      "source": [
        "**posting_date, region_url, url, image_url, VIN, size, id, county, description columns are not useful to predict cars price so we simply remove those columns.**"
      ]
    },
    {
      "cell_type": "code",
      "metadata": {
        "id": "KIyoceDN3eEy"
      },
      "source": [
        "dataset=dataset.drop(['posting_date','region_url', 'url','image_url','VIN','size','id','county','description'] , axis=1)"
      ],
      "execution_count": 7,
      "outputs": []
    },
    {
      "cell_type": "code",
      "metadata": {
        "colab": {
          "base_uri": "https://localhost:8080/"
        },
        "id": "pfHcfgrxvXg0",
        "outputId": "a15b2610-d251-46db-9631-5994a7c4468e"
      },
      "source": [
        "dataset.shape"
      ],
      "execution_count": 8,
      "outputs": [
        {
          "output_type": "execute_result",
          "data": {
            "text/plain": [
              "(426880, 17)"
            ]
          },
          "metadata": {},
          "execution_count": 8
        }
      ]
    },
    {
      "cell_type": "code",
      "metadata": {
        "colab": {
          "base_uri": "https://localhost:8080/"
        },
        "id": "J0DdgNvzw37T",
        "outputId": "58cb27f8-3880-430b-cc67-ae5aca732899"
      },
      "source": [
        "dataset.isnull().sum()*100/len(dataset)"
      ],
      "execution_count": 9,
      "outputs": [
        {
          "output_type": "execute_result",
          "data": {
            "text/plain": [
              "region           0.000000\n",
              "price            0.000000\n",
              "year             0.282281\n",
              "manufacturer     4.133714\n",
              "model            1.236179\n",
              "condition       40.785232\n",
              "cylinders       41.622470\n",
              "fuel             0.705819\n",
              "odometer         1.030735\n",
              "title_status     1.930753\n",
              "transmission     0.598763\n",
              "drive           30.586347\n",
              "type            21.752717\n",
              "paint_color     30.501078\n",
              "state            0.000000\n",
              "lat              1.534155\n",
              "long             1.534155\n",
              "dtype: float64"
            ]
          },
          "metadata": {},
          "execution_count": 9
        }
      ]
    },
    {
      "cell_type": "markdown",
      "metadata": {
        "id": "I1_Cp9fU0ef6"
      },
      "source": [
        "**Removing the rows in which more than 14 columns have null values.**"
      ]
    },
    {
      "cell_type": "code",
      "metadata": {
        "id": "3508jpNuti5b"
      },
      "source": [
        "dataset=dataset.dropna(thresh = 14, axis = 0)"
      ],
      "execution_count": 10,
      "outputs": []
    },
    {
      "cell_type": "code",
      "metadata": {
        "colab": {
          "base_uri": "https://localhost:8080/"
        },
        "id": "bfjSeLRY4Bgd",
        "outputId": "6e10e459-424f-4a84-a247-5c0d6b6159b1"
      },
      "source": [
        "dataset.isnull().sum()"
      ],
      "execution_count": 11,
      "outputs": [
        {
          "output_type": "execute_result",
          "data": {
            "text/plain": [
              "region               0\n",
              "price                0\n",
              "year               526\n",
              "manufacturer     10972\n",
              "model             2878\n",
              "condition       114154\n",
              "cylinders       113582\n",
              "fuel              1279\n",
              "odometer          2554\n",
              "title_status      6265\n",
              "transmission       776\n",
              "drive            70219\n",
              "type             35406\n",
              "paint_color      69828\n",
              "state                0\n",
              "lat               5116\n",
              "long              5116\n",
              "dtype: int64"
            ]
          },
          "metadata": {},
          "execution_count": 11
        }
      ]
    },
    {
      "cell_type": "code",
      "metadata": {
        "colab": {
          "base_uri": "https://localhost:8080/"
        },
        "id": "Ue409Io7xm9B",
        "outputId": "e073d3a9-a926-4059-c23d-4223a718b941"
      },
      "source": [
        "dataset.shape"
      ],
      "execution_count": 12,
      "outputs": [
        {
          "output_type": "execute_result",
          "data": {
            "text/plain": [
              "(359916, 17)"
            ]
          },
          "metadata": {},
          "execution_count": 12
        }
      ]
    },
    {
      "cell_type": "markdown",
      "metadata": {
        "id": "77lTjjsd0wP3"
      },
      "source": [
        "**We can't get the null values of latitude and longitude from other columns, So we simply remove the null values.**"
      ]
    },
    {
      "cell_type": "code",
      "metadata": {
        "id": "IvJ_qYaU5f1S"
      },
      "source": [
        "dataset = dataset.dropna(subset=['lat','long'])"
      ],
      "execution_count": 13,
      "outputs": []
    },
    {
      "cell_type": "code",
      "metadata": {
        "colab": {
          "base_uri": "https://localhost:8080/"
        },
        "id": "MPDhGVef52Jm",
        "outputId": "50e4317d-46fc-44dd-aa28-35bb37a1e4b4"
      },
      "source": [
        "dataset.isna().sum()"
      ],
      "execution_count": 14,
      "outputs": [
        {
          "output_type": "execute_result",
          "data": {
            "text/plain": [
              "region               0\n",
              "price                0\n",
              "year               526\n",
              "manufacturer     10955\n",
              "model             2874\n",
              "condition       109865\n",
              "cylinders       113569\n",
              "fuel              1279\n",
              "odometer          2554\n",
              "title_status      6265\n",
              "transmission       776\n",
              "drive            70005\n",
              "type             35390\n",
              "paint_color      69818\n",
              "state                0\n",
              "lat                  0\n",
              "long                 0\n",
              "dtype: int64"
            ]
          },
          "metadata": {},
          "execution_count": 14
        }
      ]
    },
    {
      "cell_type": "code",
      "metadata": {
        "colab": {
          "base_uri": "https://localhost:8080/",
          "height": 281
        },
        "id": "IeTgPo4o81md",
        "outputId": "bd308b01-2cdc-4081-caf2-5a53fed9e176"
      },
      "source": [
        "sns.boxplot(y=dataset.odometer )"
      ],
      "execution_count": 15,
      "outputs": [
        {
          "output_type": "execute_result",
          "data": {
            "text/plain": [
              "<matplotlib.axes._subplots.AxesSubplot at 0x7fc9c2013950>"
            ]
          },
          "metadata": {},
          "execution_count": 15
        },
        {
          "output_type": "display_data",
          "data": {
            "image/png": "[encoded data removed]",
            "text/plain": [
              "<Figure size 432x288 with 1 Axes>"
            ]
          },
          "metadata": {
            "needs_background": "light"
          }
        }
      ]
    },
    {
      "cell_type": "code",
      "metadata": {
        "colab": {
          "base_uri": "https://localhost:8080/",
          "height": 281
        },
        "id": "ddmpQ6x29MZy",
        "outputId": "b8456989-c82f-46e2-9ede-b2ff2b17a9be"
      },
      "source": [
        "sns.boxplot(y=dataset.price )"
      ],
      "execution_count": 16,
      "outputs": [
        {
          "output_type": "execute_result",
          "data": {
            "text/plain": [
              "<matplotlib.axes._subplots.AxesSubplot at 0x7fc9c14a10d0>"
            ]
          },
          "metadata": {},
          "execution_count": 16
        },
        {
          "output_type": "display_data",
          "data": {
            "image/png": "[encoded data removed]",
            "text/plain": [
              "<Figure size 432x288 with 1 Axes>"
            ]
          },
          "metadata": {
            "needs_background": "light"
          }
        }
      ]
    },
    {
      "cell_type": "markdown",
      "metadata": {
        "id": "Q9tf8T-X2-Ch"
      },
      "source": [
        "**As from the above box plots, we can see that there are outliers present in the odometer and price columns. So, We simply have to remove those outliers.**"
      ]
    },
    {
      "cell_type": "code",
      "metadata": {
        "id": "_j2hb45ekupY"
      },
      "source": [
        "#here second hand car price can't be zero, and we have to remove those outliers.\n",
        "dataset = dataset.drop(dataset[dataset[\"price\"]==0.0].index)"
      ],
      "execution_count": 17,
      "outputs": []
    },
    {
      "cell_type": "code",
      "metadata": {
        "id": "k868o7dl-kqT"
      },
      "source": [
        "dataset=dataset[(dataset.price < dataset.price.quantile(.995)) & (dataset.price > dataset.price.quantile(.005))]"
      ],
      "execution_count": 18,
      "outputs": []
    },
    {
      "cell_type": "code",
      "metadata": {
        "colab": {
          "base_uri": "https://localhost:8080/",
          "height": 270
        },
        "id": "jd61026jLiwA",
        "outputId": "cffc1441-7e93-4300-8c84-8b551298efbe"
      },
      "source": [
        "sns.boxplot(y=dataset.price )"
      ],
      "execution_count": 19,
      "outputs": [
        {
          "output_type": "execute_result",
          "data": {
            "text/plain": [
              "<matplotlib.axes._subplots.AxesSubplot at 0x7fc9c0fcad50>"
            ]
          },
          "metadata": {},
          "execution_count": 19
        },
        {
          "output_type": "display_data",
          "data": {
            "image/png": "[encoded data removed]",
            "text/plain": [
              "<Figure size 432x288 with 1 Axes>"
            ]
          },
          "metadata": {
            "needs_background": "light"
          }
        }
      ]
    },
    {
      "cell_type": "code",
      "metadata": {
        "id": "ytpH9inOzvOk"
      },
      "source": [
        "#second hand car can't have zero odometer value, So we have to remove those outliers.\n",
        "dataset = dataset.drop(dataset[dataset[\"odometer\"]==0.0].index)"
      ],
      "execution_count": 20,
      "outputs": []
    },
    {
      "cell_type": "code",
      "metadata": {
        "id": "pm5iCxYE-7FR"
      },
      "source": [
        "dataset = dataset[(dataset.odometer<dataset.odometer.quantile(.995))& (dataset.odometer>dataset.odometer.quantile(.005))]"
      ],
      "execution_count": 21,
      "outputs": []
    },
    {
      "cell_type": "code",
      "metadata": {
        "colab": {
          "base_uri": "https://localhost:8080/",
          "height": 282
        },
        "id": "T4H8Q8XB_imE",
        "outputId": "55b60e0e-ea4d-479f-d4da-f50f9fc66deb"
      },
      "source": [
        "dataset.boxplot('odometer')"
      ],
      "execution_count": 22,
      "outputs": [
        {
          "output_type": "execute_result",
          "data": {
            "text/plain": [
              "<matplotlib.axes._subplots.AxesSubplot at 0x7fc9c0f64090>"
            ]
          },
          "metadata": {},
          "execution_count": 22
        },
        {
          "output_type": "display_data",
          "data": {
            "image/png": "[encoded data removed]",
            "text/plain": [
              "<Figure size 432x288 with 1 Axes>"
            ]
          },
          "metadata": {
            "needs_background": "light"
          }
        }
      ]
    },
    {
      "cell_type": "code",
      "metadata": {
        "colab": {
          "base_uri": "https://localhost:8080/"
        },
        "id": "whHXs5nD_mQl",
        "outputId": "b208b6e7-a01a-4c9a-daca-7919452ece9b"
      },
      "source": [
        "dataset.isna().sum()"
      ],
      "execution_count": 23,
      "outputs": [
        {
          "output_type": "execute_result",
          "data": {
            "text/plain": [
              "region               0\n",
              "price                0\n",
              "year               466\n",
              "manufacturer      9706\n",
              "model             2345\n",
              "condition        93071\n",
              "cylinders       100509\n",
              "fuel              1239\n",
              "odometer             0\n",
              "title_status      5757\n",
              "transmission       692\n",
              "drive            64718\n",
              "type             31845\n",
              "paint_color      59938\n",
              "state                0\n",
              "lat                  0\n",
              "long                 0\n",
              "dtype: int64"
            ]
          },
          "metadata": {},
          "execution_count": 23
        }
      ]
    },
    {
      "cell_type": "markdown",
      "metadata": {
        "id": "Uz0-bFRxzMlq"
      },
      "source": [
        "  **Filling the null values of fuel with the most frequent value of the  column.**"
      ]
    },
    {
      "cell_type": "code",
      "metadata": {
        "colab": {
          "base_uri": "https://localhost:8080/"
        },
        "id": "tK85XLTJ_rMV",
        "outputId": "63191d80-ffbf-44bc-f404-91e70c1983b1"
      },
      "source": [
        "dataset.fuel.value_counts()"
      ],
      "execution_count": 24,
      "outputs": [
        {
          "output_type": "execute_result",
          "data": {
            "text/plain": [
              "gas         270389\n",
              "other        25745\n",
              "diesel       18901\n",
              "hybrid        4170\n",
              "electric      1412\n",
              "Name: fuel, dtype: int64"
            ]
          },
          "metadata": {},
          "execution_count": 24
        }
      ]
    },
    {
      "cell_type": "code",
      "metadata": {
        "id": "6KRXJQRxAC4n"
      },
      "source": [
        "dataset['fuel'] = dataset['fuel'].fillna(value='gas') # here most frequent value is gas "
      ],
      "execution_count": 25,
      "outputs": []
    },
    {
      "cell_type": "code",
      "metadata": {
        "colab": {
          "base_uri": "https://localhost:8080/"
        },
        "id": "-phpSsXoAU8G",
        "outputId": "6fc1d771-9429-4a2d-c30d-91ec2a9c3be5"
      },
      "source": [
        "dataset.isna().sum()"
      ],
      "execution_count": 26,
      "outputs": [
        {
          "output_type": "execute_result",
          "data": {
            "text/plain": [
              "region               0\n",
              "price                0\n",
              "year               466\n",
              "manufacturer      9706\n",
              "model             2345\n",
              "condition        93071\n",
              "cylinders       100509\n",
              "fuel                 0\n",
              "odometer             0\n",
              "title_status      5757\n",
              "transmission       692\n",
              "drive            64718\n",
              "type             31845\n",
              "paint_color      59938\n",
              "state                0\n",
              "lat                  0\n",
              "long                 0\n",
              "dtype: int64"
            ]
          },
          "metadata": {},
          "execution_count": 26
        }
      ]
    },
    {
      "cell_type": "markdown",
      "metadata": {
        "id": "I2hgNdK5y350"
      },
      "source": [
        "\n",
        "**Filling the null values of Transmission with the most frequent value of the transmission column.**\n",
        "\n",
        "\n",
        "\n"
      ]
    },
    {
      "cell_type": "code",
      "metadata": {
        "colab": {
          "base_uri": "https://localhost:8080/"
        },
        "id": "hPqPLn5mAXaP",
        "outputId": "5e95831b-5b15-48da-9333-427ecefc86f5"
      },
      "source": [
        "dataset['transmission'].value_counts()"
      ],
      "execution_count": 27,
      "outputs": [
        {
          "output_type": "execute_result",
          "data": {
            "text/plain": [
              "automatic    243505\n",
              "other         59636\n",
              "manual        18023\n",
              "Name: transmission, dtype: int64"
            ]
          },
          "metadata": {},
          "execution_count": 27
        }
      ]
    },
    {
      "cell_type": "code",
      "metadata": {
        "id": "_9n8rDJnAd_K"
      },
      "source": [
        "dataset['transmission'] = dataset['transmission'].fillna(value='automatic') # here most frequent value is automatic"
      ],
      "execution_count": 28,
      "outputs": []
    },
    {
      "cell_type": "code",
      "metadata": {
        "colab": {
          "base_uri": "https://localhost:8080/"
        },
        "id": "z4ske3W6AoOA",
        "outputId": "5040b667-b7c0-475c-c53b-7c44dc93d325"
      },
      "source": [
        "dataset.isna().sum()"
      ],
      "execution_count": 29,
      "outputs": [
        {
          "output_type": "execute_result",
          "data": {
            "text/plain": [
              "region               0\n",
              "price                0\n",
              "year               466\n",
              "manufacturer      9706\n",
              "model             2345\n",
              "condition        93071\n",
              "cylinders       100509\n",
              "fuel                 0\n",
              "odometer             0\n",
              "title_status      5757\n",
              "transmission         0\n",
              "drive            64718\n",
              "type             31845\n",
              "paint_color      59938\n",
              "state                0\n",
              "lat                  0\n",
              "long                 0\n",
              "dtype: int64"
            ]
          },
          "metadata": {},
          "execution_count": 29
        }
      ]
    },
    {
      "cell_type": "code",
      "metadata": {
        "colab": {
          "base_uri": "https://localhost:8080/",
          "height": 279
        },
        "id": "6eI2rAWQFdK3",
        "outputId": "a5d1aece-cbfd-47c3-d619-3dd85a30e2ca"
      },
      "source": [
        "bx = sns.scatterplot(x=\"year\", y=\"price\", data=dataset)"
      ],
      "execution_count": 30,
      "outputs": [
        {
          "output_type": "display_data",
          "data": {
            "image/png": "[encoded data removed]",
            "text/plain": [
              "<Figure size 432x288 with 1 Axes>"
            ]
          },
          "metadata": {
            "needs_background": "light"
          }
        }
      ]
    },
    {
      "cell_type": "markdown",
      "metadata": {
        "id": "KhN0ONs5x4mR"
      },
      "source": [
        "**As from the above scatter plot we can see that there are very less cars which are manufactured before 1920 which would be considered as outliers, so we simply remove those outliers from the dataset.**"
      ]
    },
    {
      "cell_type": "code",
      "metadata": {
        "id": "8NKtQbOKFf7p"
      },
      "source": [
        "dataset = dataset[(dataset['year']>1920)]"
      ],
      "execution_count": 31,
      "outputs": []
    },
    {
      "cell_type": "code",
      "metadata": {
        "colab": {
          "base_uri": "https://localhost:8080/",
          "height": 282
        },
        "id": "ZSKqRiDvCEFN",
        "outputId": "08224260-2e05-4260-d683-faa88444835d"
      },
      "source": [
        "dataset.boxplot('year')"
      ],
      "execution_count": 32,
      "outputs": [
        {
          "output_type": "execute_result",
          "data": {
            "text/plain": [
              "<matplotlib.axes._subplots.AxesSubplot at 0x7fc9c0e36310>"
            ]
          },
          "metadata": {},
          "execution_count": 32
        },
        {
          "output_type": "display_data",
          "data": {
            "image/png": "[encoded data removed]",
            "text/plain": [
              "<Figure size 432x288 with 1 Axes>"
            ]
          },
          "metadata": {
            "needs_background": "light"
          }
        }
      ]
    },
    {
      "cell_type": "markdown",
      "metadata": {
        "id": "VHO3PpzsyLYT"
      },
      "source": [
        "**Filling the null values of Year column with the mean value of the year.**"
      ]
    },
    {
      "cell_type": "code",
      "metadata": {
        "id": "EHE0aCfbCMHP"
      },
      "source": [
        "dataset['year']=dataset['year'].fillna(value = float(round(dataset.year.mean())))"
      ],
      "execution_count": 33,
      "outputs": []
    },
    {
      "cell_type": "code",
      "metadata": {
        "colab": {
          "base_uri": "https://localhost:8080/"
        },
        "id": "KiB1fF2rC79-",
        "outputId": "b8dde6c4-395f-47f4-946b-b89569fe2f1f"
      },
      "source": [
        "dataset.isna().sum()*100/len(dataset)"
      ],
      "execution_count": 34,
      "outputs": [
        {
          "output_type": "execute_result",
          "data": {
            "text/plain": [
              "region           0.000000\n",
              "price            0.000000\n",
              "year             0.000000\n",
              "manufacturer     2.875092\n",
              "model            0.729352\n",
              "condition       28.814709\n",
              "cylinders       31.274095\n",
              "fuel             0.000000\n",
              "odometer         0.000000\n",
              "title_status     1.791332\n",
              "transmission     0.000000\n",
              "drive           20.136847\n",
              "type             9.908178\n",
              "paint_color     18.649827\n",
              "state            0.000000\n",
              "lat              0.000000\n",
              "long             0.000000\n",
              "dtype: float64"
            ]
          },
          "metadata": {},
          "execution_count": 34
        }
      ]
    },
    {
      "cell_type": "markdown",
      "metadata": {
        "id": "HZMqGpuBxTeb"
      },
      "source": [
        "**As model, title_status, manufacture and type columns have null values which is less then the 10% of the dataset, we can simply remove those rows.** "
      ]
    },
    {
      "cell_type": "code",
      "metadata": {
        "id": "ozXWmUJSFpgp"
      },
      "source": [
        "dataset=dataset.dropna(subset=['model','title_status','manufacturer','type'])"
      ],
      "execution_count": 35,
      "outputs": []
    },
    {
      "cell_type": "code",
      "metadata": {
        "colab": {
          "base_uri": "https://localhost:8080/"
        },
        "id": "Fq5RjHMZHUkO",
        "outputId": "26381d84-d5e4-42d0-eec4-4e06c905b44e"
      },
      "source": [
        "dataset.isna().sum()*100/len(dataset)"
      ],
      "execution_count": 36,
      "outputs": [
        {
          "output_type": "execute_result",
          "data": {
            "text/plain": [
              "region           0.000000\n",
              "price            0.000000\n",
              "year             0.000000\n",
              "manufacturer     0.000000\n",
              "model            0.000000\n",
              "condition       30.125358\n",
              "cylinders       32.483722\n",
              "fuel             0.000000\n",
              "odometer         0.000000\n",
              "title_status     0.000000\n",
              "transmission     0.000000\n",
              "drive           19.345098\n",
              "type             0.000000\n",
              "paint_color     15.542687\n",
              "state            0.000000\n",
              "lat              0.000000\n",
              "long             0.000000\n",
              "dtype: float64"
            ]
          },
          "metadata": {},
          "execution_count": 36
        }
      ]
    },
    {
      "cell_type": "markdown",
      "metadata": {
        "id": "J3eSEUqBwCbd"
      },
      "source": [
        "**Data Cleaning for cylinders Column:**\n",
        "\n",
        "Here, I can see that cylinder column type is object, So I got the numeric value of cylinders and then convert the column datatype to numeric and then handle the null values using forward fill method."
      ]
    },
    {
      "cell_type": "code",
      "metadata": {
        "colab": {
          "base_uri": "https://localhost:8080/"
        },
        "id": "OtUMUKhjOud6",
        "outputId": "9c984516-63a7-4275-c6b9-2693c7b7dd4d"
      },
      "source": [
        "dataset.cylinders.dtype # here the cylinder column type is object, So we need to convert into numerical value."
      ],
      "execution_count": 37,
      "outputs": [
        {
          "output_type": "execute_result",
          "data": {
            "text/plain": [
              "dtype('O')"
            ]
          },
          "metadata": {},
          "execution_count": 37
        }
      ]
    },
    {
      "cell_type": "code",
      "metadata": {
        "colab": {
          "base_uri": "https://localhost:8080/"
        },
        "id": "_UER-RqIFQpm",
        "outputId": "9ac0a602-567b-4fc5-e127-178027c0efff"
      },
      "source": [
        "dataset.cylinders.value_counts()"
      ],
      "execution_count": 38,
      "outputs": [
        {
          "output_type": "execute_result",
          "data": {
            "text/plain": [
              "6 cylinders     72010\n",
              "4 cylinders     58202\n",
              "8 cylinders     51240\n",
              "5 cylinders      1294\n",
              "10 cylinders      818\n",
              "other             635\n",
              "3 cylinders       399\n",
              "12 cylinders       84\n",
              "Name: cylinders, dtype: int64"
            ]
          },
          "metadata": {},
          "execution_count": 38
        }
      ]
    },
    {
      "cell_type": "code",
      "metadata": {
        "id": "RjCGaPMXOzBg"
      },
      "source": [
        "dataset.cylinders = dataset.cylinders.apply(lambda x : str(x).replace('cylinders','').strip())"
      ],
      "execution_count": 39,
      "outputs": []
    },
    {
      "cell_type": "code",
      "metadata": {
        "colab": {
          "base_uri": "https://localhost:8080/"
        },
        "id": "Cr-GgHofPBzF",
        "outputId": "4f08bf86-ed57-4d1b-811b-685113a30806"
      },
      "source": [
        "dataset.cylinders.value_counts()"
      ],
      "execution_count": 40,
      "outputs": [
        {
          "output_type": "execute_result",
          "data": {
            "text/plain": [
              "nan      88855\n",
              "6        72010\n",
              "4        58202\n",
              "8        51240\n",
              "5         1294\n",
              "10         818\n",
              "other      635\n",
              "3          399\n",
              "12          84\n",
              "Name: cylinders, dtype: int64"
            ]
          },
          "metadata": {},
          "execution_count": 40
        }
      ]
    },
    {
      "cell_type": "code",
      "metadata": {
        "id": "rbuP5birPDXb"
      },
      "source": [
        "dataset.cylinders = pd.to_numeric(dataset.cylinders, errors = 'coerce')"
      ],
      "execution_count": 41,
      "outputs": []
    },
    {
      "cell_type": "code",
      "metadata": {
        "id": "pzYYzeuEC-yG"
      },
      "source": [
        "dataset['cylinders'] = dataset['cylinders'].fillna(method='ffill') # filling the missing value using forward fill method"
      ],
      "execution_count": 42,
      "outputs": []
    },
    {
      "cell_type": "code",
      "metadata": {
        "colab": {
          "base_uri": "https://localhost:8080/"
        },
        "id": "mfdLAPwq2S3H",
        "outputId": "a92c2de9-7fe1-4d26-dc28-7fcbb459c896"
      },
      "source": [
        "dataset.cylinders.value_counts()"
      ],
      "execution_count": 43,
      "outputs": [
        {
          "output_type": "execute_result",
          "data": {
            "text/plain": [
              "6.0     111723\n",
              "4.0      81024\n",
              "8.0      77217\n",
              "5.0       1815\n",
              "10.0      1107\n",
              "3.0        535\n",
              "12.0       116\n",
              "Name: cylinders, dtype: int64"
            ]
          },
          "metadata": {},
          "execution_count": 43
        }
      ]
    },
    {
      "cell_type": "code",
      "metadata": {
        "colab": {
          "base_uri": "https://localhost:8080/"
        },
        "id": "j5BtEpy6PQ4h",
        "outputId": "f79a693d-60b4-4bca-beba-3483056596ff"
      },
      "source": [
        "dataset.isna().sum()"
      ],
      "execution_count": 44,
      "outputs": [
        {
          "output_type": "execute_result",
          "data": {
            "text/plain": [
              "region              0\n",
              "price               0\n",
              "year                0\n",
              "manufacturer        0\n",
              "model               0\n",
              "condition       82404\n",
              "cylinders           0\n",
              "fuel                0\n",
              "odometer            0\n",
              "title_status        0\n",
              "transmission        0\n",
              "drive           52916\n",
              "type                0\n",
              "paint_color     42515\n",
              "state               0\n",
              "lat                 0\n",
              "long                0\n",
              "dtype: int64"
            ]
          },
          "metadata": {},
          "execution_count": 44
        }
      ]
    },
    {
      "cell_type": "markdown",
      "metadata": {
        "id": "g0TzMb3zNt1E"
      },
      "source": [
        "**Data Cleaning for Condition Column:**\n",
        "\n",
        "At First, I calculated the mean odometer value for each condition and from that I tried to fill the details of condition value by using the mean value of odometer value."
      ]
    },
    {
      "cell_type": "code",
      "metadata": {
        "colab": {
          "base_uri": "https://localhost:8080/"
        },
        "id": "7KQG-BdA2gYl",
        "outputId": "f377249b-0ecf-402c-b843-c6771fc6b4a8"
      },
      "source": [
        "dataset.condition.value_counts()"
      ],
      "execution_count": 45,
      "outputs": [
        {
          "output_type": "execute_result",
          "data": {
            "text/plain": [
              "good         102938\n",
              "excellent     68421\n",
              "like new      14523\n",
              "fair           4382\n",
              "new             509\n",
              "salvage         360\n",
              "Name: condition, dtype: int64"
            ]
          },
          "metadata": {},
          "execution_count": 45
        }
      ]
    },
    {
      "cell_type": "code",
      "metadata": {
        "id": "gxRSeONqPS5k"
      },
      "source": [
        "excellent_odometer_mean = dataset[dataset['condition'] == 'excellent']['odometer'].mean()\n",
        "good_odometer_mean = dataset[dataset['condition'] == 'good']['odometer'].mean()\n",
        "like_new_odometer_mean = dataset[dataset['condition'] == 'like new']['odometer'].mean()\n",
        "salvage_odometer_mean = dataset[dataset['condition'] == 'salvage']['odometer'].mean()\n",
        "fair_odometer_mean = dataset[dataset['condition'] == 'fair']['odometer'].mean()"
      ],
      "execution_count": 46,
      "outputs": []
    },
    {
      "cell_type": "code",
      "metadata": {
        "colab": {
          "base_uri": "https://localhost:8080/"
        },
        "id": "r67tt0ZnSwcc",
        "outputId": "6d73d5b5-1678-460b-be8b-db5defeb20f1"
      },
      "source": [
        "print('Like new average odometer:', round( like_new_odometer_mean,2))\n",
        "print('Excellent average odometer:', round( excellent_odometer_mean,2))\n",
        "print('Good average odometer:', round( good_odometer_mean,2))\n",
        "print('Salvage average odometer:', round( salvage_odometer_mean,2))\n",
        "print('Fair average odometer:', round( fair_odometer_mean,2))"
      ],
      "execution_count": 47,
      "outputs": [
        {
          "output_type": "stream",
          "name": "stdout",
          "text": [
            "Like new average odometer: 83348.86\n",
            "Excellent average odometer: 107712.59\n",
            "Good average odometer: 69829.07\n",
            "Salvage average odometer: 147176.27\n",
            "Fair average odometer: 164972.39\n"
          ]
        }
      ]
    },
    {
      "cell_type": "markdown",
      "metadata": {
        "id": "m563ZNvNS9O_"
      },
      "source": [
        "If the car manufacturing year is greater than 2019 then we assume that car condition is new."
      ]
    },
    {
      "cell_type": "code",
      "metadata": {
        "id": "Nt5Oyun8Ujaf"
      },
      "source": [
        "dataset.loc[dataset.year>=2019, 'condition'] = dataset.loc[dataset.year>=2019, 'condition'].fillna('new')"
      ],
      "execution_count": 48,
      "outputs": []
    },
    {
      "cell_type": "markdown",
      "metadata": {
        "id": "NWzXHIrgTMpg"
      },
      "source": [
        " \n",
        "If the odometer value of a car is \n",
        "\n",
        "*   less than the mean odometer value of the cars whose condition is specified with 'like new' then fill the null values with 'like new'. \n",
        "*   greater than the mean odometer value of the cars whose condition is specified with 'fair' then fill the null values with 'fair'.\n",
        "*   greater than the mean odometer value of the cars whose condition is specified with 'good' and less than the mean odometer value of the cars whose condition is specified with 'excellent' then fill the null values with 'excellent'.\n",
        "*   greater than the mean odometer value of the cars whose condition is specified with 'like new' and less than the mean odometer value of the cars whose condition is specified with 'good' then fill the null values with 'good'.\n",
        "*   greater than the mean odometer value of the cars whose condition is specified with 'good' and less than the mean odometer value of the cars whose condition is specified with 'fair' then fill the null values with 'salvage'.\n",
        "\n",
        "\n",
        "\n"
      ]
    },
    {
      "cell_type": "code",
      "metadata": {
        "id": "oLPxgnGdUz_z"
      },
      "source": [
        "dataset.loc[dataset['odometer'] <= like_new_odometer_mean, 'condition'] = dataset.loc[dataset['odometer'] <= like_new_odometer_mean, 'condition'].fillna('like new')\n",
        "\n",
        "dataset.loc[dataset['odometer'] >= fair_odometer_mean, 'condition'] = dataset.loc[dataset['odometer'] >= fair_odometer_mean, 'condition'].fillna('fair')\n",
        "\n",
        "dataset.loc[((dataset['odometer'] > good_odometer_mean) & \n",
        "       (dataset['odometer'] <= excellent_odometer_mean)), 'condition'] = dataset.loc[((dataset['odometer'] > good_odometer_mean) & \n",
        "       (dataset['odometer'] <= excellent_odometer_mean)), 'condition'].fillna('excellent')\n",
        "\n",
        "dataset.loc[((dataset['odometer'] > like_new_odometer_mean) & \n",
        "       (dataset['odometer'] <= good_odometer_mean)), 'condition'] = dataset.loc[((dataset['odometer'] > like_new_odometer_mean) & \n",
        "       (dataset['odometer'] <= good_odometer_mean)), 'condition'].fillna('good')\n",
        "\n",
        "dataset.loc[((dataset['odometer'] > good_odometer_mean) & \n",
        "       (dataset['odometer'] <= fair_odometer_mean)), 'condition'] = dataset.loc[((dataset['odometer'] > good_odometer_mean) & \n",
        "       (dataset['odometer'] <= fair_odometer_mean)), 'condition'].fillna('salvage')"
      ],
      "execution_count": 49,
      "outputs": []
    },
    {
      "cell_type": "code",
      "metadata": {
        "colab": {
          "base_uri": "https://localhost:8080/"
        },
        "id": "vejACBqgWH6E",
        "outputId": "58d11fe6-c1bd-4c56-a4a2-989314174c7f"
      },
      "source": [
        "dataset.isna().sum()*100/len(dataset)"
      ],
      "execution_count": 50,
      "outputs": [
        {
          "output_type": "execute_result",
          "data": {
            "text/plain": [
              "region           0.000000\n",
              "price            0.000000\n",
              "year             0.000000\n",
              "manufacturer     0.000000\n",
              "model            0.000000\n",
              "condition        0.000000\n",
              "cylinders        0.000000\n",
              "fuel             0.000000\n",
              "odometer         0.000000\n",
              "title_status     0.000000\n",
              "transmission     0.000000\n",
              "drive           19.345098\n",
              "type             0.000000\n",
              "paint_color     15.542687\n",
              "state            0.000000\n",
              "lat              0.000000\n",
              "long             0.000000\n",
              "dtype: float64"
            ]
          },
          "metadata": {},
          "execution_count": 50
        }
      ]
    },
    {
      "cell_type": "markdown",
      "metadata": {
        "id": "9j4-jUsbVQxW"
      },
      "source": [
        "**For paint_color, drive column, we can fill the missing value using forward fill method as we don't have any other way to get the missing data.**"
      ]
    },
    {
      "cell_type": "code",
      "metadata": {
        "id": "1JTkk4beWR76"
      },
      "source": [
        "dataset['paint_color'] = dataset['paint_color'].fillna(method='ffill')\n",
        "dataset['drive'] = dataset['drive'].fillna(method='ffill')"
      ],
      "execution_count": 51,
      "outputs": []
    },
    {
      "cell_type": "code",
      "metadata": {
        "colab": {
          "base_uri": "https://localhost:8080/"
        },
        "id": "ujj6F_XwW9GQ",
        "outputId": "f6528fb6-1278-4b6d-b5c5-5094f1d3e9cd"
      },
      "source": [
        "dataset.isna().sum()"
      ],
      "execution_count": 52,
      "outputs": [
        {
          "output_type": "execute_result",
          "data": {
            "text/plain": [
              "region          0\n",
              "price           0\n",
              "year            0\n",
              "manufacturer    0\n",
              "model           0\n",
              "condition       0\n",
              "cylinders       0\n",
              "fuel            0\n",
              "odometer        0\n",
              "title_status    0\n",
              "transmission    0\n",
              "drive           4\n",
              "type            0\n",
              "paint_color     0\n",
              "state           0\n",
              "lat             0\n",
              "long            0\n",
              "dtype: int64"
            ]
          },
          "metadata": {},
          "execution_count": 52
        }
      ]
    },
    {
      "cell_type": "code",
      "metadata": {
        "id": "h2l5q-SryJwC"
      },
      "source": [
        "dataset=dataset.dropna(subset=['drive'])"
      ],
      "execution_count": 53,
      "outputs": []
    },
    {
      "cell_type": "code",
      "metadata": {
        "colab": {
          "base_uri": "https://localhost:8080/"
        },
        "id": "GVDx1NYoyRVC",
        "outputId": "c91a19d7-cb28-493e-e668-b9f06ce693b8"
      },
      "source": [
        "dataset.isna().sum()"
      ],
      "execution_count": 54,
      "outputs": [
        {
          "output_type": "execute_result",
          "data": {
            "text/plain": [
              "region          0\n",
              "price           0\n",
              "year            0\n",
              "manufacturer    0\n",
              "model           0\n",
              "condition       0\n",
              "cylinders       0\n",
              "fuel            0\n",
              "odometer        0\n",
              "title_status    0\n",
              "transmission    0\n",
              "drive           0\n",
              "type            0\n",
              "paint_color     0\n",
              "state           0\n",
              "lat             0\n",
              "long            0\n",
              "dtype: int64"
            ]
          },
          "metadata": {},
          "execution_count": 54
        }
      ]
    },
    {
      "cell_type": "markdown",
      "metadata": {
        "id": "_hb4yV9BW6xs"
      },
      "source": [
        "\n",
        "\n",
        "### **Data visualization**"
      ]
    },
    {
      "cell_type": "code",
      "metadata": {
        "colab": {
          "base_uri": "https://localhost:8080/",
          "height": 459
        },
        "id": "5U9cul7-dtp1",
        "outputId": "ce9579b4-3127-4c0a-baba-3ad491a4d925"
      },
      "source": [
        "plt.figure(figsize=(10,6))\n",
        "ax = sns.barplot(x='manufacturer', y='price', data=dataset);\n",
        "ax.set_xticklabels(ax.get_xticklabels(), rotation=90, ha=\"right\",fontsize=8);\n",
        "plt.title(\"Car Manufacturer vs Avergae Price\");"
      ],
      "execution_count": 55,
      "outputs": [
        {
          "output_type": "display_data",
          "data": {
            "image/png": "[encoded data removed]",
            "text/plain": [
              "<Figure size 720x432 with 1 Axes>"
            ]
          },
          "metadata": {
            "needs_background": "light"
          }
        }
      ]
    },
    {
      "cell_type": "markdown",
      "metadata": {
        "id": "Ng-n6p2KPdT_"
      },
      "source": [
        "**As we can see from the above chart, various manufactures have various prices of cars and the maximum average price is for Aston-Martin.**"
      ]
    },
    {
      "cell_type": "code",
      "metadata": {
        "colab": {
          "base_uri": "https://localhost:8080/",
          "height": 862
        },
        "id": "Gc905ZGAfqiW",
        "outputId": "9651878c-e4b0-4d36-b3f8-5dcc17e8eacb"
      },
      "source": [
        "pie = ['transmission','fuel','condition','cylinders']\n",
        "\n",
        "fig = plt.figure(figsize = (15,15))\n",
        "axes = 220\n",
        "for p in pie:\n",
        "    axes += 1\n",
        "    fig.add_subplot(axes)\n",
        "    plt.pie(dataset[p].value_counts(), labels=dataset[p].unique(),autopct='%1.1f%%', shadow=True, startangle=45);\n",
        "    plt.title(p.upper())\n",
        "plt.show()"
      ],
      "execution_count": 56,
      "outputs": [
        {
          "output_type": "display_data",
          "data": {
            "image/png": "[encoded data removed]",
            "text/plain": [
              "<Figure size 1080x1080 with 4 Axes>"
            ]
          },
          "metadata": {}
        }
      ]
    },
    {
      "cell_type": "markdown",
      "metadata": {
        "id": "sEdnsufnPxsa"
      },
      "source": [
        "From the above pie charts we can conclude that\n",
        "\n",
        "*   In the dataset there are 74.2% automatic cars, 20.9% other and 4.9% manual cars.\n",
        "*   In the dataset there are 84.1% gas cars, 8.9% other and 5.2% diesel cars, 1.4% hydrid and 0.5% electric cars.\n",
        "\n",
        "\n",
        "*   In the dataset there are  37.5% cars in excellent condition, 29.9% cars in good condition, 16.7% cars in fair condition, 7.8% cars in like new condition, 4.5% cars in new condition and 3.6% cars in salvage condition.\n",
        "*   In the dataset there are  40.8% gas 6 cylinder cars, 29.8% 8 cylinder cars  and 28.2% 4 cylinder cars."
      ]
    },
    {
      "cell_type": "code",
      "metadata": {
        "colab": {
          "base_uri": "https://localhost:8080/",
          "height": 596
        },
        "id": "GXWRBxeTf3pJ",
        "outputId": "d6538824-421c-4664-84c9-3be3cd39e7e1"
      },
      "source": [
        "manufacturers_top10 = dataset['manufacturer'].value_counts().iloc[:10]\n",
        "manufacturers = pd.DataFrame({'manufacturer': manufacturers_top10.index, 'count': manufacturers_top10.values})\n",
        "plt.figure(figsize=(15,10))\n",
        "ax = sns.barplot(y='manufacturer',x='count',data=manufacturers, order=manufacturers['manufacturer']);\n",
        "ax.set_xticklabels(ax.get_xticklabels(), rotation=90, ha=\"right\",fontsize=6);"
      ],
      "execution_count": 57,
      "outputs": [
        {
          "output_type": "display_data",
          "data": {
            "image/png": "[encoded data removed]",
            "text/plain": [
              "<Figure size 1080x720 with 1 Axes>"
            ]
          },
          "metadata": {
            "needs_background": "light"
          }
        }
      ]
    },
    {
      "cell_type": "markdown",
      "metadata": {
        "id": "qrTavZ_8SdXZ"
      },
      "source": [
        "**As from the above barchart we can conclude that highest ford cars are present in the dataset.**"
      ]
    },
    {
      "cell_type": "code",
      "metadata": {
        "colab": {
          "base_uri": "https://localhost:8080/",
          "height": 617
        },
        "id": "jXufevKugAUa",
        "outputId": "2cd86057-d9f8-44b3-bf7f-5151340a44f0"
      },
      "source": [
        "years_top10 = dataset['year'].value_counts().iloc[:10]\n",
        "years = pd.DataFrame({'year': years_top10.index, 'count': years_top10.values})\n",
        "plt.figure(figsize=(15,10))\n",
        "ax = sns.barplot(x='year',y='count',data=years, order=years['year']);\n",
        "ax.set_xticklabels(ax.get_xticklabels(), rotation=90, ha=\"right\",fontsize=6);"
      ],
      "execution_count": 58,
      "outputs": [
        {
          "output_type": "display_data",
          "data": {
            "image/png": "[encoded data removed]",
            "text/plain": [
              "<Figure size 1080x720 with 1 Axes>"
            ]
          },
          "metadata": {
            "needs_background": "light"
          }
        }
      ]
    },
    {
      "cell_type": "markdown",
      "metadata": {
        "id": "aeUNwaIzS1HO"
      },
      "source": [
        "**From the above barchart we can see that most of the cars are manufactured in 2018.**"
      ]
    },
    {
      "cell_type": "code",
      "metadata": {
        "colab": {
          "base_uri": "https://localhost:8080/",
          "height": 279
        },
        "id": "PAcJErgngJow",
        "outputId": "7cc39c76-4f5f-4196-b1aa-b2f3243555ad"
      },
      "source": [
        "ax = sns.barplot(x=\"condition\", y=\"price\", data=dataset)"
      ],
      "execution_count": 59,
      "outputs": [
        {
          "output_type": "display_data",
          "data": {
            "image/png": "[encoded data removed]",
            "text/plain": [
              "<Figure size 432x288 with 1 Axes>"
            ]
          },
          "metadata": {
            "needs_background": "light"
          }
        }
      ]
    },
    {
      "cell_type": "markdown",
      "metadata": {
        "id": "RIrdocv4S-ld"
      },
      "source": [
        "**As from the Barchart we can see that cars whose condition is new has higher price than compared to other condition cars.**"
      ]
    },
    {
      "cell_type": "code",
      "metadata": {
        "colab": {
          "base_uri": "https://localhost:8080/",
          "height": 698
        },
        "id": "F4XOK8q5CAJz",
        "outputId": "13f65168-d74b-4fc6-d8d2-df45c123ac91"
      },
      "source": [
        "plt.figure(figsize=(15,10))\n",
        "\n",
        "region_top10 = dataset['region'].value_counts().iloc[:10]\n",
        "regions = pd.DataFrame({'region': region_top10.index, 'count': region_top10.values})\n",
        "\n",
        "ax = sns.barplot(x='region',y='count',data=regions, order=regions['region']);\n",
        "ax.set_xticklabels(ax.get_xticklabels(), rotation=90, ha=\"right\",fontsize=10);"
      ],
      "execution_count": 60,
      "outputs": [
        {
          "output_type": "display_data",
          "data": {
            "image/png": "[encoded data removed]",
            "text/plain": [
              "<Figure size 1080x720 with 1 Axes>"
            ]
          },
          "metadata": {
            "needs_background": "light"
          }
        }
      ]
    },
    {
      "cell_type": "markdown",
      "metadata": {
        "id": "oJEdDpSeTOKo"
      },
      "source": [
        "**As from the above chart we can see that Columbus holds the first rank in having second-hand cars compared to other regions.**"
      ]
    },
    {
      "cell_type": "code",
      "metadata": {
        "colab": {
          "base_uri": "https://localhost:8080/",
          "height": 386
        },
        "id": "rywAuKi-gRxd",
        "outputId": "bcf00907-d9f5-4ef4-d3dc-2a97dded987e"
      },
      "source": [
        "sns.catplot(x=\"cylinders\", y=\"price\",kind=\"violin\", data=dataset)"
      ],
      "execution_count": 61,
      "outputs": [
        {
          "output_type": "execute_result",
          "data": {
            "text/plain": [
              "<seaborn.axisgrid.FacetGrid at 0x7fc9bf00b6d0>"
            ]
          },
          "metadata": {},
          "execution_count": 61
        },
        {
          "output_type": "display_data",
          "data": {
            "image/png": "[encoded data removed]",
            "text/plain": [
              "<Figure size 360x360 with 1 Axes>"
            ]
          },
          "metadata": {
            "needs_background": "light"
          }
        }
      ]
    },
    {
      "cell_type": "markdown",
      "metadata": {
        "id": "lQBH1yDBTheA"
      },
      "source": [
        "**From the above graph we can see that various price difference compared to the different cylinder numbers.**"
      ]
    },
    {
      "cell_type": "code",
      "metadata": {
        "colab": {
          "base_uri": "https://localhost:8080/",
          "height": 369
        },
        "id": "ni-4SN9nylm1",
        "outputId": "39c98c43-5c33-4a3a-ebe5-e43ba6241ca8"
      },
      "source": [
        "sns.catplot(y=\"paint_color\", x=\"price\",kind=\"bar\", data=dataset);"
      ],
      "execution_count": 62,
      "outputs": [
        {
          "output_type": "display_data",
          "data": {
            "image/png": "[encoded data removed]",
            "text/plain": [
              "<Figure size 360x360 with 1 Axes>"
            ]
          },
          "metadata": {
            "needs_background": "light"
          }
        }
      ]
    },
    {
      "cell_type": "markdown",
      "metadata": {
        "id": "PZeWZaldzi_9"
      },
      "source": [
        "**From the above graph we can see that white colour cars having the higest price in the dataset.**"
      ]
    },
    {
      "cell_type": "markdown",
      "metadata": {
        "id": "ROeHdmfzXPR_"
      },
      "source": [
        "###  **Build and Evaluate the Model**\n"
      ]
    },
    {
      "cell_type": "markdown",
      "metadata": {
        "id": "-4doW5GrT3J9"
      },
      "source": [
        "\n",
        " As machine can't uderstand the non-numeric value, we have to convert non-numeric value to the numeric values which we are doing with the help of lable encoder. "
      ]
    },
    {
      "cell_type": "code",
      "metadata": {
        "id": "uMyfitzFxB-K"
      },
      "source": [
        "labelEncoder = preprocessing.LabelEncoder()"
      ],
      "execution_count": 63,
      "outputs": []
    },
    {
      "cell_type": "code",
      "metadata": {
        "id": "rGS_pL6AYsnI"
      },
      "source": [
        "dataset[['region','manufacturer', 'model', 'condition',\n",
        "       'fuel', 'title_status', 'transmission',\n",
        "       'drive', 'type', 'paint_color', 'state']]=dataset[['region','manufacturer', 'model', 'condition',\n",
        "       'fuel', 'title_status', 'transmission',\n",
        "       'drive', 'type', 'paint_color', 'state']].apply(labelEncoder.fit_transform)"
      ],
      "execution_count": 64,
      "outputs": []
    },
    {
      "cell_type": "code",
      "metadata": {
        "id": "gr7wfxq8ZPiM"
      },
      "source": [
        "y= dataset.price # setting the target variable\n",
        "X= dataset.drop('price',axis=1)"
      ],
      "execution_count": 65,
      "outputs": []
    },
    {
      "cell_type": "markdown",
      "metadata": {
        "id": "x2Di1jptUMB5"
      },
      "source": [
        "**Divide the data into Train and Test**"
      ]
    },
    {
      "cell_type": "code",
      "metadata": {
        "id": "TKBKMRp2ZTzR"
      },
      "source": [
        "X_train, X_test, y_train, y_test = train_test_split(X, y, test_size=0.2, random_state=23)"
      ],
      "execution_count": 66,
      "outputs": []
    },
    {
      "cell_type": "code",
      "metadata": {
        "colab": {
          "base_uri": "https://localhost:8080/"
        },
        "id": "65m9V9BkZXxV",
        "outputId": "6f348ac3-0f1b-4353-d214-be553a6cac35"
      },
      "source": [
        "print (X_train.shape, y_train.shape)\n",
        "print (X_test.shape, y_test.shape)"
      ],
      "execution_count": 67,
      "outputs": [
        {
          "output_type": "stream",
          "name": "stdout",
          "text": [
            "(218826, 16) (218826,)\n",
            "(54707, 16) (54707,)\n"
          ]
        }
      ]
    },
    {
      "cell_type": "markdown",
      "metadata": {
        "id": "Pu4XbR9vUSdx"
      },
      "source": [
        "**Training the Model**"
      ]
    },
    {
      "cell_type": "code",
      "metadata": {
        "id": "uE65-ZdZZv8U",
        "colab": {
          "base_uri": "https://localhost:8080/"
        },
        "outputId": "f6c6b259-acad-4470-a761-a22fcf4f1ae9"
      },
      "source": [
        "regressor = RandomForestRegressor(n_estimators=20, random_state=0)\n",
        "regressor.fit(X_train, y_train)"
      ],
      "execution_count": 68,
      "outputs": [
        {
          "output_type": "execute_result",
          "data": {
            "text/plain": [
              "RandomForestRegressor(bootstrap=True, ccp_alpha=0.0, criterion='mse',\n",
              "                      max_depth=None, max_features='auto', max_leaf_nodes=None,\n",
              "                      max_samples=None, min_impurity_decrease=0.0,\n",
              "                      min_impurity_split=None, min_samples_leaf=1,\n",
              "                      min_samples_split=2, min_weight_fraction_leaf=0.0,\n",
              "                      n_estimators=20, n_jobs=None, oob_score=False,\n",
              "                      random_state=0, verbose=0, warm_start=False)"
            ]
          },
          "metadata": {},
          "execution_count": 68
        }
      ]
    },
    {
      "cell_type": "markdown",
      "metadata": {
        "id": "MImI53hDUbjH"
      },
      "source": [
        "**Testing the trained model**"
      ]
    },
    {
      "cell_type": "code",
      "metadata": {
        "id": "qZCwjJPKUXns"
      },
      "source": [
        "y_pred = regressor.predict(X_test)"
      ],
      "execution_count": 69,
      "outputs": []
    },
    {
      "cell_type": "markdown",
      "metadata": {
        "id": "NE71GPv8UV1e"
      },
      "source": [
        "**Performance of the model**"
      ]
    },
    {
      "cell_type": "code",
      "metadata": {
        "colab": {
          "base_uri": "https://localhost:8080/"
        },
        "id": "f2LaacvScPel",
        "outputId": "6e930462-86e9-4096-cac0-2bb4d6c25459"
      },
      "source": [
        "print('Mean Absolute Error:', round(metrics.mean_absolute_error(y_test, y_pred),2))\n",
        "print('Mean Squared Error:', round(metrics.mean_squared_error(y_test, y_pred),2))\n",
        "print('Root Mean Squared Error:', round(np.sqrt(metrics.mean_squared_error(y_test, y_pred)),2))\n",
        "print('Accuracy: ',regressor.score(X_test,y_test)*100)"
      ],
      "execution_count": 70,
      "outputs": [
        {
          "output_type": "stream",
          "name": "stdout",
          "text": [
            "Mean Absolute Error: 2318.05\n",
            "Mean Squared Error: 20803096.23\n",
            "Root Mean Squared Error: 4561.04\n",
            "Accuracy:  88.87914737461668\n"
          ]
        }
      ]
    },
    {
      "cell_type": "markdown",
      "metadata": {
        "id": "AJwDubkkv0ic"
      },
      "source": [
        "**References:**\n",
        "\n",
        "\n",
        "*   https://www.youtube.com/watch?v=4yI3vVe0Jos&ab_channel=KenJee\n",
        "*   https://github.com/PlayingNumbers/fundamentals/blob/master/Data_Cleaning.py\n",
        "\n",
        "\n",
        "*   https://www.kaggle.com/austinreese/craigslist-carstrucks-data/code?datasetId=62920&sortBy=voteCount\n",
        "\n",
        "*   https://www.kaggle.com/austinreese/craigslist-carstrucks-data/code?datasetId=62920&sortBy=voteCount\n",
        "\n",
        "*   https://www.kaggle.com/msagmj/data-cleaning-eda-used-cars-prediction-86\n",
        "*   https://scikit-learn.org/stable/modules/generated/sklearn.ensemble.RandomForestRegressor.html\n",
        "\n",
        "\n",
        "*   https://www.kaggle.com/austinreese/craigslist-carstrucks-data\n",
        "\n",
        "\n",
        "\n",
        "\n",
        "\n",
        "\n"
      ]
    }
  ]
}