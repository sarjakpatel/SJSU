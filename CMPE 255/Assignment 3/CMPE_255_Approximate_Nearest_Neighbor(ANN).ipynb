{
  "nbformat": 4,
  "nbformat_minor": 0,
  "metadata": {
    "colab": {
      "name": "CMPE 255 Approximate Nearest Neighbor(ANN).ipynb",
      "provenance": [],
      "collapsed_sections": [
        "bxTmGkwBcX8T",
        "zoysIFLmcttE",
        "dvbcp0PBc1VM"
      ],
      "toc_visible": true,
      "authorship_tag": "ABX9TyOueS6Qihc3cKkh1Phk/g/N",
      "include_colab_link": true
    },
    "kernelspec": {
      "name": "python3",
      "display_name": "Python 3"
    },
    "language_info": {
      "name": "python"
    },
    "accelerator": "GPU"
  },
  "cells": [
    {
      "cell_type": "markdown",
      "metadata": {
        "id": "view-in-github",
        "colab_type": "text"
      },
      "source": [
        "<a href=\"https://colab.research.google.com/github/sarjakpatel/SJSU/blob/main/CMPE%20255/Assignment%203/CMPE_255_Approximate_Nearest_Neighbor(ANN).ipynb\" target=\"_parent\"><img src=\"https://colab.research.google.com/assets/colab-badge.svg\" alt=\"Open In Colab\"/></a>"
      ]
    },
    {
      "cell_type": "markdown",
      "metadata": {
        "id": "cwSpk1B4cSCu"
      },
      "source": [
        "# CMPE 255 Approximate Nearest Neighbor(ANN)"
      ]
    },
    {
      "cell_type": "markdown",
      "metadata": {
        "id": "bxTmGkwBcX8T"
      },
      "source": [
        "## Importing the Libraries"
      ]
    },
    {
      "cell_type": "code",
      "metadata": {
        "id": "zkdkpz0b8TyW"
      },
      "source": [
        "import numpy as np\n",
        "from time import time\n",
        "import matplotlib.pyplot as plt\n",
        "from sklearn.datasets import load_digits"
      ],
      "execution_count": 149,
      "outputs": []
    },
    {
      "cell_type": "code",
      "metadata": {
        "id": "Ml-8ApEPcb8i",
        "colab": {
          "base_uri": "https://localhost:8080/"
        },
        "outputId": "7b91019b-880f-47c1-ba65-535a9170fb7e"
      },
      "source": [
        "! pip install nmslib"
      ],
      "execution_count": 150,
      "outputs": [
        {
          "output_type": "stream",
          "name": "stdout",
          "text": [
            "Requirement already satisfied: nmslib in /usr/local/lib/python3.7/dist-packages (2.1.1)\n",
            "Requirement already satisfied: numpy>=1.10.0 in /usr/local/lib/python3.7/dist-packages (from nmslib) (1.19.5)\n",
            "Requirement already satisfied: psutil in /usr/local/lib/python3.7/dist-packages (from nmslib) (5.4.8)\n",
            "Requirement already satisfied: pybind11<2.6.2 in /usr/local/lib/python3.7/dist-packages (from nmslib) (2.6.1)\n"
          ]
        }
      ]
    },
    {
      "cell_type": "code",
      "metadata": {
        "id": "g4SAVDOWcjCL",
        "colab": {
          "base_uri": "https://localhost:8080/"
        },
        "outputId": "7b43fe2d-8648-47cb-ff92-49c958cea6d4"
      },
      "source": [
        "! pip install faiss"
      ],
      "execution_count": 151,
      "outputs": [
        {
          "output_type": "stream",
          "name": "stdout",
          "text": [
            "Requirement already satisfied: faiss in /usr/local/lib/python3.7/dist-packages (1.5.3)\n",
            "Requirement already satisfied: numpy in /usr/local/lib/python3.7/dist-packages (from faiss) (1.19.5)\n"
          ]
        }
      ]
    },
    {
      "cell_type": "code",
      "metadata": {
        "id": "BcRdxpBscjhE",
        "colab": {
          "base_uri": "https://localhost:8080/"
        },
        "outputId": "0b98491d-c25f-41ce-d00d-75188fb1d2ae"
      },
      "source": [
        "!apt-get install libomp-dev"
      ],
      "execution_count": 152,
      "outputs": [
        {
          "output_type": "stream",
          "name": "stdout",
          "text": [
            "Reading package lists... Done\n",
            "Building dependency tree       \n",
            "Reading state information... Done\n",
            "libomp-dev is already the newest version (5.0.1-1).\n",
            "0 upgraded, 0 newly installed, 0 to remove and 37 not upgraded.\n"
          ]
        }
      ]
    },
    {
      "cell_type": "code",
      "metadata": {
        "id": "YPFOxmLmcr3b",
        "colab": {
          "base_uri": "https://localhost:8080/"
        },
        "outputId": "61f589b7-7f20-4707-b2bc-31b29bf0b898"
      },
      "source": [
        "! pip install annoy"
      ],
      "execution_count": 153,
      "outputs": [
        {
          "output_type": "stream",
          "name": "stdout",
          "text": [
            "Requirement already satisfied: annoy in /usr/local/lib/python3.7/dist-packages (1.17.0)\n"
          ]
        }
      ]
    },
    {
      "cell_type": "markdown",
      "metadata": {
        "id": "zoysIFLmcttE"
      },
      "source": [
        "## Loading and Understanding the Dataset"
      ]
    },
    {
      "cell_type": "code",
      "metadata": {
        "colab": {
          "base_uri": "https://localhost:8080/"
        },
        "id": "iqFBrQ1C8YC5",
        "outputId": "44e6a26d-1497-46bd-a7d5-82fd473d8f6f"
      },
      "source": [
        "digits = load_digits(n_class=5)\n",
        "X = digits.data\n",
        "y = digits.target\n",
        "n_samples, n_features = X.shape\n",
        "X.shape"
      ],
      "execution_count": 154,
      "outputs": [
        {
          "output_type": "execute_result",
          "data": {
            "text/plain": [
              "(901, 64)"
            ]
          },
          "metadata": {},
          "execution_count": 154
        }
      ]
    },
    {
      "cell_type": "code",
      "metadata": {
        "colab": {
          "base_uri": "https://localhost:8080/",
          "height": 400
        },
        "id": "6BnNUDii8b_G",
        "outputId": "b94421c3-6908-48a7-fca0-3c0d03d7e935"
      },
      "source": [
        "fig, axs = plt.subplots(nrows=10, ncols=10, figsize=(6, 6))\n",
        "for idx, ax in enumerate(axs.ravel()):\n",
        "    ax.imshow(X[idx].reshape((8, 8)), cmap=plt.cm.binary)\n",
        "    ax.axis(\"off\")\n",
        "_ = fig.suptitle(\"Digits dataset\", fontsize=16)"
      ],
      "execution_count": 155,
      "outputs": [
        {
          "output_type": "display_data",
          "data": {
            "image/png": "[encoded data removed]",
            "text/plain": [
              "<Figure size 432x432 with 100 Axes>"
            ]
          },
          "metadata": {
            "needs_background": "light"
          }
        }
      ]
    },
    {
      "cell_type": "markdown",
      "metadata": {
        "id": "dvbcp0PBc1VM"
      },
      "source": [
        "## Transforming the Data"
      ]
    },
    {
      "cell_type": "code",
      "metadata": {
        "colab": {
          "base_uri": "https://localhost:8080/"
        },
        "id": "Urob0WYv8cgG",
        "outputId": "d169f4c5-e110-4384-8ab6-f2ff42c63929"
      },
      "source": [
        "#here we reduced our image data that contains 64 features into 2 features using TSNE\n",
        "from sklearn.manifold import TSNE\n",
        "\n",
        "tsne_2 = TSNE()\n",
        "data_embeddings_tsne_2 = tsne_2.fit_transform(X)\n"
      ],
      "execution_count": 156,
      "outputs": [
        {
          "output_type": "stream",
          "name": "stderr",
          "text": [
            "/usr/local/lib/python3.7/dist-packages/sklearn/manifold/_t_sne.py:783: FutureWarning: The default initialization in TSNE will change from 'random' to 'pca' in 1.2.\n",
            "  FutureWarning,\n",
            "/usr/local/lib/python3.7/dist-packages/sklearn/manifold/_t_sne.py:793: FutureWarning: The default learning rate in TSNE will change from 200.0 to 'auto' in 1.2.\n",
            "  FutureWarning,\n"
          ]
        }
      ]
    },
    {
      "cell_type": "code",
      "metadata": {
        "colab": {
          "base_uri": "https://localhost:8080/"
        },
        "id": "P9Cbw67N9Cax",
        "outputId": "c3c97a2f-69c0-4b9e-f4d1-7393a56964b6"
      },
      "source": [
        "data_embeddings_tsne_2.shape"
      ],
      "execution_count": 157,
      "outputs": [
        {
          "output_type": "execute_result",
          "data": {
            "text/plain": [
              "(901, 2)"
            ]
          },
          "metadata": {},
          "execution_count": 157
        }
      ]
    },
    {
      "cell_type": "markdown",
      "metadata": {
        "id": "x48JKF4iz93d"
      },
      "source": [
        "##a) Hierarchical Navigable Small Worlds (HNSW)"
      ]
    },
    {
      "cell_type": "code",
      "metadata": {
        "id": "-T63GvIDv2CQ"
      },
      "source": [
        "import nmslib"
      ],
      "execution_count": 158,
      "outputs": []
    },
    {
      "cell_type": "code",
      "metadata": {
        "id": "rdQh9xxJv5OM"
      },
      "source": [
        "hnsw_index = nmslib.init(method='hnsw', space='cosinesimil')\n",
        "hnsw_train_time = time()\n",
        "hnsw_index.addDataPointBatch(data_embeddings_tsne_2)\n",
        "hnsw_index.createIndex({'post': 2})\n",
        "hnse_train_time = time() - hnsw_train_time"
      ],
      "execution_count": 159,
      "outputs": []
    },
    {
      "cell_type": "code",
      "metadata": {
        "colab": {
          "base_uri": "https://localhost:8080/"
        },
        "id": "xxjwtA0Ox549",
        "outputId": "e0475fb4-e067-4c8f-c25e-92ef21e132f6"
      },
      "source": [
        "hnsw_search_time = time()\n",
        "hnsw_output_1 = hnsw_index.knnQuery(data_embeddings_tsne_2[80], k=10)\n",
        "hnsw_search_time = time() - hnsw_search_time\n",
        "hnsw_output_list_1 = [y[i] for i in hnsw_output_1[0]]\n",
        "hnsw_output_list_1"
      ],
      "execution_count": 160,
      "outputs": [
        {
          "output_type": "execute_result",
          "data": {
            "text/plain": [
              "[0, 0, 0, 0, 0, 0, 0, 0, 0, 0]"
            ]
          },
          "metadata": {},
          "execution_count": 160
        }
      ]
    },
    {
      "cell_type": "code",
      "metadata": {
        "colab": {
          "base_uri": "https://localhost:8080/"
        },
        "id": "T_meEikbXqLW",
        "outputId": "3f9d27d8-ea2c-4ea3-892f-6e7da1c8b490"
      },
      "source": [
        "print(\"Time taken to feed data into HNSW : \",hnsw_train_time)\n",
        "print(\"Time taken to search into HNSW : \",hnsw_search_time)"
      ],
      "execution_count": 161,
      "outputs": [
        {
          "output_type": "stream",
          "name": "stdout",
          "text": [
            "Time taken to feed data into HNSW :  1638086075.3895752\n",
            "Time taken to search into HNSW :  0.00014328956604003906\n"
          ]
        }
      ]
    },
    {
      "cell_type": "code",
      "metadata": {
        "colab": {
          "base_uri": "https://localhost:8080/"
        },
        "id": "IsHOiYfYR35V",
        "outputId": "7ad7ebe5-de6c-4cd9-c3fe-64131bdd273c"
      },
      "source": [
        "y[80] #here as you can see that input image we gave above is number 0."
      ],
      "execution_count": 162,
      "outputs": [
        {
          "output_type": "execute_result",
          "data": {
            "text/plain": [
              "0"
            ]
          },
          "metadata": {},
          "execution_count": 162
        }
      ]
    },
    {
      "cell_type": "code",
      "metadata": {
        "colab": {
          "base_uri": "https://localhost:8080/"
        },
        "id": "hp_dzQgdSIXA",
        "outputId": "c7be08d1-f4d1-4feb-afd7-3d69f56f495d"
      },
      "source": [
        "hnsw_output_2 = hnsw_index.knnQuery(data_embeddings_tsne_2[90], k=10)\n",
        "hnsw_output_list_2 = [y[i] for i in hnsw_output_2[0]]\n",
        "hnsw_output_list_2"
      ],
      "execution_count": 163,
      "outputs": [
        {
          "output_type": "execute_result",
          "data": {
            "text/plain": [
              "[2, 2, 2, 2, 2, 2, 2, 2, 2, 2]"
            ]
          },
          "metadata": {},
          "execution_count": 163
        }
      ]
    },
    {
      "cell_type": "code",
      "metadata": {
        "colab": {
          "base_uri": "https://localhost:8080/"
        },
        "id": "1nuDdPbjSSZ-",
        "outputId": "78ee3233-f847-408d-f26c-3bc366bb6c08"
      },
      "source": [
        "y[90] #here as you can see that input image we gave above is number 2."
      ],
      "execution_count": 164,
      "outputs": [
        {
          "output_type": "execute_result",
          "data": {
            "text/plain": [
              "2"
            ]
          },
          "metadata": {},
          "execution_count": 164
        }
      ]
    },
    {
      "cell_type": "markdown",
      "metadata": {
        "id": "ARsoaeCHR3NQ"
      },
      "source": [
        "Here, in above 2 examples as we can see that we feed image vectors into HNSW and we search for any one particular number(vector) and HNSW gives us that list of numbers(vectors) which is similar to our input image(vector)."
      ]
    },
    {
      "cell_type": "markdown",
      "metadata": {
        "id": "5Jt-bzOUAXMt"
      },
      "source": [
        "## b) Exhaustive Search"
      ]
    },
    {
      "cell_type": "code",
      "metadata": {
        "id": "D2ZWf0lb3Ej2"
      },
      "source": [
        "import faiss"
      ],
      "execution_count": 165,
      "outputs": []
    },
    {
      "cell_type": "code",
      "metadata": {
        "id": "umAs5zCA_WRF"
      },
      "source": [
        "exhaustive_search = faiss.IndexFlatL2(data_embeddings_tsne_2.shape[1])\n",
        "exhaustive_train_time = time()\n",
        "exhaustive_search.add(data_embeddings_tsne_2)\n",
        "exhaustive_train_time = time() - exhaustive_train_time"
      ],
      "execution_count": 166,
      "outputs": []
    },
    {
      "cell_type": "code",
      "metadata": {
        "id": "XSk6zBqh_qAY",
        "colab": {
          "base_uri": "https://localhost:8080/"
        },
        "outputId": "692509eb-212e-48e7-d9e1-4a385cb8cbfe"
      },
      "source": [
        "exhaustive_search_time = time()\n",
        "distances, indices = exhaustive_search.search(data_embeddings_tsne_2[80:81], 10)\n",
        "exhaustive_search_time = time() - exhaustive_search_time\n",
        "exhaustive_search_output_list_1 = [y[i] for i in indices[0]]\n",
        "exhaustive_search_output_list_1"
      ],
      "execution_count": 167,
      "outputs": [
        {
          "output_type": "execute_result",
          "data": {
            "text/plain": [
              "[0, 0, 0, 0, 0, 0, 0, 0, 0, 0]"
            ]
          },
          "metadata": {},
          "execution_count": 167
        }
      ]
    },
    {
      "cell_type": "code",
      "metadata": {
        "colab": {
          "base_uri": "https://localhost:8080/"
        },
        "id": "0-I7ElOgY1Ce",
        "outputId": "e33b1205-1749-405f-c2f4-fcd727d3e3e5"
      },
      "source": [
        "print(\"Time taken to feed data into Exhaustive Search : \",exhaustive_train_time)\n",
        "print(\"Time taken to search into Exhaustive Search : \",exhaustive_search_time)"
      ],
      "execution_count": 168,
      "outputs": [
        {
          "output_type": "stream",
          "name": "stdout",
          "text": [
            "Time taken to feed data into Exhaustive Search :  0.0034046173095703125\n",
            "Time taken to search into Exhaustive Search :  0.00410151481628418\n"
          ]
        }
      ]
    },
    {
      "cell_type": "code",
      "metadata": {
        "colab": {
          "base_uri": "https://localhost:8080/"
        },
        "id": "TtVG2QqmTZ92",
        "outputId": "1359cf32-6226-4551-cc1c-3b3f860f22b1"
      },
      "source": [
        "y[80] #here as you can see that input image we gave above is number 0."
      ],
      "execution_count": 169,
      "outputs": [
        {
          "output_type": "execute_result",
          "data": {
            "text/plain": [
              "0"
            ]
          },
          "metadata": {},
          "execution_count": 169
        }
      ]
    },
    {
      "cell_type": "code",
      "metadata": {
        "colab": {
          "base_uri": "https://localhost:8080/"
        },
        "id": "_neIAw5_TfON",
        "outputId": "b8b0767b-55bd-4a07-9a34-0b09d96e189b"
      },
      "source": [
        "distances, indices = exhaustive_search.search(data_embeddings_tsne_2[90:91], 10) \n",
        "exhaustive_search_output_list_2 = [y[i] for i in indices[0]]\n",
        "exhaustive_search_output_list_2"
      ],
      "execution_count": 170,
      "outputs": [
        {
          "output_type": "execute_result",
          "data": {
            "text/plain": [
              "[2, 2, 2, 2, 2, 2, 2, 2, 2, 2]"
            ]
          },
          "metadata": {},
          "execution_count": 170
        }
      ]
    },
    {
      "cell_type": "code",
      "metadata": {
        "colab": {
          "base_uri": "https://localhost:8080/"
        },
        "id": "9jRyaNE_Tba1",
        "outputId": "e70463ad-9a7f-4280-c44e-11a3cb5ba80e"
      },
      "source": [
        "y[90] #here as you can see that input image we gave above is number 2."
      ],
      "execution_count": 171,
      "outputs": [
        {
          "output_type": "execute_result",
          "data": {
            "text/plain": [
              "2"
            ]
          },
          "metadata": {},
          "execution_count": 171
        }
      ]
    },
    {
      "cell_type": "markdown",
      "metadata": {
        "id": "vJ-N_E9STr_F"
      },
      "source": [
        "Here, in above 2 examples as we can see that we feed image vectors into exhaustive search method and we search for any one particular number(vector) and exhaustive search method gives us that list of numbers(vectors) which is similar to our input image(vector)."
      ]
    },
    {
      "cell_type": "markdown",
      "metadata": {
        "id": "WZ5mUtJyAf5G"
      },
      "source": [
        "##c) Product Quantization"
      ]
    },
    {
      "cell_type": "code",
      "metadata": {
        "id": "SFqgM6JnAuak"
      },
      "source": [
        "number_of_partition = 8\n",
        "search_in_x_partitions = 2\n",
        "subvector_size = 8\n",
        "\n",
        "pq_quantizer = faiss.IndexFlatL2(data_embeddings_tsne_2.shape[1])\n",
        "pq = faiss.IndexIVFPQ(pq_quantizer, data_embeddings_tsne_2.shape[1], number_of_partition, search_in_x_partitions, subvector_size)\n",
        "pq_train_time = time()\n",
        "pq.train(data_embeddings_tsne_2)\n",
        "pq.add(data_embeddings_tsne_2)\n",
        "pq_train_time = time() - pq_train_time"
      ],
      "execution_count": 172,
      "outputs": []
    },
    {
      "cell_type": "code",
      "metadata": {
        "colab": {
          "base_uri": "https://localhost:8080/"
        },
        "id": "-X0Ga6oWBXic",
        "outputId": "a0e38292-4c7c-4ad4-fd49-af6bff4384e9"
      },
      "source": [
        "pq_search_time = time()\n",
        "distances, indices = pq.search(data_embeddings_tsne_2[80:81], 10)\n",
        "pq_search_time = time() - pq_search_time \n",
        "pq_output_list_1 =  [y[i] for i in indices[0]]\n",
        "pq_output_list_1"
      ],
      "execution_count": 173,
      "outputs": [
        {
          "output_type": "execute_result",
          "data": {
            "text/plain": [
              "[0, 0, 0, 0, 0, 0, 0, 0, 0, 0]"
            ]
          },
          "metadata": {},
          "execution_count": 173
        }
      ]
    },
    {
      "cell_type": "code",
      "metadata": {
        "colab": {
          "base_uri": "https://localhost:8080/"
        },
        "id": "_FiT7ONcZatN",
        "outputId": "3a86e24b-1403-4da3-c125-40ebb1fa62b2"
      },
      "source": [
        "print(\"Time taken to feed data into Product Quantization : \",pq_train_time)\n",
        "print(\"Time taken to search into Product Quantization : \",pq_search_time)"
      ],
      "execution_count": 174,
      "outputs": [
        {
          "output_type": "stream",
          "name": "stdout",
          "text": [
            "Time taken to feed data into Product Quantization :  0.12990760803222656\n",
            "Time taken to search into Product Quantization :  0.0014691352844238281\n"
          ]
        }
      ]
    },
    {
      "cell_type": "code",
      "metadata": {
        "colab": {
          "base_uri": "https://localhost:8080/"
        },
        "id": "RJ1S12QGT6zW",
        "outputId": "d57ddb38-e5dd-4d7d-ef44-e52baa7e1720"
      },
      "source": [
        "y[80] #here as you can see that input image we gave above is number 0."
      ],
      "execution_count": 175,
      "outputs": [
        {
          "output_type": "execute_result",
          "data": {
            "text/plain": [
              "0"
            ]
          },
          "metadata": {},
          "execution_count": 175
        }
      ]
    },
    {
      "cell_type": "code",
      "metadata": {
        "colab": {
          "base_uri": "https://localhost:8080/"
        },
        "id": "kwFB0cNNT6ol",
        "outputId": "b2507892-b41e-400e-93cf-09e8728a5721"
      },
      "source": [
        "distances, indices = pq.search(data_embeddings_tsne_2[90:91], 10) \n",
        "pq_output_list_2 =  [y[i] for i in indices[0]]\n",
        "pq_output_list_2"
      ],
      "execution_count": 176,
      "outputs": [
        {
          "output_type": "execute_result",
          "data": {
            "text/plain": [
              "[2, 2, 2, 2, 2, 2, 2, 2, 2, 2]"
            ]
          },
          "metadata": {},
          "execution_count": 176
        }
      ]
    },
    {
      "cell_type": "code",
      "metadata": {
        "colab": {
          "base_uri": "https://localhost:8080/"
        },
        "id": "0gW-Jf5PUDkt",
        "outputId": "697209cf-a397-4ec0-d648-6652a5f1f814"
      },
      "source": [
        "y[90] #here as you can see that input image we gave above is number 2."
      ],
      "execution_count": 177,
      "outputs": [
        {
          "output_type": "execute_result",
          "data": {
            "text/plain": [
              "2"
            ]
          },
          "metadata": {},
          "execution_count": 177
        }
      ]
    },
    {
      "cell_type": "markdown",
      "metadata": {
        "id": "5TuISYh1UHBd"
      },
      "source": [
        "Here, in above 2 examples as we can see that we feed image vectors into product quantization method and we search for any one particular number(vector) and product quantization method gives us that list of numbers(vectors) which is similar to our input image(vector)."
      ]
    },
    {
      "cell_type": "markdown",
      "metadata": {
        "id": "Y6PAfZ4NEHUN"
      },
      "source": [
        "## d) Locality Sensitive Hashing (LSH)"
      ]
    },
    {
      "cell_type": "code",
      "metadata": {
        "id": "FjvoJMJtEJyd"
      },
      "source": [
        "lsh = faiss.IndexLSH(data_embeddings_tsne_2.shape[1], 10)\n",
        "lsh_train_time = time()\n",
        "lsh.add(data_embeddings_tsne_2)\n",
        "lsh_train_time = time() - lsh_train_time"
      ],
      "execution_count": 178,
      "outputs": []
    },
    {
      "cell_type": "code",
      "metadata": {
        "colab": {
          "base_uri": "https://localhost:8080/"
        },
        "id": "VV_75hP6F5eM",
        "outputId": "c22d090f-7e59-43b0-ca1d-7d7169500245"
      },
      "source": [
        "lsh_search_time = time()\n",
        "distances, indices = lsh.search(data_embeddings_tsne_2[80:81], k=10)\n",
        "lsh_search_time = time() - lsh_search_time\n",
        "lsh_output_list_1 =  [y[i] for i in indices[0]]\n",
        "lsh_output_list_1"
      ],
      "execution_count": 179,
      "outputs": [
        {
          "output_type": "execute_result",
          "data": {
            "text/plain": [
              "[0, 0, 0, 0, 0, 0, 0, 0, 0, 0]"
            ]
          },
          "metadata": {},
          "execution_count": 179
        }
      ]
    },
    {
      "cell_type": "code",
      "metadata": {
        "colab": {
          "base_uri": "https://localhost:8080/"
        },
        "id": "jPz8qNlAaGsX",
        "outputId": "d66d671c-76af-499f-a80e-f9c7e5bb6ff5"
      },
      "source": [
        "print(\"Time taken to feed data into Locality Sensitive Hashing (LSH) : \",lsh_train_time)\n",
        "print(\"Time taken to search into Locality Sensitive Hashing (LSH) : \",lsh_search_time)"
      ],
      "execution_count": 180,
      "outputs": [
        {
          "output_type": "stream",
          "name": "stdout",
          "text": [
            "Time taken to feed data into Locality Sensitive Hashing (LSH) :  0.0006318092346191406\n",
            "Time taken to search into Locality Sensitive Hashing (LSH) :  0.002503633499145508\n"
          ]
        }
      ]
    },
    {
      "cell_type": "code",
      "metadata": {
        "colab": {
          "base_uri": "https://localhost:8080/"
        },
        "id": "psmYG-yaUXfh",
        "outputId": "c4775757-8808-48da-c754-88cd228181d6"
      },
      "source": [
        "y[80] #here as you can see that input image we gave above is number 0."
      ],
      "execution_count": 181,
      "outputs": [
        {
          "output_type": "execute_result",
          "data": {
            "text/plain": [
              "0"
            ]
          },
          "metadata": {},
          "execution_count": 181
        }
      ]
    },
    {
      "cell_type": "code",
      "metadata": {
        "colab": {
          "base_uri": "https://localhost:8080/"
        },
        "id": "oAdOYQfxUYA-",
        "outputId": "51fdd2f9-c9c9-4575-ae77-355ba0706696"
      },
      "source": [
        "distances, indices = lsh.search(data_embeddings_tsne_2[90:91], k=10)\n",
        "lsh_output_list_2 =  [y[i] for i in indices[0]]\n",
        "lsh_output_list_2"
      ],
      "execution_count": 182,
      "outputs": [
        {
          "output_type": "execute_result",
          "data": {
            "text/plain": [
              "[2, 2, 2, 2, 2, 2, 2, 2, 2, 2]"
            ]
          },
          "metadata": {},
          "execution_count": 182
        }
      ]
    },
    {
      "cell_type": "code",
      "metadata": {
        "colab": {
          "base_uri": "https://localhost:8080/"
        },
        "id": "_yoSBlOIUkmn",
        "outputId": "9161cd3e-1003-4431-d3af-3cee2e8d3831"
      },
      "source": [
        "y[90] #here as you can see that input image we gave above is number 2."
      ],
      "execution_count": 183,
      "outputs": [
        {
          "output_type": "execute_result",
          "data": {
            "text/plain": [
              "2"
            ]
          },
          "metadata": {},
          "execution_count": 183
        }
      ]
    },
    {
      "cell_type": "markdown",
      "metadata": {
        "id": "ArWyaNLvUpv2"
      },
      "source": [
        "Here, in above 2 examples as we can see that we feed image vectors into LSH method and we search for any one particular number(vector) and LSH method gives us that list of numbers(vectors) which is similar to our input image(vector)."
      ]
    },
    {
      "cell_type": "markdown",
      "metadata": {
        "id": "sJlk43a7OYXd"
      },
      "source": [
        "## e) Trees and Graphs"
      ]
    },
    {
      "cell_type": "markdown",
      "metadata": {
        "id": "7oiLYXQdU2OB"
      },
      "source": [
        "Part 1. Trees"
      ]
    },
    {
      "cell_type": "code",
      "metadata": {
        "id": "sFPNj9B-IclG"
      },
      "source": [
        "import annoy"
      ],
      "execution_count": 184,
      "outputs": []
    },
    {
      "cell_type": "code",
      "metadata": {
        "colab": {
          "base_uri": "https://localhost:8080/"
        },
        "id": "LubLMFZxI1xv",
        "outputId": "48d86e26-49f0-4a19-c019-cf4bac9093c2"
      },
      "source": [
        "number_of_trees = 5\n",
        "annoy_index = annoy.AnnoyIndex(data_embeddings_tsne_2.shape[1])\n",
        "trees_train_time = time()\n",
        "for i, vec in enumerate(data_embeddings_tsne_2):\n",
        "  annoy_index.add_item(i, vec.tolist())\n",
        "annoy_index.build(number_of_trees)\n",
        "trees_train_time = time() - trees_train_time"
      ],
      "execution_count": 185,
      "outputs": [
        {
          "output_type": "stream",
          "name": "stderr",
          "text": [
            "/usr/local/lib/python3.7/dist-packages/ipykernel_launcher.py:2: FutureWarning: The default argument for metric will be removed in future version of Annoy. Please pass metric='angular' explicitly.\n",
            "  \n"
          ]
        }
      ]
    },
    {
      "cell_type": "code",
      "metadata": {
        "id": "FNVmQpEJJM7-",
        "colab": {
          "base_uri": "https://localhost:8080/"
        },
        "outputId": "f99e2702-83d7-4ff1-b703-8845d5d49e17"
      },
      "source": [
        "trees_search_time = time()\n",
        "annoy_indices = annoy_index.get_nns_by_vector(data_embeddings_tsne_2[80].tolist(), 10)\n",
        "trees_search_time = time() - trees_search_time\n",
        "annoy_output_list_1 = [y[i] for i in annoy_indices]\n",
        "annoy_output_list_1"
      ],
      "execution_count": 186,
      "outputs": [
        {
          "output_type": "execute_result",
          "data": {
            "text/plain": [
              "[0, 0, 0, 0, 0, 0, 0, 0, 0, 0]"
            ]
          },
          "metadata": {},
          "execution_count": 186
        }
      ]
    },
    {
      "cell_type": "code",
      "metadata": {
        "colab": {
          "base_uri": "https://localhost:8080/"
        },
        "id": "8_KYhv_eangr",
        "outputId": "bfa0fad4-a076-4d7d-87f0-07934a3b5c80"
      },
      "source": [
        "print(\"Time taken to feed data into Trees : \",trees_train_time)\n",
        "print(\"Time taken to search into Trees : \",trees_search_time)"
      ],
      "execution_count": 187,
      "outputs": [
        {
          "output_type": "stream",
          "name": "stdout",
          "text": [
            "Time taken to feed data into Trees :  0.06620383262634277\n",
            "Time taken to search into Trees :  0.0016701221466064453\n"
          ]
        }
      ]
    },
    {
      "cell_type": "code",
      "metadata": {
        "colab": {
          "base_uri": "https://localhost:8080/"
        },
        "id": "Sq6SxeNEJtey",
        "outputId": "9c72bba8-ad11-47ce-fc99-2bb44775b5a3"
      },
      "source": [
        "y[80] #here as you can see that input image we gave above is number 2."
      ],
      "execution_count": 188,
      "outputs": [
        {
          "output_type": "execute_result",
          "data": {
            "text/plain": [
              "0"
            ]
          },
          "metadata": {},
          "execution_count": 188
        }
      ]
    },
    {
      "cell_type": "code",
      "metadata": {
        "id": "ugCbmPNacK8L",
        "colab": {
          "base_uri": "https://localhost:8080/"
        },
        "outputId": "86d391b0-017e-4de1-ef09-642e1c96bde9"
      },
      "source": [
        "annoy_indices = annoy_index.get_nns_by_vector(data_embeddings_tsne_2[90].tolist(), 10)\n",
        "annoy_output_list_2 = [y[i] for i in annoy_indices]\n",
        "annoy_output_list_2"
      ],
      "execution_count": 189,
      "outputs": [
        {
          "output_type": "execute_result",
          "data": {
            "text/plain": [
              "[2, 2, 2, 2, 2, 2, 2, 2, 2, 2]"
            ]
          },
          "metadata": {},
          "execution_count": 189
        }
      ]
    },
    {
      "cell_type": "code",
      "metadata": {
        "colab": {
          "base_uri": "https://localhost:8080/"
        },
        "id": "fURe9JN1VIeA",
        "outputId": "dd0218eb-fd47-48a5-afc9-c453f6bcf343"
      },
      "source": [
        "y[90] #here as you can see that input image we gave above is number 2."
      ],
      "execution_count": 190,
      "outputs": [
        {
          "output_type": "execute_result",
          "data": {
            "text/plain": [
              "2"
            ]
          },
          "metadata": {},
          "execution_count": 190
        }
      ]
    },
    {
      "cell_type": "markdown",
      "metadata": {
        "id": "CYyRq6_TU6z-"
      },
      "source": [
        "Part 2: Graphs"
      ]
    },
    {
      "cell_type": "code",
      "metadata": {
        "id": "WE1utztgcK2d"
      },
      "source": [
        "graph_index = faiss.IndexHNSWFlat(data_embeddings_tsne_2.shape[1], 10)\n",
        "graph_train_time = time()\n",
        "graph_index.add(data_embeddings_tsne_2)\n",
        "graph_train_time = time() - graph_train_time"
      ],
      "execution_count": 191,
      "outputs": []
    },
    {
      "cell_type": "code",
      "metadata": {
        "id": "0gyBKsVXVLIP",
        "colab": {
          "base_uri": "https://localhost:8080/"
        },
        "outputId": "3b08e445-19e6-4747-e895-deeb63552dea"
      },
      "source": [
        "graph_search_time = time()\n",
        "distances, indices = graph_index.search(data_embeddings_tsne_2[80:81], k=10)\n",
        "graph_search_time = time() - graph_search_time\n",
        "graph_output_list_1 = [y[i] for i in indices[0]]\n",
        "graph_output_list_1"
      ],
      "execution_count": 192,
      "outputs": [
        {
          "output_type": "execute_result",
          "data": {
            "text/plain": [
              "[0, 0, 0, 0, 0, 0, 0, 0, 0, 0]"
            ]
          },
          "metadata": {},
          "execution_count": 192
        }
      ]
    },
    {
      "cell_type": "code",
      "metadata": {
        "colab": {
          "base_uri": "https://localhost:8080/"
        },
        "id": "t1OVkdzmbEs-",
        "outputId": "cf44b2b3-72ef-4152-e403-f3ce296c8096"
      },
      "source": [
        "print(\"Time taken to feed data into Graphs : \",graph_train_time)\n",
        "print(\"Time taken to search into Graphs : \",graph_search_time)"
      ],
      "execution_count": 193,
      "outputs": [
        {
          "output_type": "stream",
          "name": "stdout",
          "text": [
            "Time taken to feed data into Graphs :  0.01867389678955078\n",
            "Time taken to search into Graphs :  0.001573801040649414\n"
          ]
        }
      ]
    },
    {
      "cell_type": "code",
      "metadata": {
        "colab": {
          "base_uri": "https://localhost:8080/"
        },
        "id": "QyVAu3IcVUYG",
        "outputId": "06eb50a3-78d8-47f5-c1a6-26669a6b62db"
      },
      "source": [
        "y[80]"
      ],
      "execution_count": 194,
      "outputs": [
        {
          "output_type": "execute_result",
          "data": {
            "text/plain": [
              "0"
            ]
          },
          "metadata": {},
          "execution_count": 194
        }
      ]
    },
    {
      "cell_type": "code",
      "metadata": {
        "colab": {
          "base_uri": "https://localhost:8080/"
        },
        "id": "2DHH4diUVVnV",
        "outputId": "0885716b-c594-4a1e-829a-49d4e9a264e5"
      },
      "source": [
        "distances, indices = graph_index.search(data_embeddings_tsne_2[90:91], k=10)\n",
        "graph_output_list_2 = [y[i] for i in indices[0]]\n",
        "graph_output_list_2"
      ],
      "execution_count": 195,
      "outputs": [
        {
          "output_type": "execute_result",
          "data": {
            "text/plain": [
              "[2, 2, 2, 2, 2, 2, 2, 2, 2, 2]"
            ]
          },
          "metadata": {},
          "execution_count": 195
        }
      ]
    },
    {
      "cell_type": "code",
      "metadata": {
        "colab": {
          "base_uri": "https://localhost:8080/"
        },
        "id": "xPG36VXyVZe9",
        "outputId": "7ec7fa74-7173-46f1-c478-32689d4bfc55"
      },
      "source": [
        "y[90]"
      ],
      "execution_count": 196,
      "outputs": [
        {
          "output_type": "execute_result",
          "data": {
            "text/plain": [
              "2"
            ]
          },
          "metadata": {},
          "execution_count": 196
        }
      ]
    },
    {
      "cell_type": "markdown",
      "metadata": {
        "id": "9lYAItNaVmVd"
      },
      "source": [
        "Here, in above 2 examples as we can see that we feed image vectors into trees and graphs method and we search for any one particular number(vector) and trees and graphs method gives us that list of numbers(vectors) which is similar to our input image(vector)."
      ]
    },
    {
      "cell_type": "code",
      "metadata": {
        "colab": {
          "base_uri": "https://localhost:8080/"
        },
        "id": "J_8MaCAqbOrW",
        "outputId": "e51518e5-f714-4bce-ed2f-886281c832d2"
      },
      "source": [
        "print(\"Time taken to feed data into HNSW : \",hnsw_train_time)\n",
        "print(\"Time taken to feed data into Exhaustive Search : \",exhaustive_train_time)\n",
        "print(\"Time taken to feed data into Product Quantization : \",pq_train_time)\n",
        "print(\"Time taken to feed data into Locality Sensitive Hashing (LSH) : \",lsh_train_time)\n",
        "print(\"Time taken to feed data into Trees : \",trees_train_time)\n",
        "print(\"Time taken to feed data into Graphs : \",graph_train_time)"
      ],
      "execution_count": 197,
      "outputs": [
        {
          "output_type": "stream",
          "name": "stdout",
          "text": [
            "Time taken to feed data into HNSW :  1638086075.3895752\n",
            "Time taken to feed data into Exhaustive Search :  0.0034046173095703125\n",
            "Time taken to feed data into Product Quantization :  0.12990760803222656\n",
            "Time taken to feed data into Locality Sensitive Hashing (LSH) :  0.0006318092346191406\n",
            "Time taken to feed data into Trees :  0.06620383262634277\n",
            "Time taken to feed data into Graphs :  0.01867389678955078\n"
          ]
        }
      ]
    },
    {
      "cell_type": "code",
      "metadata": {
        "colab": {
          "base_uri": "https://localhost:8080/"
        },
        "id": "Ua5Adat1bo00",
        "outputId": "30600f98-47de-478d-f975-2ebf6a1a68b0"
      },
      "source": [
        "print(\"Time taken to search into HNSW : \",hnsw_search_time)\n",
        "print(\"Time taken to search into Exhaustive Search : \",exhaustive_search_time)\n",
        "print(\"Time taken to search into Product Quantization : \",pq_search_time)\n",
        "print(\"Time taken to search into Locality Sensitive Hashing (LSH) : \",lsh_search_time)\n",
        "print(\"Time taken to search into Trees : \",trees_search_time)\n",
        "print(\"Time taken to search into Graphs : \",graph_search_time)"
      ],
      "execution_count": 198,
      "outputs": [
        {
          "output_type": "stream",
          "name": "stdout",
          "text": [
            "Time taken to search into HNSW :  0.00014328956604003906\n",
            "Time taken to search into Exhaustive Search :  0.00410151481628418\n",
            "Time taken to search into Product Quantization :  0.0014691352844238281\n",
            "Time taken to search into Locality Sensitive Hashing (LSH) :  0.002503633499145508\n",
            "Time taken to search into Trees :  0.0016701221466064453\n",
            "Time taken to search into Graphs :  0.001573801040649414\n"
          ]
        }
      ]
    },
    {
      "cell_type": "markdown",
      "metadata": {
        "id": "4EVKl7eUdwwB"
      },
      "source": [
        "As you can see from the above results,\n",
        "  \n",
        "*   HNSW takes longer time to feed the data for NMSLIB method, but it takes less time for searching and it also supports batch  queries.\n",
        "*   Product Quantization method takes second highest time to feed the data as it uses less memory and it performs good in the searching.\n",
        "\n",
        "*  Locality Sensitive Hashing (LSH) takes very less time to feed the data, and also takes less time for searching. but it needs more RAM. \n",
        "\n",
        "\n",
        "\n",
        "\n"
      ]
    }
  ]
}